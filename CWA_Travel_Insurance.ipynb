{
  "nbformat": 4,
  "nbformat_minor": 0,
  "metadata": {
    "colab": {
      "name": "CWA Travel Insurance.ipynb",
      "provenance": [],
      "collapsed_sections": [],
      "authorship_tag": "ABX9TyMBplRt6/mP3ANX4LyxgtlA",
      "include_colab_link": true
    },
    "kernelspec": {
      "name": "python3",
      "display_name": "Python 3"
    }
  },
  "cells": [
    {
      "cell_type": "markdown",
      "metadata": {
        "id": "view-in-github",
        "colab_type": "text"
      },
      "source": [
        "<a href=\"https://colab.research.google.com/github/salilathalye/chats-with-austin/blob/main/CWA_Travel_Insurance.ipynb\" target=\"_parent\"><img src=\"https://colab.research.google.com/assets/colab-badge.svg\" alt=\"Open In Colab\"/></a>"
      ]
    },
    {
      "cell_type": "code",
      "metadata": {
        "colab": {
          "base_uri": "https://localhost:8080/"
        },
        "id": "QuQRHULpwMwz",
        "outputId": "e1cd472b-55b4-4ec5-f685-449a94e51b65"
      },
      "source": [
        "!pip install scikit-learn==0.23.1 --quiet\n",
        "!pip install imblearn --quiet"
      ],
      "execution_count": null,
      "outputs": [
        {
          "output_type": "stream",
          "text": [
            "\u001b[K     |████████████████████████████████| 6.9MB 5.9MB/s \n",
            "\u001b[?25h"
          ],
          "name": "stdout"
        }
      ]
    },
    {
      "cell_type": "code",
      "metadata": {
        "id": "5dUT2yuDwe72"
      },
      "source": [
        "import pandas as pd\r\n",
        "import numpy as np\r\n",
        "import matplotlib.pyplot as plt\r\n",
        "import seaborn as sns"
      ],
      "execution_count": null,
      "outputs": []
    },
    {
      "cell_type": "code",
      "metadata": {
        "id": "dy09vq7MwltF"
      },
      "source": [
        "insurance_data = pd.read_csv(\"https://github.com/dphi-official/Datasets/blob/master/travel_insurance/Training_set_label.csv?raw=true\")"
      ],
      "execution_count": null,
      "outputs": []
    },
    {
      "cell_type": "code",
      "metadata": {
        "colab": {
          "base_uri": "https://localhost:8080/"
        },
        "id": "H_JZC1aNwqjk",
        "outputId": "1f7660c2-221d-42b0-a44d-c41504723349"
      },
      "source": [
        "insurance_data.info()"
      ],
      "execution_count": null,
      "outputs": [
        {
          "output_type": "stream",
          "text": [
            "<class 'pandas.core.frame.DataFrame'>\n",
            "RangeIndex: 48260 entries, 0 to 48259\n",
            "Data columns (total 11 columns):\n",
            " #   Column                Non-Null Count  Dtype  \n",
            "---  ------                --------------  -----  \n",
            " 0   Agency                48260 non-null  object \n",
            " 1   Agency Type           48260 non-null  object \n",
            " 2   Distribution Channel  48260 non-null  object \n",
            " 3   Product Name          48260 non-null  object \n",
            " 4   Duration              48260 non-null  int64  \n",
            " 5   Destination           48260 non-null  object \n",
            " 6   Net Sales             48260 non-null  float64\n",
            " 7   Commision (in value)  48260 non-null  float64\n",
            " 8   Gender                13899 non-null  object \n",
            " 9   Age                   48260 non-null  int64  \n",
            " 10  Claim                 48260 non-null  int64  \n",
            "dtypes: float64(2), int64(3), object(6)\n",
            "memory usage: 4.1+ MB\n"
          ],
          "name": "stdout"
        }
      ]
    },
    {
      "cell_type": "code",
      "metadata": {
        "colab": {
          "base_uri": "https://localhost:8080/",
          "height": 284
        },
        "id": "h_Ecphe0wwQM",
        "outputId": "71b0681d-c3f6-471d-aa15-7d528914863f"
      },
      "source": [
        "insurance_data.describe()"
      ],
      "execution_count": null,
      "outputs": [
        {
          "output_type": "execute_result",
          "data": {
            "text/html": [
              "<div>\n",
              "<style scoped>\n",
              "    .dataframe tbody tr th:only-of-type {\n",
              "        vertical-align: middle;\n",
              "    }\n",
              "\n",
              "    .dataframe tbody tr th {\n",
              "        vertical-align: top;\n",
              "    }\n",
              "\n",
              "    .dataframe thead th {\n",
              "        text-align: right;\n",
              "    }\n",
              "</style>\n",
              "<table border=\"1\" class=\"dataframe\">\n",
              "  <thead>\n",
              "    <tr style=\"text-align: right;\">\n",
              "      <th></th>\n",
              "      <th>Duration</th>\n",
              "      <th>Net Sales</th>\n",
              "      <th>Commision (in value)</th>\n",
              "      <th>Age</th>\n",
              "      <th>Claim</th>\n",
              "    </tr>\n",
              "  </thead>\n",
              "  <tbody>\n",
              "    <tr>\n",
              "      <th>count</th>\n",
              "      <td>48260.000000</td>\n",
              "      <td>48260.000000</td>\n",
              "      <td>48260.000000</td>\n",
              "      <td>48260.000000</td>\n",
              "      <td>48260.000000</td>\n",
              "    </tr>\n",
              "    <tr>\n",
              "      <th>mean</th>\n",
              "      <td>49.546602</td>\n",
              "      <td>40.747647</td>\n",
              "      <td>9.811735</td>\n",
              "      <td>39.927269</td>\n",
              "      <td>0.014671</td>\n",
              "    </tr>\n",
              "    <tr>\n",
              "      <th>std</th>\n",
              "      <td>104.828147</td>\n",
              "      <td>48.823217</td>\n",
              "      <td>19.695339</td>\n",
              "      <td>14.027329</td>\n",
              "      <td>0.120231</td>\n",
              "    </tr>\n",
              "    <tr>\n",
              "      <th>min</th>\n",
              "      <td>-2.000000</td>\n",
              "      <td>-389.000000</td>\n",
              "      <td>0.000000</td>\n",
              "      <td>0.000000</td>\n",
              "      <td>0.000000</td>\n",
              "    </tr>\n",
              "    <tr>\n",
              "      <th>25%</th>\n",
              "      <td>9.000000</td>\n",
              "      <td>18.000000</td>\n",
              "      <td>0.000000</td>\n",
              "      <td>35.000000</td>\n",
              "      <td>0.000000</td>\n",
              "    </tr>\n",
              "    <tr>\n",
              "      <th>50%</th>\n",
              "      <td>22.000000</td>\n",
              "      <td>27.000000</td>\n",
              "      <td>0.000000</td>\n",
              "      <td>36.000000</td>\n",
              "      <td>0.000000</td>\n",
              "    </tr>\n",
              "    <tr>\n",
              "      <th>75%</th>\n",
              "      <td>53.000000</td>\n",
              "      <td>48.000000</td>\n",
              "      <td>11.630000</td>\n",
              "      <td>43.000000</td>\n",
              "      <td>0.000000</td>\n",
              "    </tr>\n",
              "    <tr>\n",
              "      <th>max</th>\n",
              "      <td>4881.000000</td>\n",
              "      <td>666.000000</td>\n",
              "      <td>262.760000</td>\n",
              "      <td>118.000000</td>\n",
              "      <td>1.000000</td>\n",
              "    </tr>\n",
              "  </tbody>\n",
              "</table>\n",
              "</div>"
            ],
            "text/plain": [
              "           Duration     Net Sales  ...           Age         Claim\n",
              "count  48260.000000  48260.000000  ...  48260.000000  48260.000000\n",
              "mean      49.546602     40.747647  ...     39.927269      0.014671\n",
              "std      104.828147     48.823217  ...     14.027329      0.120231\n",
              "min       -2.000000   -389.000000  ...      0.000000      0.000000\n",
              "25%        9.000000     18.000000  ...     35.000000      0.000000\n",
              "50%       22.000000     27.000000  ...     36.000000      0.000000\n",
              "75%       53.000000     48.000000  ...     43.000000      0.000000\n",
              "max     4881.000000    666.000000  ...    118.000000      1.000000\n",
              "\n",
              "[8 rows x 5 columns]"
            ]
          },
          "metadata": {
            "tags": []
          },
          "execution_count": 5
        }
      ]
    },
    {
      "cell_type": "code",
      "metadata": {
        "colab": {
          "base_uri": "https://localhost:8080/"
        },
        "id": "FeFZwBI4wQOm",
        "outputId": "2359e823-a922-4977-d1d6-2d8d1321162a"
      },
      "source": [
        "insurance_data['Claim'].value_counts()"
      ],
      "execution_count": null,
      "outputs": [
        {
          "output_type": "execute_result",
          "data": {
            "text/plain": [
              "0    47552\n",
              "1      708\n",
              "Name: Claim, dtype: int64"
            ]
          },
          "metadata": {
            "tags": []
          },
          "execution_count": 6
        }
      ]
    },
    {
      "cell_type": "code",
      "metadata": {
        "colab": {
          "base_uri": "https://localhost:8080/",
          "height": 136
        },
        "id": "unfetgyGwpmv",
        "outputId": "361aeb2e-dc90-46e1-88e5-365ca2b85d14"
      },
      "source": [
        "insurance_data.groupby(['Claim']).agg('mean')"
      ],
      "execution_count": null,
      "outputs": [
        {
          "output_type": "execute_result",
          "data": {
            "text/html": [
              "<div>\n",
              "<style scoped>\n",
              "    .dataframe tbody tr th:only-of-type {\n",
              "        vertical-align: middle;\n",
              "    }\n",
              "\n",
              "    .dataframe tbody tr th {\n",
              "        vertical-align: top;\n",
              "    }\n",
              "\n",
              "    .dataframe thead th {\n",
              "        text-align: right;\n",
              "    }\n",
              "</style>\n",
              "<table border=\"1\" class=\"dataframe\">\n",
              "  <thead>\n",
              "    <tr style=\"text-align: right;\">\n",
              "      <th></th>\n",
              "      <th>Duration</th>\n",
              "      <th>Net Sales</th>\n",
              "      <th>Commision (in value)</th>\n",
              "      <th>Age</th>\n",
              "    </tr>\n",
              "    <tr>\n",
              "      <th>Claim</th>\n",
              "      <th></th>\n",
              "      <th></th>\n",
              "      <th></th>\n",
              "      <th></th>\n",
              "    </tr>\n",
              "  </thead>\n",
              "  <tbody>\n",
              "    <tr>\n",
              "      <th>0</th>\n",
              "      <td>48.611983</td>\n",
              "      <td>39.931018</td>\n",
              "      <td>9.573973</td>\n",
              "      <td>39.945071</td>\n",
              "    </tr>\n",
              "    <tr>\n",
              "      <th>1</th>\n",
              "      <td>112.319209</td>\n",
              "      <td>95.595579</td>\n",
              "      <td>25.780749</td>\n",
              "      <td>38.731638</td>\n",
              "    </tr>\n",
              "  </tbody>\n",
              "</table>\n",
              "</div>"
            ],
            "text/plain": [
              "         Duration  Net Sales  Commision (in value)        Age\n",
              "Claim                                                        \n",
              "0       48.611983  39.931018              9.573973  39.945071\n",
              "1      112.319209  95.595579             25.780749  38.731638"
            ]
          },
          "metadata": {
            "tags": []
          },
          "execution_count": 7
        }
      ]
    },
    {
      "cell_type": "code",
      "metadata": {
        "colab": {
          "base_uri": "https://localhost:8080/",
          "height": 401
        },
        "id": "PGBUyqPV1puA",
        "outputId": "4dcc3959-6a66-49cb-edfa-ac06e5f9a7b9"
      },
      "source": [
        "sns.catplot(x='Gender', kind='count', data=insurance_data)"
      ],
      "execution_count": null,
      "outputs": [
        {
          "output_type": "execute_result",
          "data": {
            "text/plain": [
              "<seaborn.axisgrid.FacetGrid at 0x7f87fea76550>"
            ]
          },
          "metadata": {
            "tags": []
          },
          "execution_count": 8
        },
        {
          "output_type": "display_data",
          "data": {
            "image/png": "[encoded data removed]",
            "text/plain": [
              "<Figure size 360x360 with 1 Axes>"
            ]
          },
          "metadata": {
            "tags": [],
            "needs_background": "light"
          }
        }
      ]
    },
    {
      "cell_type": "code",
      "metadata": {
        "colab": {
          "base_uri": "https://localhost:8080/",
          "height": 166
        },
        "id": "3aSwZzSMxMnw",
        "outputId": "901b12f4-0f4f-4216-de79-842343908652"
      },
      "source": [
        "insurance_data.drop(labels=['Claim'], axis=1).groupby(['Gender'], dropna=False).agg('mean')"
      ],
      "execution_count": null,
      "outputs": [
        {
          "output_type": "execute_result",
          "data": {
            "text/html": [
              "<div>\n",
              "<style scoped>\n",
              "    .dataframe tbody tr th:only-of-type {\n",
              "        vertical-align: middle;\n",
              "    }\n",
              "\n",
              "    .dataframe tbody tr th {\n",
              "        vertical-align: top;\n",
              "    }\n",
              "\n",
              "    .dataframe thead th {\n",
              "        text-align: right;\n",
              "    }\n",
              "</style>\n",
              "<table border=\"1\" class=\"dataframe\">\n",
              "  <thead>\n",
              "    <tr style=\"text-align: right;\">\n",
              "      <th></th>\n",
              "      <th>Duration</th>\n",
              "      <th>Net Sales</th>\n",
              "      <th>Commision (in value)</th>\n",
              "      <th>Age</th>\n",
              "    </tr>\n",
              "    <tr>\n",
              "      <th>Gender</th>\n",
              "      <th></th>\n",
              "      <th></th>\n",
              "      <th></th>\n",
              "      <th></th>\n",
              "    </tr>\n",
              "  </thead>\n",
              "  <tbody>\n",
              "    <tr>\n",
              "      <th>F</th>\n",
              "      <td>75.609583</td>\n",
              "      <td>59.577445</td>\n",
              "      <td>18.944117</td>\n",
              "      <td>43.045253</td>\n",
              "    </tr>\n",
              "    <tr>\n",
              "      <th>M</th>\n",
              "      <td>61.795292</td>\n",
              "      <td>56.008024</td>\n",
              "      <td>18.084174</td>\n",
              "      <td>46.435477</td>\n",
              "    </tr>\n",
              "    <tr>\n",
              "      <th>NaN</th>\n",
              "      <td>41.873461</td>\n",
              "      <td>33.872399</td>\n",
              "      <td>6.296308</td>\n",
              "      <td>37.961875</td>\n",
              "    </tr>\n",
              "  </tbody>\n",
              "</table>\n",
              "</div>"
            ],
            "text/plain": [
              "         Duration  Net Sales  Commision (in value)        Age\n",
              "Gender                                                       \n",
              "F       75.609583  59.577445             18.944117  43.045253\n",
              "M       61.795292  56.008024             18.084174  46.435477\n",
              "NaN     41.873461  33.872399              6.296308  37.961875"
            ]
          },
          "metadata": {
            "tags": []
          },
          "execution_count": 9
        }
      ]
    },
    {
      "cell_type": "code",
      "metadata": {
        "colab": {
          "base_uri": "https://localhost:8080/",
          "height": 166
        },
        "id": "kn8Z7VrT2QDG",
        "outputId": "b6cd6d65-d0f7-4767-8458-e12b466f792d"
      },
      "source": [
        "insurance_data.groupby(['Gender'], dropna=False).agg({'Claim':'count'})"
      ],
      "execution_count": null,
      "outputs": [
        {
          "output_type": "execute_result",
          "data": {
            "text/html": [
              "<div>\n",
              "<style scoped>\n",
              "    .dataframe tbody tr th:only-of-type {\n",
              "        vertical-align: middle;\n",
              "    }\n",
              "\n",
              "    .dataframe tbody tr th {\n",
              "        vertical-align: top;\n",
              "    }\n",
              "\n",
              "    .dataframe thead th {\n",
              "        text-align: right;\n",
              "    }\n",
              "</style>\n",
              "<table border=\"1\" class=\"dataframe\">\n",
              "  <thead>\n",
              "    <tr style=\"text-align: right;\">\n",
              "      <th></th>\n",
              "      <th>Claim</th>\n",
              "    </tr>\n",
              "    <tr>\n",
              "      <th>Gender</th>\n",
              "      <th></th>\n",
              "    </tr>\n",
              "  </thead>\n",
              "  <tbody>\n",
              "    <tr>\n",
              "      <th>F</th>\n",
              "      <td>6762</td>\n",
              "    </tr>\n",
              "    <tr>\n",
              "      <th>M</th>\n",
              "      <td>7137</td>\n",
              "    </tr>\n",
              "    <tr>\n",
              "      <th>NaN</th>\n",
              "      <td>34361</td>\n",
              "    </tr>\n",
              "  </tbody>\n",
              "</table>\n",
              "</div>"
            ],
            "text/plain": [
              "        Claim\n",
              "Gender       \n",
              "F        6762\n",
              "M        7137\n",
              "NaN     34361"
            ]
          },
          "metadata": {
            "tags": []
          },
          "execution_count": 10
        }
      ]
    },
    {
      "cell_type": "code",
      "metadata": {
        "colab": {
          "base_uri": "https://localhost:8080/",
          "height": 401
        },
        "id": "qVudmhr724bz",
        "outputId": "d62af5cf-7d65-43ff-e4a9-914cb6048ee1"
      },
      "source": [
        "sns.catplot(y='Agency', kind='count', data=insurance_data)"
      ],
      "execution_count": null,
      "outputs": [
        {
          "output_type": "execute_result",
          "data": {
            "text/plain": [
              "<seaborn.axisgrid.FacetGrid at 0x7f87db2235f8>"
            ]
          },
          "metadata": {
            "tags": []
          },
          "execution_count": 11
        },
        {
          "output_type": "display_data",
          "data": {
            "image/png": "[encoded data removed]",
            "text/plain": [
              "<Figure size 360x360 with 1 Axes>"
            ]
          },
          "metadata": {
            "tags": [],
            "needs_background": "light"
          }
        }
      ]
    },
    {
      "cell_type": "code",
      "metadata": {
        "colab": {
          "base_uri": "https://localhost:8080/",
          "height": 550
        },
        "id": "1VwkkmIhx7Lo",
        "outputId": "ffa3a25c-e384-461e-f100-632dd498b717"
      },
      "source": [
        "insurance_data.drop(labels=['Claim'], axis=1).groupby(['Agency'], dropna=False).agg('mean')"
      ],
      "execution_count": null,
      "outputs": [
        {
          "output_type": "execute_result",
          "data": {
            "text/html": [
              "<div>\n",
              "<style scoped>\n",
              "    .dataframe tbody tr th:only-of-type {\n",
              "        vertical-align: middle;\n",
              "    }\n",
              "\n",
              "    .dataframe tbody tr th {\n",
              "        vertical-align: top;\n",
              "    }\n",
              "\n",
              "    .dataframe thead th {\n",
              "        text-align: right;\n",
              "    }\n",
              "</style>\n",
              "<table border=\"1\" class=\"dataframe\">\n",
              "  <thead>\n",
              "    <tr style=\"text-align: right;\">\n",
              "      <th></th>\n",
              "      <th>Duration</th>\n",
              "      <th>Net Sales</th>\n",
              "      <th>Commision (in value)</th>\n",
              "      <th>Age</th>\n",
              "    </tr>\n",
              "    <tr>\n",
              "      <th>Agency</th>\n",
              "      <th></th>\n",
              "      <th></th>\n",
              "      <th></th>\n",
              "      <th></th>\n",
              "    </tr>\n",
              "  </thead>\n",
              "  <tbody>\n",
              "    <tr>\n",
              "      <th>ADM</th>\n",
              "      <td>44.910714</td>\n",
              "      <td>54.946429</td>\n",
              "      <td>36.683571</td>\n",
              "      <td>22.964286</td>\n",
              "    </tr>\n",
              "    <tr>\n",
              "      <th>ART</th>\n",
              "      <td>31.713710</td>\n",
              "      <td>28.650242</td>\n",
              "      <td>10.560040</td>\n",
              "      <td>60.233871</td>\n",
              "    </tr>\n",
              "    <tr>\n",
              "      <th>C2B</th>\n",
              "      <td>95.756369</td>\n",
              "      <td>79.802704</td>\n",
              "      <td>20.753271</td>\n",
              "      <td>37.766879</td>\n",
              "    </tr>\n",
              "    <tr>\n",
              "      <th>CBH</th>\n",
              "      <td>90.328571</td>\n",
              "      <td>27.600000</td>\n",
              "      <td>9.890571</td>\n",
              "      <td>57.971429</td>\n",
              "    </tr>\n",
              "    <tr>\n",
              "      <th>CCR</th>\n",
              "      <td>63.541935</td>\n",
              "      <td>30.393548</td>\n",
              "      <td>10.215097</td>\n",
              "      <td>68.761290</td>\n",
              "    </tr>\n",
              "    <tr>\n",
              "      <th>CSR</th>\n",
              "      <td>84.000000</td>\n",
              "      <td>31.757576</td>\n",
              "      <td>10.480000</td>\n",
              "      <td>59.469697</td>\n",
              "    </tr>\n",
              "    <tr>\n",
              "      <th>CWT</th>\n",
              "      <td>41.978850</td>\n",
              "      <td>42.561564</td>\n",
              "      <td>32.165660</td>\n",
              "      <td>40.187310</td>\n",
              "    </tr>\n",
              "    <tr>\n",
              "      <th>EPX</th>\n",
              "      <td>39.289271</td>\n",
              "      <td>32.616652</td>\n",
              "      <td>0.000000</td>\n",
              "      <td>36.879492</td>\n",
              "    </tr>\n",
              "    <tr>\n",
              "      <th>JWT</th>\n",
              "      <td>27.170690</td>\n",
              "      <td>52.950000</td>\n",
              "      <td>21.656552</td>\n",
              "      <td>118.000000</td>\n",
              "    </tr>\n",
              "    <tr>\n",
              "      <th>JZI</th>\n",
              "      <td>33.984952</td>\n",
              "      <td>32.430221</td>\n",
              "      <td>11.773737</td>\n",
              "      <td>44.444857</td>\n",
              "    </tr>\n",
              "    <tr>\n",
              "      <th>KML</th>\n",
              "      <td>41.187713</td>\n",
              "      <td>55.641638</td>\n",
              "      <td>22.135973</td>\n",
              "      <td>47.901024</td>\n",
              "    </tr>\n",
              "    <tr>\n",
              "      <th>LWC</th>\n",
              "      <td>146.039474</td>\n",
              "      <td>108.311748</td>\n",
              "      <td>71.946504</td>\n",
              "      <td>39.968045</td>\n",
              "    </tr>\n",
              "    <tr>\n",
              "      <th>RAB</th>\n",
              "      <td>23.608319</td>\n",
              "      <td>17.831889</td>\n",
              "      <td>7.215945</td>\n",
              "      <td>42.759099</td>\n",
              "    </tr>\n",
              "    <tr>\n",
              "      <th>SSI</th>\n",
              "      <td>130.752169</td>\n",
              "      <td>6.423507</td>\n",
              "      <td>1.801239</td>\n",
              "      <td>49.214374</td>\n",
              "    </tr>\n",
              "    <tr>\n",
              "      <th>TST</th>\n",
              "      <td>41.547558</td>\n",
              "      <td>29.074550</td>\n",
              "      <td>10.531491</td>\n",
              "      <td>48.866324</td>\n",
              "    </tr>\n",
              "    <tr>\n",
              "      <th>TTW</th>\n",
              "      <td>369.597222</td>\n",
              "      <td>92.930556</td>\n",
              "      <td>0.000000</td>\n",
              "      <td>39.944444</td>\n",
              "    </tr>\n",
              "  </tbody>\n",
              "</table>\n",
              "</div>"
            ],
            "text/plain": [
              "          Duration   Net Sales  Commision (in value)         Age\n",
              "Agency                                                          \n",
              "ADM      44.910714   54.946429             36.683571   22.964286\n",
              "ART      31.713710   28.650242             10.560040   60.233871\n",
              "C2B      95.756369   79.802704             20.753271   37.766879\n",
              "CBH      90.328571   27.600000              9.890571   57.971429\n",
              "CCR      63.541935   30.393548             10.215097   68.761290\n",
              "CSR      84.000000   31.757576             10.480000   59.469697\n",
              "CWT      41.978850   42.561564             32.165660   40.187310\n",
              "EPX      39.289271   32.616652              0.000000   36.879492\n",
              "JWT      27.170690   52.950000             21.656552  118.000000\n",
              "JZI      33.984952   32.430221             11.773737   44.444857\n",
              "KML      41.187713   55.641638             22.135973   47.901024\n",
              "LWC     146.039474  108.311748             71.946504   39.968045\n",
              "RAB      23.608319   17.831889              7.215945   42.759099\n",
              "SSI     130.752169    6.423507              1.801239   49.214374\n",
              "TST      41.547558   29.074550             10.531491   48.866324\n",
              "TTW     369.597222   92.930556              0.000000   39.944444"
            ]
          },
          "metadata": {
            "tags": []
          },
          "execution_count": 12
        }
      ]
    },
    {
      "cell_type": "code",
      "metadata": {
        "colab": {
          "base_uri": "https://localhost:8080/",
          "height": 401
        },
        "id": "4R-qDg163EiH",
        "outputId": "590c8825-adff-4a33-8b58-53fd08c84d70"
      },
      "source": [
        "sns.catplot(y='Agency Type', kind='count', data=insurance_data)"
      ],
      "execution_count": null,
      "outputs": [
        {
          "output_type": "execute_result",
          "data": {
            "text/plain": [
              "<seaborn.axisgrid.FacetGrid at 0x7f87eae6f2b0>"
            ]
          },
          "metadata": {
            "tags": []
          },
          "execution_count": 13
        },
        {
          "output_type": "display_data",
          "data": {
            "image/png": "[encoded data removed]",
            "text/plain": [
              "<Figure size 360x360 with 1 Axes>"
            ]
          },
          "metadata": {
            "tags": [],
            "needs_background": "light"
          }
        }
      ]
    },
    {
      "cell_type": "code",
      "metadata": {
        "colab": {
          "base_uri": "https://localhost:8080/",
          "height": 136
        },
        "id": "Gk8yi4NQyD69",
        "outputId": "1a23f8b7-7bc7-4b67-beb2-9fa4978c2c27"
      },
      "source": [
        "insurance_data.drop(labels=['Claim'], axis=1).groupby(['Agency Type'], dropna=False).agg('mean')"
      ],
      "execution_count": null,
      "outputs": [
        {
          "output_type": "execute_result",
          "data": {
            "text/html": [
              "<div>\n",
              "<style scoped>\n",
              "    .dataframe tbody tr th:only-of-type {\n",
              "        vertical-align: middle;\n",
              "    }\n",
              "\n",
              "    .dataframe tbody tr th {\n",
              "        vertical-align: top;\n",
              "    }\n",
              "\n",
              "    .dataframe thead th {\n",
              "        text-align: right;\n",
              "    }\n",
              "</style>\n",
              "<table border=\"1\" class=\"dataframe\">\n",
              "  <thead>\n",
              "    <tr style=\"text-align: right;\">\n",
              "      <th></th>\n",
              "      <th>Duration</th>\n",
              "      <th>Net Sales</th>\n",
              "      <th>Commision (in value)</th>\n",
              "      <th>Age</th>\n",
              "    </tr>\n",
              "    <tr>\n",
              "      <th>Agency Type</th>\n",
              "      <th></th>\n",
              "      <th></th>\n",
              "      <th></th>\n",
              "      <th></th>\n",
              "    </tr>\n",
              "  </thead>\n",
              "  <tbody>\n",
              "    <tr>\n",
              "      <th>Airlines</th>\n",
              "      <td>68.123660</td>\n",
              "      <td>53.344001</td>\n",
              "      <td>15.606822</td>\n",
              "      <td>45.008169</td>\n",
              "    </tr>\n",
              "    <tr>\n",
              "      <th>Travel Agency</th>\n",
              "      <td>42.447662</td>\n",
              "      <td>35.934142</td>\n",
              "      <td>7.597230</td>\n",
              "      <td>37.985680</td>\n",
              "    </tr>\n",
              "  </tbody>\n",
              "</table>\n",
              "</div>"
            ],
            "text/plain": [
              "                Duration  Net Sales  Commision (in value)        Age\n",
              "Agency Type                                                         \n",
              "Airlines       68.123660  53.344001             15.606822  45.008169\n",
              "Travel Agency  42.447662  35.934142              7.597230  37.985680"
            ]
          },
          "metadata": {
            "tags": []
          },
          "execution_count": 14
        }
      ]
    },
    {
      "cell_type": "code",
      "metadata": {
        "colab": {
          "base_uri": "https://localhost:8080/",
          "height": 401
        },
        "id": "8yIXZKcJ3JZX",
        "outputId": "c1608bd1-848a-4e44-806c-e0f8a02b37dd"
      },
      "source": [
        "sns.catplot(y='Distribution Channel', kind='count', data=insurance_data)"
      ],
      "execution_count": null,
      "outputs": [
        {
          "output_type": "execute_result",
          "data": {
            "text/plain": [
              "<seaborn.axisgrid.FacetGrid at 0x7f87d8258a20>"
            ]
          },
          "metadata": {
            "tags": []
          },
          "execution_count": 15
        },
        {
          "output_type": "display_data",
          "data": {
            "image/png": "[encoded data removed]",
            "text/plain": [
              "<Figure size 360x360 with 1 Axes>"
            ]
          },
          "metadata": {
            "tags": [],
            "needs_background": "light"
          }
        }
      ]
    },
    {
      "cell_type": "code",
      "metadata": {
        "colab": {
          "base_uri": "https://localhost:8080/",
          "height": 401
        },
        "id": "tASq8Tig3Vkh",
        "outputId": "9a7f8aae-aa14-455f-8c92-36272f84ad90"
      },
      "source": [
        "sns.catplot(y='Product Name', kind='count', data=insurance_data)"
      ],
      "execution_count": null,
      "outputs": [
        {
          "output_type": "execute_result",
          "data": {
            "text/plain": [
              "<seaborn.axisgrid.FacetGrid at 0x7f87d8258438>"
            ]
          },
          "metadata": {
            "tags": []
          },
          "execution_count": 16
        },
        {
          "output_type": "display_data",
          "data": {
            "image/png": "[encoded data removed]",
            "text/plain": [
              "<Figure size 360x360 with 1 Axes>"
            ]
          },
          "metadata": {
            "tags": [],
            "needs_background": "light"
          }
        }
      ]
    },
    {
      "cell_type": "code",
      "metadata": {
        "colab": {
          "base_uri": "https://localhost:8080/",
          "height": 401
        },
        "id": "TfkCC2tn35FH",
        "outputId": "a1699d24-8795-4bd5-994e-ba96a9c2846a"
      },
      "source": [
        "sns.catplot(y='Destination', kind='count', data=insurance_data)"
      ],
      "execution_count": null,
      "outputs": [
        {
          "output_type": "execute_result",
          "data": {
            "text/plain": [
              "<seaborn.axisgrid.FacetGrid at 0x7f87d89f32b0>"
            ]
          },
          "metadata": {
            "tags": []
          },
          "execution_count": 17
        },
        {
          "output_type": "display_data",
          "data": {
            "image/png": "[encoded data removed]",
            "text/plain": [
              "<Figure size 360x360 with 1 Axes>"
            ]
          },
          "metadata": {
            "tags": [],
            "needs_background": "light"
          }
        }
      ]
    },
    {
      "cell_type": "code",
      "metadata": {
        "colab": {
          "base_uri": "https://localhost:8080/",
          "height": 297
        },
        "id": "0v4y-eQH3h2J",
        "outputId": "d856a58c-6ff0-40a9-fd00-fa7c34ffeb85"
      },
      "source": [
        "sns.histplot(x='Age', data=insurance_data)"
      ],
      "execution_count": null,
      "outputs": [
        {
          "output_type": "execute_result",
          "data": {
            "text/plain": [
              "<matplotlib.axes._subplots.AxesSubplot at 0x7f87d8821fd0>"
            ]
          },
          "metadata": {
            "tags": []
          },
          "execution_count": 18
        },
        {
          "output_type": "display_data",
          "data": {
            "image/png": "[encoded data removed]",
            "text/plain": [
              "<Figure size 432x288 with 1 Axes>"
            ]
          },
          "metadata": {
            "tags": [],
            "needs_background": "light"
          }
        }
      ]
    },
    {
      "cell_type": "code",
      "metadata": {
        "colab": {
          "base_uri": "https://localhost:8080/",
          "height": 297
        },
        "id": "f-Y_MsuG3xXx",
        "outputId": "95a3e686-caed-4bed-a926-5d05334bc76f"
      },
      "source": [
        "sns.histplot(x='Duration', data=insurance_data)"
      ],
      "execution_count": null,
      "outputs": [
        {
          "output_type": "execute_result",
          "data": {
            "text/plain": [
              "<matplotlib.axes._subplots.AxesSubplot at 0x7f87d7fe2f28>"
            ]
          },
          "metadata": {
            "tags": []
          },
          "execution_count": 19
        },
        {
          "output_type": "display_data",
          "data": {
            "image/png": "[encoded data removed]",
            "text/plain": [
              "<Figure size 432x288 with 1 Axes>"
            ]
          },
          "metadata": {
            "tags": [],
            "needs_background": "light"
          }
        }
      ]
    },
    {
      "cell_type": "code",
      "metadata": {
        "id": "mYjn0pHnYFAO"
      },
      "source": [
        "insurance_data_clean = insurance_data.copy(deep=True)"
      ],
      "execution_count": null,
      "outputs": []
    },
    {
      "cell_type": "markdown",
      "metadata": {
        "id": "hG1_BYSLZP9p"
      },
      "source": [
        "### Fill the missing values in 'Gender' column with 'Not Specified'"
      ]
    },
    {
      "cell_type": "code",
      "metadata": {
        "id": "PtjQz5u0YQqb"
      },
      "source": [
        "values_fillna = {'Gender': 'Not Specified'}\n",
        "insurance_data_clean.fillna(value=values_fillna, inplace=True)"
      ],
      "execution_count": null,
      "outputs": []
    },
    {
      "cell_type": "code",
      "metadata": {
        "colab": {
          "base_uri": "https://localhost:8080/",
          "height": 166
        },
        "id": "zZoIsSgoYomQ",
        "outputId": "ab8db590-efaa-470e-fd62-f676fa515213"
      },
      "source": [
        "insurance_data_clean.groupby(['Gender'], dropna=False).agg({'Claim':'count'})"
      ],
      "execution_count": null,
      "outputs": [
        {
          "output_type": "execute_result",
          "data": {
            "text/html": [
              "<div>\n",
              "<style scoped>\n",
              "    .dataframe tbody tr th:only-of-type {\n",
              "        vertical-align: middle;\n",
              "    }\n",
              "\n",
              "    .dataframe tbody tr th {\n",
              "        vertical-align: top;\n",
              "    }\n",
              "\n",
              "    .dataframe thead th {\n",
              "        text-align: right;\n",
              "    }\n",
              "</style>\n",
              "<table border=\"1\" class=\"dataframe\">\n",
              "  <thead>\n",
              "    <tr style=\"text-align: right;\">\n",
              "      <th></th>\n",
              "      <th>Claim</th>\n",
              "    </tr>\n",
              "    <tr>\n",
              "      <th>Gender</th>\n",
              "      <th></th>\n",
              "    </tr>\n",
              "  </thead>\n",
              "  <tbody>\n",
              "    <tr>\n",
              "      <th>F</th>\n",
              "      <td>6762</td>\n",
              "    </tr>\n",
              "    <tr>\n",
              "      <th>M</th>\n",
              "      <td>7137</td>\n",
              "    </tr>\n",
              "    <tr>\n",
              "      <th>Not Specified</th>\n",
              "      <td>34361</td>\n",
              "    </tr>\n",
              "  </tbody>\n",
              "</table>\n",
              "</div>"
            ],
            "text/plain": [
              "               Claim\n",
              "Gender              \n",
              "F               6762\n",
              "M               7137\n",
              "Not Specified  34361"
            ]
          },
          "metadata": {
            "tags": []
          },
          "execution_count": 22
        }
      ]
    },
    {
      "cell_type": "markdown",
      "metadata": {
        "id": "GxgC0Y2PZayz"
      },
      "source": [
        "### Drop 'Distribution Channel', 'Destination' and 'Agency Type'.\n"
      ]
    },
    {
      "cell_type": "code",
      "metadata": {
        "id": "q6P1rIYVZZXT"
      },
      "source": [
        "insurance_data_clean.drop(labels=['Distribution Channel', 'Destination', 'Agency Type'], axis=1, inplace=True)"
      ],
      "execution_count": null,
      "outputs": []
    },
    {
      "cell_type": "code",
      "metadata": {
        "colab": {
          "base_uri": "https://localhost:8080/"
        },
        "id": "OL4qH8OUZ3Yr",
        "outputId": "fa70a270-947c-4f5f-d456-80a1b969e5eb"
      },
      "source": [
        "insurance_data_clean.columns"
      ],
      "execution_count": null,
      "outputs": [
        {
          "output_type": "execute_result",
          "data": {
            "text/plain": [
              "Index(['Agency', 'Product Name', 'Duration', 'Net Sales',\n",
              "       'Commision (in value)', 'Gender', 'Age', 'Claim'],\n",
              "      dtype='object')"
            ]
          },
          "metadata": {
            "tags": []
          },
          "execution_count": 24
        }
      ]
    },
    {
      "cell_type": "code",
      "metadata": {
        "id": "enwwkApbZ96X"
      },
      "source": [
        "from sklearn.preprocessing import OneHotEncoder"
      ],
      "execution_count": null,
      "outputs": []
    },
    {
      "cell_type": "code",
      "metadata": {
        "id": "JeBqcTe3aPmI"
      },
      "source": [
        "enc = OneHotEncoder(handle_unknown='ignore')"
      ],
      "execution_count": null,
      "outputs": []
    },
    {
      "cell_type": "code",
      "metadata": {
        "id": "6xB-Nei1awbh"
      },
      "source": [
        "insurance_data_clean = pd.concat([insurance_data_clean, (pd.get_dummies(insurance_data_clean[['Agency', 'Gender', 'Product Name']],drop_first=True, sparse=False))], axis=1)"
      ],
      "execution_count": null,
      "outputs": []
    },
    {
      "cell_type": "code",
      "metadata": {
        "id": "VIRc_6vzeqTQ"
      },
      "source": [
        "insurance_data_clean.drop(labels=['Agency', 'Product Name', 'Gender'], axis=1, inplace=True)"
      ],
      "execution_count": null,
      "outputs": []
    },
    {
      "cell_type": "code",
      "metadata": {
        "colab": {
          "base_uri": "https://localhost:8080/"
        },
        "id": "3lA1gy3Ue7qK",
        "outputId": "a13be7e5-32e3-4551-c50f-04a4730ab824"
      },
      "source": [
        "insurance_data_clean.info()"
      ],
      "execution_count": null,
      "outputs": [
        {
          "output_type": "stream",
          "text": [
            "<class 'pandas.core.frame.DataFrame'>\n",
            "RangeIndex: 48260 entries, 0 to 48259\n",
            "Data columns (total 47 columns):\n",
            " #   Column                                             Non-Null Count  Dtype  \n",
            "---  ------                                             --------------  -----  \n",
            " 0   Duration                                           48260 non-null  int64  \n",
            " 1   Net Sales                                          48260 non-null  float64\n",
            " 2   Commision (in value)                               48260 non-null  float64\n",
            " 3   Age                                                48260 non-null  int64  \n",
            " 4   Claim                                              48260 non-null  int64  \n",
            " 5   Agency_ART                                         48260 non-null  uint8  \n",
            " 6   Agency_C2B                                         48260 non-null  uint8  \n",
            " 7   Agency_CBH                                         48260 non-null  uint8  \n",
            " 8   Agency_CCR                                         48260 non-null  uint8  \n",
            " 9   Agency_CSR                                         48260 non-null  uint8  \n",
            " 10  Agency_CWT                                         48260 non-null  uint8  \n",
            " 11  Agency_EPX                                         48260 non-null  uint8  \n",
            " 12  Agency_JWT                                         48260 non-null  uint8  \n",
            " 13  Agency_JZI                                         48260 non-null  uint8  \n",
            " 14  Agency_KML                                         48260 non-null  uint8  \n",
            " 15  Agency_LWC                                         48260 non-null  uint8  \n",
            " 16  Agency_RAB                                         48260 non-null  uint8  \n",
            " 17  Agency_SSI                                         48260 non-null  uint8  \n",
            " 18  Agency_TST                                         48260 non-null  uint8  \n",
            " 19  Agency_TTW                                         48260 non-null  uint8  \n",
            " 20  Gender_M                                           48260 non-null  uint8  \n",
            " 21  Gender_Not Specified                               48260 non-null  uint8  \n",
            " 22  Product Name_2 way Comprehensive Plan              48260 non-null  uint8  \n",
            " 23  Product Name_24 Protect                            48260 non-null  uint8  \n",
            " 24  Product Name_Annual Gold Plan                      48260 non-null  uint8  \n",
            " 25  Product Name_Annual Silver Plan                    48260 non-null  uint8  \n",
            " 26  Product Name_Annual Travel Protect Gold            48260 non-null  uint8  \n",
            " 27  Product Name_Annual Travel Protect Platinum        48260 non-null  uint8  \n",
            " 28  Product Name_Annual Travel Protect Silver          48260 non-null  uint8  \n",
            " 29  Product Name_Basic Plan                            48260 non-null  uint8  \n",
            " 30  Product Name_Bronze Plan                           48260 non-null  uint8  \n",
            " 31  Product Name_Cancellation Plan                     48260 non-null  uint8  \n",
            " 32  Product Name_Child Comprehensive Plan              48260 non-null  uint8  \n",
            " 33  Product Name_Comprehensive Plan                    48260 non-null  uint8  \n",
            " 34  Product Name_Gold Plan                             48260 non-null  uint8  \n",
            " 35  Product Name_Individual Comprehensive Plan         48260 non-null  uint8  \n",
            " 36  Product Name_Premier Plan                          48260 non-null  uint8  \n",
            " 37  Product Name_Rental Vehicle Excess Insurance       48260 non-null  uint8  \n",
            " 38  Product Name_Silver Plan                           48260 non-null  uint8  \n",
            " 39  Product Name_Single Trip Travel Protect Gold       48260 non-null  uint8  \n",
            " 40  Product Name_Single Trip Travel Protect Platinum   48260 non-null  uint8  \n",
            " 41  Product Name_Single Trip Travel Protect Silver     48260 non-null  uint8  \n",
            " 42  Product Name_Spouse or Parents Comprehensive Plan  48260 non-null  uint8  \n",
            " 43  Product Name_Ticket Protector                      48260 non-null  uint8  \n",
            " 44  Product Name_Travel Cruise Protect                 48260 non-null  uint8  \n",
            " 45  Product Name_Travel Cruise Protect Family          48260 non-null  uint8  \n",
            " 46  Product Name_Value Plan                            48260 non-null  uint8  \n",
            "dtypes: float64(2), int64(3), uint8(42)\n",
            "memory usage: 3.8 MB\n"
          ],
          "name": "stdout"
        }
      ]
    },
    {
      "cell_type": "code",
      "metadata": {
        "id": "L126E_z_pHj2"
      },
      "source": [
        "from sklearn import preprocessing\n"
      ],
      "execution_count": null,
      "outputs": []
    },
    {
      "cell_type": "code",
      "metadata": {
        "id": "vHaWE3rXe-CP"
      },
      "source": [
        "from sklearn.model_selection import train_test_split\n",
        "X_train, X_test, y_train, y_test = train_test_split(insurance_data_clean.drop('Claim',axis=1), \n",
        "                                                    insurance_data_clean['Claim'], test_size=0.30, \n",
        "                                                    random_state=101)"
      ],
      "execution_count": null,
      "outputs": []
    },
    {
      "cell_type": "code",
      "metadata": {
        "colab": {
          "base_uri": "https://localhost:8080/"
        },
        "id": "Lr8nUauJk2BJ",
        "outputId": "c5bfd786-cbc0-486e-bf64-f08c1c9f67c6"
      },
      "source": [
        "import six\n",
        "import sys\n",
        "sys.modules['sklearn.externals.six'] = six\n",
        "from imblearn.over_sampling import SMOTE\n",
        "\n",
        "sm = SMOTE(random_state=25, sampling_strategy=1.0)\n",
        "X_train_res, y_train_res = sm.fit_resample(X_train, y_train)"
      ],
      "execution_count": null,
      "outputs": [
        {
          "output_type": "stream",
          "text": [
            "/usr/local/lib/python3.6/dist-packages/sklearn/utils/deprecation.py:143: FutureWarning: The sklearn.neighbors.base module is  deprecated in version 0.22 and will be removed in version 0.24. The corresponding classes / functions should instead be imported from sklearn.neighbors. Anything that cannot be imported from sklearn.neighbors is now part of the private API.\n",
            "  warnings.warn(message, FutureWarning)\n",
            "/usr/local/lib/python3.6/dist-packages/sklearn/utils/deprecation.py:86: FutureWarning: Function safe_indexing is deprecated; safe_indexing is deprecated in version 0.22 and will be removed in version 0.24.\n",
            "  warnings.warn(msg, category=FutureWarning)\n"
          ],
          "name": "stderr"
        }
      ]
    },
    {
      "cell_type": "code",
      "metadata": {
        "id": "GagbHq3NptWY"
      },
      "source": [
        "scaler = preprocessing.StandardScaler().fit(X_train_res)\n",
        "X_train_res_scaled = scaler.transform(X_train_res)"
      ],
      "execution_count": null,
      "outputs": []
    },
    {
      "cell_type": "code",
      "metadata": {
        "colab": {
          "base_uri": "https://localhost:8080/"
        },
        "id": "70yNV5ounmy6",
        "outputId": "44240929-472f-4a51-acee-3879fa1330f3"
      },
      "source": [
        "from sklearn.linear_model import LogisticRegression\n",
        "lr = LogisticRegression(max_iter=2000, verbose=1)\n",
        "lr.fit(X_train_res, y_train_res)"
      ],
      "execution_count": null,
      "outputs": [
        {
          "output_type": "stream",
          "text": [
            "[Parallel(n_jobs=1)]: Using backend SequentialBackend with 1 concurrent workers.\n",
            "[Parallel(n_jobs=1)]: Done   1 out of   1 | elapsed:   22.9s finished\n"
          ],
          "name": "stderr"
        },
        {
          "output_type": "execute_result",
          "data": {
            "text/plain": [
              "LogisticRegression(max_iter=2000, verbose=1)"
            ]
          },
          "metadata": {
            "tags": []
          },
          "execution_count": 34
        }
      ]
    },
    {
      "cell_type": "code",
      "metadata": {
        "id": "4Z8AdmImn4wY"
      },
      "source": [
        "lr_predictions = lr.predict(X_test)\n"
      ],
      "execution_count": null,
      "outputs": []
    },
    {
      "cell_type": "code",
      "metadata": {
        "colab": {
          "base_uri": "https://localhost:8080/"
        },
        "id": "emhpzApIuMDM",
        "outputId": "30121f98-7908-4777-9809-2a28b8761e5b"
      },
      "source": [
        "from sklearn.metrics import accuracy_score\n",
        "accuracy_score(y_test, lr_predictions)"
      ],
      "execution_count": null,
      "outputs": [
        {
          "output_type": "execute_result",
          "data": {
            "text/plain": [
              "0.8172399502693742"
            ]
          },
          "metadata": {
            "tags": []
          },
          "execution_count": 36
        }
      ]
    },
    {
      "cell_type": "code",
      "metadata": {
        "colab": {
          "base_uri": "https://localhost:8080/"
        },
        "id": "2W-X2rNJxvlF",
        "outputId": "e5217511-b9f9-43c7-9d9e-6b3e46019093"
      },
      "source": [
        "from sklearn.metrics import confusion_matrix\n",
        "lr_confusion_matrix = confusion_matrix(y_test, lr_predictions)\n",
        "print(lr_confusion_matrix)"
      ],
      "execution_count": null,
      "outputs": [
        {
          "output_type": "stream",
          "text": [
            "[[11704  2579]\n",
            " [   67   128]]\n"
          ],
          "name": "stdout"
        }
      ]
    },
    {
      "cell_type": "code",
      "metadata": {
        "colab": {
          "base_uri": "https://localhost:8080/"
        },
        "id": "jKjUj6XYrCX8",
        "outputId": "4b7ab26f-fa8b-4ce9-cbf4-e6c442d68f49"
      },
      "source": [
        "from sklearn.metrics import classification_report\n",
        "print(classification_report(y_test,lr_predictions))"
      ],
      "execution_count": null,
      "outputs": [
        {
          "output_type": "stream",
          "text": [
            "              precision    recall  f1-score   support\n",
            "\n",
            "           0       0.99      0.82      0.90     14283\n",
            "           1       0.05      0.66      0.09       195\n",
            "\n",
            "    accuracy                           0.82     14478\n",
            "   macro avg       0.52      0.74      0.49     14478\n",
            "weighted avg       0.98      0.82      0.89     14478\n",
            "\n"
          ],
          "name": "stdout"
        }
      ]
    },
    {
      "cell_type": "code",
      "metadata": {
        "colab": {
          "base_uri": "https://localhost:8080/"
        },
        "id": "Pc1D4lwNv8TA",
        "outputId": "651cbb47-e352-40f1-f593-2a6be9444eca"
      },
      "source": [
        "from sklearn.tree import DecisionTreeClassifier\n",
        "dt = DecisionTreeClassifier()\n",
        "dt.fit(X_train_res, y_train_res)"
      ],
      "execution_count": null,
      "outputs": [
        {
          "output_type": "execute_result",
          "data": {
            "text/plain": [
              "DecisionTreeClassifier()"
            ]
          },
          "metadata": {
            "tags": []
          },
          "execution_count": 39
        }
      ]
    },
    {
      "cell_type": "code",
      "metadata": {
        "colab": {
          "base_uri": "https://localhost:8080/"
        },
        "id": "HXY7pDqBwa2g",
        "outputId": "02acf5d5-29fb-41d4-8707-aef0aa6dd2a1"
      },
      "source": [
        "dt_predictions = dt.predict(X_test)\n",
        "accuracy_score(y_test, dt_predictions)"
      ],
      "execution_count": null,
      "outputs": [
        {
          "output_type": "execute_result",
          "data": {
            "text/plain": [
              "0.9634618041165907"
            ]
          },
          "metadata": {
            "tags": []
          },
          "execution_count": 40
        }
      ]
    },
    {
      "cell_type": "code",
      "metadata": {
        "colab": {
          "base_uri": "https://localhost:8080/"
        },
        "id": "dtqpylggx-D2",
        "outputId": "8070f883-b94b-4312-ff97-be8062d9db1d"
      },
      "source": [
        "dt_confusion_matrix = confusion_matrix(y_test, dt_predictions)\n",
        "print(dt_confusion_matrix)"
      ],
      "execution_count": null,
      "outputs": [
        {
          "output_type": "stream",
          "text": [
            "[[13930   353]\n",
            " [  176    19]]\n"
          ],
          "name": "stdout"
        }
      ]
    },
    {
      "cell_type": "code",
      "metadata": {
        "colab": {
          "base_uri": "https://localhost:8080/"
        },
        "id": "h4nXAtwvwl7g",
        "outputId": "c9a30850-437a-4eb6-8ee1-df5d33d38027"
      },
      "source": [
        "print(classification_report(y_test,dt_predictions))"
      ],
      "execution_count": null,
      "outputs": [
        {
          "output_type": "stream",
          "text": [
            "              precision    recall  f1-score   support\n",
            "\n",
            "           0       0.99      0.98      0.98     14283\n",
            "           1       0.05      0.10      0.07       195\n",
            "\n",
            "    accuracy                           0.96     14478\n",
            "   macro avg       0.52      0.54      0.52     14478\n",
            "weighted avg       0.97      0.96      0.97     14478\n",
            "\n"
          ],
          "name": "stdout"
        }
      ]
    },
    {
      "cell_type": "code",
      "metadata": {
        "colab": {
          "base_uri": "https://localhost:8080/"
        },
        "id": "PY13rqjEwt_h",
        "outputId": "7a14d8e6-bf10-47af-9d90-7b128016a0fd"
      },
      "source": [
        "from sklearn.ensemble import RandomForestClassifier\n",
        "rf = RandomForestClassifier()\n",
        "rf.fit(X_train_res, y_train_res)"
      ],
      "execution_count": null,
      "outputs": [
        {
          "output_type": "execute_result",
          "data": {
            "text/plain": [
              "RandomForestClassifier()"
            ]
          },
          "metadata": {
            "tags": []
          },
          "execution_count": 43
        }
      ]
    },
    {
      "cell_type": "code",
      "metadata": {
        "colab": {
          "base_uri": "https://localhost:8080/"
        },
        "id": "c4XsML--w8NC",
        "outputId": "cdb64135-7993-48f9-f523-635c33cf2913"
      },
      "source": [
        "rf_predictions = rf.predict(X_test)\n",
        "accuracy_score(y_test, rf_predictions)"
      ],
      "execution_count": null,
      "outputs": [
        {
          "output_type": "execute_result",
          "data": {
            "text/plain": [
              "0.9742367730349496"
            ]
          },
          "metadata": {
            "tags": []
          },
          "execution_count": 44
        }
      ]
    },
    {
      "cell_type": "code",
      "metadata": {
        "colab": {
          "base_uri": "https://localhost:8080/"
        },
        "id": "snk7WyAiyIYP",
        "outputId": "d6365c1b-ff6d-46db-e0e5-d08afc63b898"
      },
      "source": [
        "rf_confusion_matrix = confusion_matrix(y_test, rf_predictions)\n",
        "print(rf_confusion_matrix)"
      ],
      "execution_count": null,
      "outputs": [
        {
          "output_type": "stream",
          "text": [
            "[[14092   191]\n",
            " [  182    13]]\n"
          ],
          "name": "stdout"
        }
      ]
    },
    {
      "cell_type": "code",
      "metadata": {
        "colab": {
          "base_uri": "https://localhost:8080/"
        },
        "id": "G6dJ_cbgxE1Z",
        "outputId": "86ee78b2-a152-4af2-ba26-2ac230f5c145"
      },
      "source": [
        "print(classification_report(y_test,rf_predictions))"
      ],
      "execution_count": null,
      "outputs": [
        {
          "output_type": "stream",
          "text": [
            "              precision    recall  f1-score   support\n",
            "\n",
            "           0       0.99      0.99      0.99     14283\n",
            "           1       0.06      0.07      0.07       195\n",
            "\n",
            "    accuracy                           0.97     14478\n",
            "   macro avg       0.53      0.53      0.53     14478\n",
            "weighted avg       0.97      0.97      0.97     14478\n",
            "\n"
          ],
          "name": "stdout"
        }
      ]
    }
  ]
}