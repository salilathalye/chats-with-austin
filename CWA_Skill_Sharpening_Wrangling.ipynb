{
  "nbformat": 4,
  "nbformat_minor": 0,
  "metadata": {
    "colab": {
      "name": "CWA EDA and Data Wrangling.ipynb",
      "provenance": [],
      "collapsed_sections": [],
      "toc_visible": true,
      "authorship_tag": "ABX9TyN5etdphvY159nHKf1ffEhK",
      "include_colab_link": true
    },
    "kernelspec": {
      "name": "python3",
      "display_name": "Python 3"
    }
  },
  "cells": [
    {
      "cell_type": "markdown",
      "metadata": {
        "id": "view-in-github",
        "colab_type": "text"
      },
      "source": [
        "<a href=\"https://colab.research.google.com/github/salilathalye/chats-with-austin/blob/main/CWA_EDA_and_Data_Wrangling.ipynb\" target=\"_parent\"><img src=\"https://colab.research.google.com/assets/colab-badge.svg\" alt=\"Open In Colab\"/></a>"
      ]
    },
    {
      "cell_type": "markdown",
      "metadata": {
        "id": "Mh9cEyjhkrkP"
      },
      "source": [
        "DPhi Data Sprint 16 - Electronics Product Pricing\n",
        "[link text](https://dphi.tech/practice/challenge/45)"
      ]
    },
    {
      "cell_type": "code",
      "metadata": {
        "id": "dGvcR6EGkqTw"
      },
      "source": [
        "import os\n",
        "import sys\n",
        "import numpy as np\n",
        "import pandas as pd\n",
        "import matplotlib.pyplot as plt\n",
        "import seaborn as sns\n",
        "import re\n",
        "from dateutil.parser import isoparse\n",
        "\n",
        "from matplotlib import rcParams\n",
        "\n",
        "# figure size in inches\n",
        "rcParams['figure.figsize'] = 15, 10\n",
        "sns.set(style=\"darkgrid\")\n"
      ],
      "execution_count": 1,
      "outputs": []
    },
    {
      "cell_type": "markdown",
      "metadata": {
        "id": "aS6u1PxXlT_z"
      },
      "source": [
        "## Load data\n",
        "### Load training dataset\n",
        "#### Summary\n",
        "* 5436 observations in 25 columns\n",
        "* The target variable is price which is continuous (float64)\n",
        "* prices.isSale is bool\n",
        "* All other features are object\n",
        "* Some fields have multiple items per row e.g. prices.dateSeen, categories\n",
        "\n",
        "\n"
      ]
    },
    {
      "cell_type": "code",
      "metadata": {
        "id": "Ly8kf5j_lW9a"
      },
      "source": [
        "raw_data = pd.read_csv(\"https://raw.githubusercontent.com/dphi-official/Datasets/master/electronic_product/electronic_product/Training_set_label.csv\" )\n",
        "ep_data = raw_data.copy(deep=True)"
      ],
      "execution_count": 2,
      "outputs": []
    },
    {
      "cell_type": "markdown",
      "metadata": {
        "id": "UMqnJDGCe6jZ"
      },
      "source": [
        "Let's take a quick look at the data"
      ]
    },
    {
      "cell_type": "code",
      "metadata": {
        "colab": {
          "base_uri": "https://localhost:8080/"
        },
        "id": "AVS7RouQNBIJ",
        "outputId": "f3bb1e53-380d-4b2d-9392-88fd4a059bf0"
      },
      "source": [
        "ep_data.apply(lambda x: x[0])"
      ],
      "execution_count": 3,
      "outputs": [
        {
          "output_type": "execute_result",
          "data": {
            "text/plain": [
              "id                                                  AVphrugr1cnluZ0-FOeH\n",
              "prices.availability                                                  Yes\n",
              "prices.condition                                                     New\n",
              "prices.currency                                                      USD\n",
              "prices.dateSeen                2017-05-10T20:00:00Z,2017-05-09T15:00:00Z\n",
              "prices.isSale                                                      False\n",
              "prices.merchant                                              Bestbuy.com\n",
              "prices.shipping                                                      NaN\n",
              "prices.sourceURLs      http://www.bestbuy.com/site/products/7100293.p...\n",
              "asins                                                         B00I9HD8PK\n",
              "brand                                                      Grace Digital\n",
              "categories             Electronics,Home Audio & Theater,Home Audio,Al...\n",
              "dateAdded                                           2015-11-01T00:57:52Z\n",
              "dateUpdated                                         2018-02-13T19:46:08Z\n",
              "ean                                                                  NaN\n",
              "imageURLs              https://i5.walmartimages.com/asr/dd5f42c4-076c...\n",
              "keys                   819127010485,ecoxgearecostonebluetoothspeaker/...\n",
              "manufacturer                                                    Ecoxgear\n",
              "manufacturerNumber                                           GDI-EGST701\n",
              "name                                 EcoXGear Ecostone Bluetooth Speaker\n",
              "primaryCategories                                            Electronics\n",
              "sourceURLs             http://www.walmart.com/ip/EcoXGear-Ecostone-Bl...\n",
              "upc                                                             8.19E+11\n",
              "weight                                                          3 pounds\n",
              "price                                                              92.99\n",
              "dtype: object"
            ]
          },
          "metadata": {
            "tags": []
          },
          "execution_count": 3
        }
      ]
    },
    {
      "cell_type": "code",
      "metadata": {
        "colab": {
          "base_uri": "https://localhost:8080/"
        },
        "id": "4jYMpZRNli5_",
        "outputId": "a9b33817-efed-4db8-aa2c-6ae09ff6bdb0"
      },
      "source": [
        "ep_data.info()"
      ],
      "execution_count": 4,
      "outputs": [
        {
          "output_type": "stream",
          "text": [
            "<class 'pandas.core.frame.DataFrame'>\n",
            "RangeIndex: 5436 entries, 0 to 5435\n",
            "Data columns (total 25 columns):\n",
            " #   Column               Non-Null Count  Dtype  \n",
            "---  ------               --------------  -----  \n",
            " 0   id                   5436 non-null   object \n",
            " 1   prices.availability  5436 non-null   object \n",
            " 2   prices.condition     5436 non-null   object \n",
            " 3   prices.currency      5436 non-null   object \n",
            " 4   prices.dateSeen      5436 non-null   object \n",
            " 5   prices.isSale        5436 non-null   bool   \n",
            " 6   prices.merchant      5436 non-null   object \n",
            " 7   prices.shipping      3199 non-null   object \n",
            " 8   prices.sourceURLs    5436 non-null   object \n",
            " 9   asins                5436 non-null   object \n",
            " 10  brand                5436 non-null   object \n",
            " 11  categories           5436 non-null   object \n",
            " 12  dateAdded            5436 non-null   object \n",
            " 13  dateUpdated          5436 non-null   object \n",
            " 14  ean                  1175 non-null   object \n",
            " 15  imageURLs            5436 non-null   object \n",
            " 16  keys                 5436 non-null   object \n",
            " 17  manufacturer         2477 non-null   object \n",
            " 18  manufacturerNumber   5436 non-null   object \n",
            " 19  name                 5436 non-null   object \n",
            " 20  primaryCategories    5436 non-null   object \n",
            " 21  sourceURLs           5436 non-null   object \n",
            " 22  upc                  5436 non-null   object \n",
            " 23  weight               5436 non-null   object \n",
            " 24  price                5436 non-null   float64\n",
            "dtypes: bool(1), float64(1), object(23)\n",
            "memory usage: 1.0+ MB\n"
          ],
          "name": "stdout"
        }
      ]
    },
    {
      "cell_type": "markdown",
      "metadata": {
        "id": "4hXPBG5MsFhP"
      },
      "source": [
        "### Columns with missing data\r\n",
        "\r\n"
      ]
    },
    {
      "cell_type": "code",
      "metadata": {
        "colab": {
          "base_uri": "https://localhost:8080/"
        },
        "id": "uXCnk5JhrkG3",
        "outputId": "e188da79-eaa7-431f-d647-195c42f19fe2"
      },
      "source": [
        "ep_data.isna().sum()"
      ],
      "execution_count": 5,
      "outputs": [
        {
          "output_type": "execute_result",
          "data": {
            "text/plain": [
              "id                        0\n",
              "prices.availability       0\n",
              "prices.condition          0\n",
              "prices.currency           0\n",
              "prices.dateSeen           0\n",
              "prices.isSale             0\n",
              "prices.merchant           0\n",
              "prices.shipping        2237\n",
              "prices.sourceURLs         0\n",
              "asins                     0\n",
              "brand                     0\n",
              "categories                0\n",
              "dateAdded                 0\n",
              "dateUpdated               0\n",
              "ean                    4261\n",
              "imageURLs                 0\n",
              "keys                      0\n",
              "manufacturer           2959\n",
              "manufacturerNumber        0\n",
              "name                      0\n",
              "primaryCategories         0\n",
              "sourceURLs                0\n",
              "upc                       0\n",
              "weight                    0\n",
              "price                     0\n",
              "dtype: int64"
            ]
          },
          "metadata": {
            "tags": []
          },
          "execution_count": 5
        }
      ]
    },
    {
      "cell_type": "markdown",
      "metadata": {
        "id": "cJLeOa3nhXqg"
      },
      "source": [
        "Keep track of columns that we want to drop, let's do that at the end of the EDA section."
      ]
    },
    {
      "cell_type": "code",
      "metadata": {
        "colab": {
          "base_uri": "https://localhost:8080/",
          "height": 431
        },
        "id": "W_N4ahXSdCAk",
        "outputId": "0f90f76d-75b6-4695-c883-fe8beecdd745"
      },
      "source": [
        "ep_data.groupby(['asins']) \\\r\n",
        "        .agg({'id':'count','price':'median'}) \\\r\n",
        "        .rename(columns={'id':'observations'}) \\\r\n",
        "        .sort_values(by='observations', ascending=False)"
      ],
      "execution_count": 7,
      "outputs": [
        {
          "output_type": "execute_result",
          "data": {
            "text/html": [
              "<div>\n",
              "<style scoped>\n",
              "    .dataframe tbody tr th:only-of-type {\n",
              "        vertical-align: middle;\n",
              "    }\n",
              "\n",
              "    .dataframe tbody tr th {\n",
              "        vertical-align: top;\n",
              "    }\n",
              "\n",
              "    .dataframe thead th {\n",
              "        text-align: right;\n",
              "    }\n",
              "</style>\n",
              "<table border=\"1\" class=\"dataframe\">\n",
              "  <thead>\n",
              "    <tr style=\"text-align: right;\">\n",
              "      <th></th>\n",
              "      <th>observations</th>\n",
              "      <th>price</th>\n",
              "    </tr>\n",
              "    <tr>\n",
              "      <th>asins</th>\n",
              "      <th></th>\n",
              "      <th></th>\n",
              "    </tr>\n",
              "  </thead>\n",
              "  <tbody>\n",
              "    <tr>\n",
              "      <th>B00EHBERSE,B00F0EIKJO</th>\n",
              "      <td>41</td>\n",
              "      <td>492.000</td>\n",
              "    </tr>\n",
              "    <tr>\n",
              "      <th>B06XGCSS8H,B079V1MSQ1</th>\n",
              "      <td>38</td>\n",
              "      <td>1331.970</td>\n",
              "    </tr>\n",
              "    <tr>\n",
              "      <th>B072JYK37N,B06XGCT2PQ</th>\n",
              "      <td>37</td>\n",
              "      <td>2497.990</td>\n",
              "    </tr>\n",
              "    <tr>\n",
              "      <th>B06X9VSZYM</th>\n",
              "      <td>36</td>\n",
              "      <td>1673.975</td>\n",
              "    </tr>\n",
              "    <tr>\n",
              "      <th>B01NAYM1TP,B06XZMFNGQ</th>\n",
              "      <td>36</td>\n",
              "      <td>2933.980</td>\n",
              "    </tr>\n",
              "    <tr>\n",
              "      <th>...</th>\n",
              "      <td>...</td>\n",
              "      <td>...</td>\n",
              "    </tr>\n",
              "    <tr>\n",
              "      <th>B00MKJ69JU</th>\n",
              "      <td>1</td>\n",
              "      <td>149.950</td>\n",
              "    </tr>\n",
              "    <tr>\n",
              "      <th>B01MDOH1NO</th>\n",
              "      <td>1</td>\n",
              "      <td>799.990</td>\n",
              "    </tr>\n",
              "    <tr>\n",
              "      <th>B003FVR194</th>\n",
              "      <td>1</td>\n",
              "      <td>249.990</td>\n",
              "    </tr>\n",
              "    <tr>\n",
              "      <th>B003D7JSUK</th>\n",
              "      <td>1</td>\n",
              "      <td>35.990</td>\n",
              "    </tr>\n",
              "    <tr>\n",
              "      <th>B07CMDRDCC</th>\n",
              "      <td>1</td>\n",
              "      <td>249.990</td>\n",
              "    </tr>\n",
              "  </tbody>\n",
              "</table>\n",
              "<p>819 rows × 2 columns</p>\n",
              "</div>"
            ],
            "text/plain": [
              "                       observations     price\n",
              "asins                                        \n",
              "B00EHBERSE,B00F0EIKJO            41   492.000\n",
              "B06XGCSS8H,B079V1MSQ1            38  1331.970\n",
              "B072JYK37N,B06XGCT2PQ            37  2497.990\n",
              "B06X9VSZYM                       36  1673.975\n",
              "B01NAYM1TP,B06XZMFNGQ            36  2933.980\n",
              "...                             ...       ...\n",
              "B00MKJ69JU                        1   149.950\n",
              "B01MDOH1NO                        1   799.990\n",
              "B003FVR194                        1   249.990\n",
              "B003D7JSUK                        1    35.990\n",
              "B07CMDRDCC                        1   249.990\n",
              "\n",
              "[819 rows x 2 columns]"
            ]
          },
          "metadata": {
            "tags": []
          },
          "execution_count": 7
        }
      ]
    },
    {
      "cell_type": "code",
      "metadata": {
        "colab": {
          "base_uri": "https://localhost:8080/",
          "height": 431
        },
        "id": "d_2h_z07gdwe",
        "outputId": "721a8887-434d-4335-f840-18bc1a2a1a19"
      },
      "source": [
        "ep_data.groupby(['upc']) \\\r\n",
        "  .agg({'id':'count','price':'median'}) \\\r\n",
        "  .rename(columns={'id':'observations'}) \\\r\n",
        "  .sort_values(by='observations', ascending=False)"
      ],
      "execution_count": 9,
      "outputs": [
        {
          "output_type": "execute_result",
          "data": {
            "text/html": [
              "<div>\n",
              "<style scoped>\n",
              "    .dataframe tbody tr th:only-of-type {\n",
              "        vertical-align: middle;\n",
              "    }\n",
              "\n",
              "    .dataframe tbody tr th {\n",
              "        vertical-align: top;\n",
              "    }\n",
              "\n",
              "    .dataframe thead th {\n",
              "        text-align: right;\n",
              "    }\n",
              "</style>\n",
              "<table border=\"1\" class=\"dataframe\">\n",
              "  <thead>\n",
              "    <tr style=\"text-align: right;\">\n",
              "      <th></th>\n",
              "      <th>observations</th>\n",
              "      <th>price</th>\n",
              "    </tr>\n",
              "    <tr>\n",
              "      <th>upc</th>\n",
              "      <th></th>\n",
              "      <th></th>\n",
              "    </tr>\n",
              "  </thead>\n",
              "  <tbody>\n",
              "    <tr>\n",
              "      <th>8.87E+11</th>\n",
              "      <td>530</td>\n",
              "      <td>473.99</td>\n",
              "    </tr>\n",
              "    <tr>\n",
              "      <th>8.84E+11</th>\n",
              "      <td>168</td>\n",
              "      <td>436.79</td>\n",
              "    </tr>\n",
              "    <tr>\n",
              "      <th>8.44E+11</th>\n",
              "      <td>140</td>\n",
              "      <td>141.97</td>\n",
              "    </tr>\n",
              "    <tr>\n",
              "      <th>8.85E+11</th>\n",
              "      <td>130</td>\n",
              "      <td>101.49</td>\n",
              "    </tr>\n",
              "    <tr>\n",
              "      <th>8.90E+11</th>\n",
              "      <td>120</td>\n",
              "      <td>369.49</td>\n",
              "    </tr>\n",
              "    <tr>\n",
              "      <th>...</th>\n",
              "      <td>...</td>\n",
              "      <td>...</td>\n",
              "    </tr>\n",
              "    <tr>\n",
              "      <th>17817343169</th>\n",
              "      <td>1</td>\n",
              "      <td>279.98</td>\n",
              "    </tr>\n",
              "    <tr>\n",
              "      <th>13803247541</th>\n",
              "      <td>1</td>\n",
              "      <td>50.99</td>\n",
              "    </tr>\n",
              "    <tr>\n",
              "      <th>92592012219</th>\n",
              "      <td>1</td>\n",
              "      <td>249.99</td>\n",
              "    </tr>\n",
              "    <tr>\n",
              "      <th>92592012257</th>\n",
              "      <td>1</td>\n",
              "      <td>339.99</td>\n",
              "    </tr>\n",
              "    <tr>\n",
              "      <th>6.08E+11</th>\n",
              "      <td>1</td>\n",
              "      <td>124.94</td>\n",
              "    </tr>\n",
              "  </tbody>\n",
              "</table>\n",
              "<p>385 rows × 2 columns</p>\n",
              "</div>"
            ],
            "text/plain": [
              "             observations   price\n",
              "upc                              \n",
              "8.87E+11              530  473.99\n",
              "8.84E+11              168  436.79\n",
              "8.44E+11              140  141.97\n",
              "8.85E+11              130  101.49\n",
              "8.90E+11              120  369.49\n",
              "...                   ...     ...\n",
              "17817343169             1  279.98\n",
              "13803247541             1   50.99\n",
              "92592012219             1  249.99\n",
              "92592012257             1  339.99\n",
              "6.08E+11                1  124.94\n",
              "\n",
              "[385 rows x 2 columns]"
            ]
          },
          "metadata": {
            "tags": []
          },
          "execution_count": 9
        }
      ]
    },
    {
      "cell_type": "code",
      "metadata": {
        "colab": {
          "base_uri": "https://localhost:8080/",
          "height": 451
        },
        "id": "7bUEhuUkgngW",
        "outputId": "b1295ed4-7596-4ee2-a277-04ad01d1ea77"
      },
      "source": [
        "ep_data.groupby(['keys']) \\\r\n",
        ".agg({'id':'count'}) \\\r\n",
        ".rename(columns={'id':'observations'}) \\\r\n",
        ".sort_values(by='observations', ascending=False)"
      ],
      "execution_count": 10,
      "outputs": [
        {
          "output_type": "execute_result",
          "data": {
            "text/html": [
              "<div>\n",
              "<style scoped>\n",
              "    .dataframe tbody tr th:only-of-type {\n",
              "        vertical-align: middle;\n",
              "    }\n",
              "\n",
              "    .dataframe tbody tr th {\n",
              "        vertical-align: top;\n",
              "    }\n",
              "\n",
              "    .dataframe thead th {\n",
              "        text-align: right;\n",
              "    }\n",
              "</style>\n",
              "<table border=\"1\" class=\"dataframe\">\n",
              "  <thead>\n",
              "    <tr style=\"text-align: right;\">\n",
              "      <th></th>\n",
              "      <th>observations</th>\n",
              "    </tr>\n",
              "    <tr>\n",
              "      <th>keys</th>\n",
              "      <th></th>\n",
              "    </tr>\n",
              "  </thead>\n",
              "  <tbody>\n",
              "    <tr>\n",
              "      <th>wd/wd40efrx,as3102t8tb2baynasserverwithdriveskit2x4tb/asas1002t8t,as3102t8tb2baynasserverwithdriveskit2x4tb/b00ehberse,as3102t8tb2baynasserverwithdriveskit2x4tb/asas604tk1,as3102t8tb2baynasserverwithdriveskit2x4tb/401361262923,as3102t8tb2baynasserverwithdriveskit2x4tb/b00f0eikjo,as3104t16tb4baynasserverwithdriveskit4x4tb/asas3104t16t,718037810058,wdred4tbinternalsataharddriveoembaredrive/6560007,wdred4tbinternalsataharddriveoembaredrive/7830208,as3102t8tb2baynasserverwithdriveskit2x4tb/563684803,as3102t8tb2baynasserverwithdriveskit2x4tb/wewd40efrx8k,asustor/wd40efrx,as3102t8tb2baynasserverwithdriveskit2x4tb/asas3104t16t,wdred4tbinternalsataharddriveoembaredrive/2452034,as3104t16tb4baynasserverwithdriveskit4x4tb/wewd40efrx8k,4tbnetworkoemhddretailkit8packwd40efrxreddrives/wewd40efrx8k,as3102t8tb2baynasserverwithdriveskit2x4tb/weiddn44k,as3102t8tb2baynasserverwithdriveskit2x4tb/332262817165,as3102t8tb2baynasserverwithdriveskit2x4tb/asas3102t8t,as3102t8tb2baynasserverwithdriveskit2x4tb/wewd40efrx,as3102t8tb2baynasserverwithdriveskit2x4tb/551899436,wdred4tbinternalsataharddriveoembaredrive/2399038,as3102t8tb2baynasserverwithdriveskit2x4tb/asas1004t16t,wdred4tbinternalsataharddriveoembaredrive/6520452,as3102t8tb2baynasserverwithdriveskit2x4tb/2452034</th>\n",
              "      <td>41</td>\n",
              "    </tr>\n",
              "    <tr>\n",
              "      <th>samsung55classcurved4k2160pultrahdsmartledtvun55mu8500fxza/192182591255,samsung55classcurved4k2160pultrahdsmartledtvun55mu8500fxza/371929568514,887276260396,samsung55classledcurvedmu8500series2160psmart4kuhdtvwithhdr/5773708,samsung55classcurved4k2160pultrahdsmartledtvun55mu8500fxza/5754303,samsung55classcurved4k2160pultrahdsmartledtvun55mu8500fxza/182499309306,detailsaboutsamsungun55mu6290fxzaflat546led4kuhd6seriessmarttv2017model/302755048351,samsung55classledcurvedmu8500series2160psmart4kuhdtvwithhdr/5754303,samsung/un55mu8500fxza,samsung55classcurved4k2160pultrahdsmartledtvun55mu8500fxza/292069469699,samsung55classcurved4k2160pultrahdsmartledtvun55mu8500fxza/567391454,samsung55classcurved4k2160pultrahdsmartledtvun55mu8500fxza/saun55mu8500,refurbishedsamsung55class4k2160psmartledtvun55mu8500fxza1yearextendedwarranty/562883717,samsung/qn65q6fnafxza,samsung55classcurved4k2160pultrahdsmartledtvun55mu8500fxza/saqn65q6fn,q6fnseries65classhdruhdsmartqledtv/saqn65q6fn,samsung55classcurved4k2160pultrahdsmartledtvun55mu8500fxza/322466145519,samsung55classcurved4k2160pultrahdsmartledtvun55mu8500fxza/391729960965,samsungqn65q6flat65qled4kuhd6seriessmarttv2018/b079v1msq1,samsung65class4k2160pultrahdsmartqledhdrtvqn65q6fnafxza2018model/567391454,samsung55classcurved4k2160pultrahdsmartledtvun55mu8500fxza/b06xgcss8h,samsung55classcurved4k2160pultrahdsmartledtvun55mu8500fxza/562883717,samsung55classcurved4k2160pultrahdsmartledtvun55mu8500fxza/332301838126,841434187789,887276201313,samsung55classcurved4k2160pultrahdsmartledtvun55mu8500fxza/spm10632467520</th>\n",
              "      <td>38</td>\n",
              "    </tr>\n",
              "    <tr>\n",
              "      <th>samsung65class4k2160pultrahdsmartledtvun65mu9000fxza/182506749720,refurbishedsamsung65class4k2160psmartledtvun65mu9000fxza1yearextendedwarranty/563033855,samsung65class4k2160pultrahdsmartledtvun65mu9000fxza/saun65mu9000,samsung65class4k2160pultrahdsmartledtvun65mu9000fxza/5773705,samsung65class4k2160pultrahdsmartledtvun65mu9000fxza/b072jyk37n,samsung65class4k2160pultrahdsmartledtvun65mu9000fxza/152490066913,samsung65class4k2160pultrahdsmartledtvun65mu9000fxza/253036167219,samsung65class4k2160pultrahdsmartledtvun65mu9000fxza/spm10636437620,mu9000series65classhdruhdsmartledtv/saun65mu9000,samsung65class4k2160pultrahdsmartledtvun65mu9000fxza/391767763747,samsung/un65mu9000fxza,samsung65class4k2160pultrahdsmartledtvun65mu9000fxza/b06xgct2pq,0887276201474,samsung65class4k2160pultrahdsmartledtvun65mu9000fxza/563033855,samsung65class4k2160pultrahdsmartledtvun65mu9000fxza/322589644228,samsung65class4k2160pultrahdsmartledtvun65mu9000fxza/282412951117,samsungelectronicsun65mu900065inch4kultrahdsmartledtv2017model/b06xgct2pq,841434187635,samsung65class4k2160pultrahdsmartledtvun65mu9000fxza/322476518676,samsung65classledmu9000series2160psmart4kuhdtvwithhdr/5773700,samsung65class4k2160pultrahdsmartledtvun65mu9000fxza/182523569404,samsung65classledmu9000series2160psmart4kuhdtvwithhdr/5773705,887276201474,samsung65class4k2160pultrahdsmartledtvun65mu9000fxza/332255282360</th>\n",
              "      <td>37</td>\n",
              "    </tr>\n",
              "    <tr>\n",
              "      <th>841434182302,samsung6454kultrahdsmartledtv2017modelun65mu8000fxzawith1yearextendedwarrantysamsung4kultrahdblurayplayer/saun65mu8000,samsung/un65mu8000fxza,samsung6454kultrahdsmartledtv2017modelun65mu8000fxzawith1yearextendedwarrantysamsung4kultrahdblurayplayer/391730837802,samsung6454kultrahdsmartledtv2017modelun65mu8000fxzawith1yearextendedwarrantysamsung4kultrahdblurayplayer/332301838129,samsung6454kultrahdsmartledtv2017modelun65mu8000fxzawith1yearextendedwarrantysamsung4kultrahdblurayplayer/311871380244,samsung6454kultrahdsmartledtv2017modelun65mu8000fxzawith1yearextendedwarrantysamsung4kultrahdblurayplayer/232421060701,mu8000series65classhdruhdsmartledtv/saun65mu8000,samsung6454kultrahdsmartledtv2017modelun65mu8000fxzawith1yearextendedwarrantysamsung4kultrahdblurayplayer/162474729779,samsungelectronicsun65mu800065inch4kultrahdsmartledtv2017model/b06x9vszym,samsung6454kultrahdsmartledtv2017modelun65mu8000fxzawith1yearextendedwarrantysamsung4kultrahdblurayplayer/562883729,samsung6454kultrahdsmartledtv2017modelun65mu8000fxzawith1yearextendedwarrantysamsung4kultrahdblurayplayer/182669244873,887276200644,samsung6454kultrahdsmartledtv2017modelun65mu8000fxzawith1yearextendedwarrantysamsung4kultrahdblurayplayer/182684673868,samsung6454kultrahdsmartledtv2017modelun65mu8000fxzawith1yearextendedwarrantysamsung4kultrahdblurayplayer/201886348367,samsung6454kultrahdsmartledtv2017modelun65mu8000fxzawith1yearextendedwarrantysamsung4kultrahdblurayplayer/292069472191,samsung6454kultrahdsmartledtv2017modelun65mu8000fxzawith1yearextendedwarrantysamsung4kultrahdblurayplayer/322490531668,samsung6454kultrahdsmartledtv2017modelun65mu8000fxzawith1yearextendedwarrantysamsung4kultrahdblurayplayer/5773800,samsung6454kultrahdsmartledtv2017modelun65mu8000fxzawith1yearextendedwarrantysamsung4kultrahdblurayplayer/b06x9vszym</th>\n",
              "      <td>36</td>\n",
              "    </tr>\n",
              "    <tr>\n",
              "      <th>lg65classoledc7series2160psmart4kuhdtvwithhdr/5763359,lgoled65c7p65c7oled4khdrsmarttv2017model/lgoled65c7p,lgoled65c7p65c7oled4khdrsmarttv2017model/5763359,lg/oled65c7p,lgelectronicsoled65c7p65inch4kultrahdsmartoledtv2017model/b01naym1tp,lgoled65c7p65c7oled4khdrsmarttv2017model/401296774378,lgoled65c7p65c7oled4khdrsmarttv2017model/b01naym1tp,lgoled65c7p65c7oled4khdrsmarttv2017model/b06xzmfngq,lgoled65c7p65c7oled4khdrsmarttv2017model/162592795550,lgoled65c7p65c7oled4khdrsmarttv2017model/182603329238,0719192611030,lgoled65c7p65c7oled4khdrsmarttv2017model/112475028578,719192611030,lgoled65c7p65c7oled4khdrsmarttv2017model/spm8815021002,c7pseries65classuhdsmartoledtv/lgoled65c7p,lgoled65c7p65c7oled4khdrsmarttv2017model/562993482,lgoled65c7p65c7oled4khdrsmarttv2017model/172776540916,lgoled65c7p65c7oled4khdrsmarttv2017model/282419926938,lgelectronicsoled65c7p65inch4kultrahdsmartoledtvrefurbished/562993482,lgoled65c7p65c7oled4khdrsmarttv2017model/162575630652,724893690307</th>\n",
              "      <td>36</td>\n",
              "    </tr>\n",
              "    <tr>\n",
              "      <th>...</th>\n",
              "      <td>...</td>\n",
              "    </tr>\n",
              "    <tr>\n",
              "      <th>alpinerearviewcamerablack/5700803,alpine/hcec125,alpinerearviewcamerablack/b00mkj69ju,793276210074,0793276210074</th>\n",
              "      <td>1</td>\n",
              "    </tr>\n",
              "    <tr>\n",
              "      <th>virtuallyinvisible891inwallspeakerspair/b013wqidsy,virtuallyinvisible891inwallspeakerspair/bovi891s,bose/7428960200,virtuallyinvisible891inwallspeakerspair/4666000,017817699136</th>\n",
              "      <td>1</td>\n",
              "    </tr>\n",
              "    <tr>\n",
              "      <th>victrolabluetoothstereoturntablemap/5255027,victrolabluetoothstereoturntablemap/5807505,victrolabluetoothstereoturntablemap/6168303,victrolabluetoothstereoturntablemap/6015605,victrolabluetoothstereoturntablemap/6168302,victrolabluetoothstereoturntablemap/5807517,victrolabluetoothstereoturntablemap/5807507,victrolabluetoothstereoturntablemap/5255024,victrolabluetoothstereoturntablemap/5807514,victrolabluetoothstereoturntablemap/6168301,victrolabluetoothstereoturntablemap/5807515,victrolabluetoothstereoturntablemap/5807504,victrolabluetoothstereoturntablemap/b01m7vnh02,victrolabluetoothstereoturntablemap/5807511,victrola/vsc550btp4,victrolabluetoothstereoturntablemap/6015602,victrolabluetoothstereoturntablemap/5635807,victrolabluetoothstereoturntablemap/5255021,victrolabluetoothstereoturntablemap/5635806,816203016287,victrolabluetoothstereoturntablemap/5807509,victrolabluetoothstereoturntablemap/5635812</th>\n",
              "      <td>1</td>\n",
              "    </tr>\n",
              "    <tr>\n",
              "      <th>audioquest/goldg02r,092592044715,0092592044715,audioquestgoldengate66analogrcacablered/9sia2ga1156493,audioquestgoldengate66analogrcacablered/b005ti1bm4,audioquestgoldengate66analogrcacablered/2926128</th>\n",
              "      <td>1</td>\n",
              "    </tr>\n",
              "    <tr>\n",
              "      <th>zubieincarwifivehiclemonitoringdeviceblack/4365302,854377004044,zubieincarwifivehiclemonitoringdeviceblack/b016m04qss,zubie/gl700c</th>\n",
              "      <td>1</td>\n",
              "    </tr>\n",
              "  </tbody>\n",
              "</table>\n",
              "<p>819 rows × 1 columns</p>\n",
              "</div>"
            ],
            "text/plain": [
              "                                                    observations\n",
              "keys                                                            \n",
              "wd/wd40efrx,as3102t8tb2baynasserverwithdriveski...            41\n",
              "samsung55classcurved4k2160pultrahdsmartledtvun5...            38\n",
              "samsung65class4k2160pultrahdsmartledtvun65mu900...            37\n",
              "841434182302,samsung6454kultrahdsmartledtv2017m...            36\n",
              "lg65classoledc7series2160psmart4kuhdtvwithhdr/5...            36\n",
              "...                                                          ...\n",
              "alpinerearviewcamerablack/5700803,alpine/hcec12...             1\n",
              "virtuallyinvisible891inwallspeakerspair/b013wqi...             1\n",
              "victrolabluetoothstereoturntablemap/5255027,vic...             1\n",
              "audioquest/goldg02r,092592044715,0092592044715,...             1\n",
              "zubieincarwifivehiclemonitoringdeviceblack/4365...             1\n",
              "\n",
              "[819 rows x 1 columns]"
            ]
          },
          "metadata": {
            "tags": []
          },
          "execution_count": 10
        }
      ]
    },
    {
      "cell_type": "code",
      "metadata": {
        "id": "DYdRPEbPhd6x"
      },
      "source": [
        "columns_to_drop = []"
      ],
      "execution_count": 11,
      "outputs": []
    },
    {
      "cell_type": "markdown",
      "metadata": {
        "id": "iLt6j4q_ZeHF"
      },
      "source": [
        "\n",
        "\n",
        "```\n",
        "prices.shipping, ean, manufacturer\n",
        "```\n",
        "prices.shipping has a high number of missing values relative to the size of the training dataset. Not sure if it is worth imputing. [ean](https://en.wikipedia.org/wiki/International_Article_Number) is the European Article Number, there is a really high proportion of missing values and the sales appear to be from North America (USD and CAD), so we should be able to drop this column. Manufacturer also has a high proportion of missing values, which is unfortunate. The keys field should be examined to see if we can discover the manufacturer.\n",
        "\n",
        "\n",
        "\n"
      ]
    },
    {
      "cell_type": "code",
      "metadata": {
        "id": "oPtpOElXb54P"
      },
      "source": [
        "columns_to_drop.extend(['prices.shipping','ean','manufacturer'])"
      ],
      "execution_count": 12,
      "outputs": []
    },
    {
      "cell_type": "markdown",
      "metadata": {
        "id": "eqNkW1tksRYP"
      },
      "source": [
        "Descriptive Statistics"
      ]
    },
    {
      "cell_type": "code",
      "metadata": {
        "colab": {
          "base_uri": "https://localhost:8080/",
          "height": 284
        },
        "id": "NUZYJuw6sURB",
        "outputId": "5841e1af-19dc-45b8-e8ea-e6d2643cfe85"
      },
      "source": [
        "ep_data.describe()"
      ],
      "execution_count": 13,
      "outputs": [
        {
          "output_type": "execute_result",
          "data": {
            "text/html": [
              "<div>\n",
              "<style scoped>\n",
              "    .dataframe tbody tr th:only-of-type {\n",
              "        vertical-align: middle;\n",
              "    }\n",
              "\n",
              "    .dataframe tbody tr th {\n",
              "        vertical-align: top;\n",
              "    }\n",
              "\n",
              "    .dataframe thead th {\n",
              "        text-align: right;\n",
              "    }\n",
              "</style>\n",
              "<table border=\"1\" class=\"dataframe\">\n",
              "  <thead>\n",
              "    <tr style=\"text-align: right;\">\n",
              "      <th></th>\n",
              "      <th>price</th>\n",
              "    </tr>\n",
              "  </thead>\n",
              "  <tbody>\n",
              "    <tr>\n",
              "      <th>count</th>\n",
              "      <td>5436.000000</td>\n",
              "    </tr>\n",
              "    <tr>\n",
              "      <th>mean</th>\n",
              "      <td>492.941161</td>\n",
              "    </tr>\n",
              "    <tr>\n",
              "      <th>std</th>\n",
              "      <td>769.246463</td>\n",
              "    </tr>\n",
              "    <tr>\n",
              "      <th>min</th>\n",
              "      <td>1.000000</td>\n",
              "    </tr>\n",
              "    <tr>\n",
              "      <th>25%</th>\n",
              "      <td>79.950000</td>\n",
              "    </tr>\n",
              "    <tr>\n",
              "      <th>50%</th>\n",
              "      <td>194.410000</td>\n",
              "    </tr>\n",
              "    <tr>\n",
              "      <th>75%</th>\n",
              "      <td>486.952500</td>\n",
              "    </tr>\n",
              "    <tr>\n",
              "      <th>max</th>\n",
              "      <td>6999.990000</td>\n",
              "    </tr>\n",
              "  </tbody>\n",
              "</table>\n",
              "</div>"
            ],
            "text/plain": [
              "             price\n",
              "count  5436.000000\n",
              "mean    492.941161\n",
              "std     769.246463\n",
              "min       1.000000\n",
              "25%      79.950000\n",
              "50%     194.410000\n",
              "75%     486.952500\n",
              "max    6999.990000"
            ]
          },
          "metadata": {
            "tags": []
          },
          "execution_count": 13
        }
      ]
    },
    {
      "cell_type": "code",
      "metadata": {
        "colab": {
          "base_uri": "https://localhost:8080/",
          "height": 371
        },
        "id": "ezPtrHa2hO91",
        "outputId": "5b1c3b01-1b5f-4ceb-c4dc-e26c46570b18"
      },
      "source": [
        "fig, ax = plt.subplots(1,3, squeeze=False, figsize=(20,6))\n",
        "_ = sns.histplot(x='price', data=ep_data, ax=ax[0][0])\n",
        "_ = sns.kdeplot(x='price', data=ep_data, ax=ax[0][1])\n",
        "_ = sns.boxplot(x='price', data=ep_data, ax=ax[0][2])"
      ],
      "execution_count": 14,
      "outputs": [
        {
          "output_type": "display_data",
          "data": {
            "image/png": "[encoded data removed]",
            "text/plain": [
              "<Figure size 1440x432 with 3 Axes>"
            ]
          },
          "metadata": {
            "tags": [],
            "needs_background": "light"
          }
        }
      ]
    },
    {
      "cell_type": "markdown",
      "metadata": {
        "id": "VC4p2_FZskJH"
      },
      "source": [
        "##Initial Exploratory Data Analysis"
      ]
    },
    {
      "cell_type": "markdown",
      "metadata": {
        "id": "gAhMpQTCsvXl"
      },
      "source": [
        "### id\n",
        "Summary: Not sure if there is any pattern to id, other than it is interesting that the top id occurs 41 times. Let's defer further analysis of this feature to a subsequent iteration of the model.\n",
        "Decision: drop id"
      ]
    },
    {
      "cell_type": "code",
      "metadata": {
        "colab": {
          "base_uri": "https://localhost:8080/"
        },
        "id": "CHOahVFknSb7",
        "outputId": "3dff604c-da7e-4db9-f6d3-cb096e8f5c5f"
      },
      "source": [
        "ep_data['id'].value_counts()\n",
        "ep_data['id'].describe(include='object')"
      ],
      "execution_count": 15,
      "outputs": [
        {
          "output_type": "execute_result",
          "data": {
            "text/plain": [
              "count                     5436\n",
              "unique                     819\n",
              "top       AV1YFZVDvKc47QAVgp7V\n",
              "freq                        41\n",
              "Name: id, dtype: object"
            ]
          },
          "metadata": {
            "tags": []
          },
          "execution_count": 15
        }
      ]
    },
    {
      "cell_type": "code",
      "metadata": {
        "id": "AWSoIfzjE3VG"
      },
      "source": [
        "columns_to_drop.append('id')"
      ],
      "execution_count": 16,
      "outputs": []
    },
    {
      "cell_type": "markdown",
      "metadata": {
        "id": "oiQb-mNhoWIU"
      },
      "source": [
        "### prices.availability\n",
        "####Summary: \n",
        "Interesting mixture of different words and phrases that are used to signify availability. May need to collapse as: {In Stock, Yes, yes, TRUE, 7 available}, {Out of Stock, More on the Way, sold, No, FALSE, Retired} {Special Order, undefined}\n",
        "####Decision:\n",
        "Recode to collect availability status into meaningful groups, then drop the column\n",
        "\n"
      ]
    },
    {
      "cell_type": "code",
      "metadata": {
        "colab": {
          "base_uri": "https://localhost:8080/"
        },
        "id": "cEYHfSu5n-Vs",
        "outputId": "f1cde6a0-eea3-4fcd-c6ab-c09882e1f217"
      },
      "source": [
        "ep_data['prices.availability'].value_counts()"
      ],
      "execution_count": 17,
      "outputs": [
        {
          "output_type": "execute_result",
          "data": {
            "text/plain": [
              "In Stock           2395\n",
              "Yes                1590\n",
              "yes                 657\n",
              "TRUE                513\n",
              "Out Of Stock         89\n",
              "Special Order        80\n",
              "More on the Way      63\n",
              "undefined            28\n",
              "sold                 14\n",
              "No                    4\n",
              "Retired               1\n",
              "FALSE                 1\n",
              "7 available           1\n",
              "Name: prices.availability, dtype: int64"
            ]
          },
          "metadata": {
            "tags": []
          },
          "execution_count": 17
        }
      ]
    },
    {
      "cell_type": "code",
      "metadata": {
        "id": "9UC4AAKyaU7Q"
      },
      "source": [
        "def group_price_availability(availability):\n",
        "  mapping = {\n",
        "      'in stock': 'IN STOCK',\n",
        "      'yes': 'IN STOCK',\n",
        "      'true': 'IN STOCK',\n",
        "      'false': 'OUT OF STOCK',\n",
        "      'no': 'OUT OF STOCK',\n",
        "      'undefined': 'UNKNOWN'\n",
        "  }\n",
        "  try:\n",
        "    return mapping[availability.lower()]\n",
        "  except:\n",
        "    return 'OUT OF STOCK'\n",
        "\n",
        "ep_data['availability_cleaned'] = ep_data['prices.availability'].apply(group_price_availability)\n",
        "ep_data['availability_cleaned'] = ep_data['availability_cleaned'].astype('category')\n",
        "\n",
        "\n"
      ],
      "execution_count": 18,
      "outputs": []
    },
    {
      "cell_type": "code",
      "metadata": {
        "colab": {
          "base_uri": "https://localhost:8080/",
          "height": 404
        },
        "id": "8mlkLU8IThjD",
        "outputId": "af042965-973e-45b4-a73d-b2b5ee0d5188"
      },
      "source": [
        "sns.catplot(x='availability_cleaned', kind='count', data=ep_data)"
      ],
      "execution_count": 19,
      "outputs": [
        {
          "output_type": "execute_result",
          "data": {
            "text/plain": [
              "<seaborn.axisgrid.FacetGrid at 0x7fc0f6cf3358>"
            ]
          },
          "metadata": {
            "tags": []
          },
          "execution_count": 19
        },
        {
          "output_type": "display_data",
          "data": {
            "image/png": "[encoded data removed]",
            "text/plain": [
              "<Figure size 360x360 with 1 Axes>"
            ]
          },
          "metadata": {
            "tags": [],
            "needs_background": "light"
          }
        }
      ]
    },
    {
      "cell_type": "code",
      "metadata": {
        "colab": {
          "base_uri": "https://localhost:8080/",
          "height": 166
        },
        "id": "FV80wLstVYJF",
        "outputId": "4c9fa73a-94f6-44d8-df3c-aed07274c62b"
      },
      "source": [
        "ep_data.groupby(['availability_cleaned']) \\\r\n",
        ".agg({'id':'count','price':'median'}) \\\r\n",
        ".rename(columns={'price':'price_median'}) \\\r\n",
        ".sort_values(by='id', ascending=False)"
      ],
      "execution_count": 21,
      "outputs": [
        {
          "output_type": "execute_result",
          "data": {
            "text/html": [
              "<div>\n",
              "<style scoped>\n",
              "    .dataframe tbody tr th:only-of-type {\n",
              "        vertical-align: middle;\n",
              "    }\n",
              "\n",
              "    .dataframe tbody tr th {\n",
              "        vertical-align: top;\n",
              "    }\n",
              "\n",
              "    .dataframe thead th {\n",
              "        text-align: right;\n",
              "    }\n",
              "</style>\n",
              "<table border=\"1\" class=\"dataframe\">\n",
              "  <thead>\n",
              "    <tr style=\"text-align: right;\">\n",
              "      <th></th>\n",
              "      <th>id</th>\n",
              "      <th>price_median</th>\n",
              "    </tr>\n",
              "    <tr>\n",
              "      <th>availability_cleaned</th>\n",
              "      <th></th>\n",
              "      <th></th>\n",
              "    </tr>\n",
              "  </thead>\n",
              "  <tbody>\n",
              "    <tr>\n",
              "      <th>IN STOCK</th>\n",
              "      <td>5155</td>\n",
              "      <td>192.25</td>\n",
              "    </tr>\n",
              "    <tr>\n",
              "      <th>OUT OF STOCK</th>\n",
              "      <td>253</td>\n",
              "      <td>198.99</td>\n",
              "    </tr>\n",
              "    <tr>\n",
              "      <th>UNKNOWN</th>\n",
              "      <td>28</td>\n",
              "      <td>214.99</td>\n",
              "    </tr>\n",
              "  </tbody>\n",
              "</table>\n",
              "</div>"
            ],
            "text/plain": [
              "                        id  price_median\n",
              "availability_cleaned                    \n",
              "IN STOCK              5155        192.25\n",
              "OUT OF STOCK           253        198.99\n",
              "UNKNOWN                 28        214.99"
            ]
          },
          "metadata": {
            "tags": []
          },
          "execution_count": 21
        }
      ]
    },
    {
      "cell_type": "code",
      "metadata": {
        "id": "ZsBY_2brjMG6"
      },
      "source": [
        "columns_to_drop.append('prices.availability')"
      ],
      "execution_count": 22,
      "outputs": []
    },
    {
      "cell_type": "markdown",
      "metadata": {
        "id": "NpmsldTjpuKV"
      },
      "source": [
        "\n",
        "\n",
        "### prices.condition\n",
        "#### Summary:\n",
        "{New, new}, {Used, pre-owned}, {New other (see details)}, {Manufacturer refurbished, Seller refurbished, Refurbished, refurbished} and one data entry error with a long string \"New Kicker...\"\n",
        "#### Decision:\n",
        "Recode to collect availability status into meaningful groups and then drop prices.condition\n",
        "\n"
      ]
    },
    {
      "cell_type": "code",
      "metadata": {
        "colab": {
          "base_uri": "https://localhost:8080/"
        },
        "id": "oCyVl7EQpgAs",
        "outputId": "322bea3c-c980-42dd-e4c0-87ab26c4e33b"
      },
      "source": [
        "ep_data['prices.condition'].value_counts()"
      ],
      "execution_count": 23,
      "outputs": [
        {
          "output_type": "execute_result",
          "data": {
            "text/plain": [
              "New                                                                                                                                                                                                                                                                                                                                                                                                                                                                                                                                                                                                                                                                                                                                                                                                                                                                                                                                                                                                                                                                                                                                                                                                                                                                                                                                      4645\n",
              "new                                                                                                                                                                                                                                                                                                                                                                                                                                                                                                                                                                                                                                                                                                                                                                                                                                                                                                                                                                                                                                                                                                                                                                                                                                                                                                                                       537\n",
              "Used                                                                                                                                                                                                                                                                                                                                                                                                                                                                                                                                                                                                                                                                                                                                                                                                                                                                                                                                                                                                                                                                                                                                                                                                                                                                                                                                      118\n",
              "New other (see details)                                                                                                                                                                                                                                                                                                                                                                                                                                                                                                                                                                                                                                                                                                                                                                                                                                                                                                                                                                                                                                                                                                                                                                                                                                                                                                                    63\n",
              "Manufacturer refurbished                                                                                                                                                                                                                                                                                                                                                                                                                                                                                                                                                                                                                                                                                                                                                                                                                                                                                                                                                                                                                                                                                                                                                                                                                                                                                                                   43\n",
              "Seller refurbished                                                                                                                                                                                                                                                                                                                                                                                                                                                                                                                                                                                                                                                                                                                                                                                                                                                                                                                                                                                                                                                                                                                                                                                                                                                                                                                         15\n",
              "Refurbished                                                                                                                                                                                                                                                                                                                                                                                                                                                                                                                                                                                                                                                                                                                                                                                                                                                                                                                                                                                                                                                                                                                                                                                                                                                                                                                                 8\n",
              "pre-owned                                                                                                                                                                                                                                                                                                                                                                                                                                                                                                                                                                                                                                                                                                                                                                                                                                                                                                                                                                                                                                                                                                                                                                                                                                                                                                                                   3\n",
              "refurbished                                                                                                                                                                                                                                                                                                                                                                                                                                                                                                                                                                                                                                                                                                                                                                                                                                                                                                                                                                                                                                                                                                                                                                                                                                                                                                                                 2\n",
              "New Kicker BT2 41IK5BT2V2 Wireless Bluetooth USB Audio System Black + Remote, Power Supply (volts, ampere): 24, 2.9, Square Reflex Subwoofer (in., mm): 6 x 6\", Stereo Amp Power with DSP (watts): 50, App for customizing - KickStart, Remote Control Included, Height x Width x Depth (in, mm): 8.87\" x 19\" x 9.14\", Frequency Response (Hz): 24-20k, +-3dB, Woofer (in., cm): 5\", 1 Year Manufacturer Warranty, Item Weight: 13.85 lbs., USB Port, Compatible with: Bluetooth-enabled devices, Aux-in, Speaker Design: 2-Way Full-Range, Bluetooth wireless streaming, Condition: Brand New!, Tweeter (in., cm): 3/4\"                                                                                                                                                                                                                                                                                                                                                                                                                                                                                                                                                                                                                                                                                                                    1\n",
              "5/16\" Ring Terminal, 3 ft. 8 GA Black Ground Cable, 6 ft. Split Loom Tubing, Depth: 6.5\" (165mm) (top) 11.2\" (285mm) (bottom), Item Weight: 18.5 lbs., Frequency Response 25Hz - 500Hz, Line Output, Max Power: 1100 Watt x 1 Channel @ 2 Ohm, 30 ft. Speaker Wire, Boss Illuminated Logo, Height: 12.8\" (325mm), (3) Rubber Grommets, Item Weight: 2 lbs., Size 10\", 20 ft. 8 GA Red Power Cable, Ported enclosure for greater output and deeper bass, 2 Ohm Stable, Class A/B, Voice Coil Size 2\", Black rubber surround, Nominal Impedance 4 ohm, Rugged fiberboard construction with thick carpet covering, Warranty: 1 Year Manufacturer Warranty, MOSFET Power, Weight: 6 lbs, Width: 17.7\" (450mm), Condition: Brand New!, Low Pass Crossover, List item, RMS Power: 250 Watt x 1 Channel @ 4 Ohm, Remote Bass Control Included!, 1/4\" Ring Terminal, 16 ft. 18 GA Blue Turn-On Wire, Peak Power: 500 Watts, Competition High Quality Fuse Holder, Condition: BRAND NEW!, Product Condition: Brand New, RMS Power: 175 Watts, Aluminum woofer cone, THD: 0.01%, 1 Year Manufacturer Warranty, Dimensions: 10-7/16\" (W) x 2-1/4\" (H) x 9-1/8\" (L), #10 Ring Terminal, 20 ft. High Performance Black RCA, SPL (db @ 1w/1m) 88dB, New Dual SBX101 10\" 500 Watts Car Audio Subwoofer Sub + Ported Sub Enclosure, (20) 4\" Wire Ties       1\n",
              "Name: prices.condition, dtype: int64"
            ]
          },
          "metadata": {
            "tags": []
          },
          "execution_count": 23
        }
      ]
    },
    {
      "cell_type": "markdown",
      "metadata": {
        "id": "iwdnc3pRFRo-"
      },
      "source": [
        "{New, new}, {Used, pre-owned}, {New other (see details)}, {Manufacturer refurbished, Seller refurbished, Refurbished, refurbished} and one data entry error with a long string \"New Kicker...\"\n"
      ]
    },
    {
      "cell_type": "code",
      "metadata": {
        "id": "ij21l5ngkbVg",
        "colab": {
          "base_uri": "https://localhost:8080/"
        },
        "outputId": "be25c259-ca64-4e4a-9069-a5ac089a30a1"
      },
      "source": [
        "def group_price_condition(condition):\n",
        "  mapping = {\n",
        "      'new': 'NEW',\n",
        "      'used': 'USED',\n",
        "      'manufacturer refurbished': 'REFURB',\n",
        "      'seller refurbished': 'REFURB',\n",
        "      'refurbished': 'REFURB',\n",
        "      'pre-owned': 'USED',\n",
        "      'new other (see details)': 'OTHER'\n",
        "  }\n",
        "  try:\n",
        "    return mapping[condition.lower()]\n",
        "  except:\n",
        "    return 'OTHER'\n",
        "\n",
        "ep_data['condition_cleaned'] = ep_data['prices.condition'].apply(group_price_condition)\n",
        "ep_data['condition_cleaned'] = ep_data['condition_cleaned'].astype('category')\n",
        "ep_data['condition_cleaned'].value_counts()\n",
        "\n"
      ],
      "execution_count": 24,
      "outputs": [
        {
          "output_type": "execute_result",
          "data": {
            "text/plain": [
              "NEW       5182\n",
              "USED       121\n",
              "REFURB      68\n",
              "OTHER       65\n",
              "Name: condition_cleaned, dtype: int64"
            ]
          },
          "metadata": {
            "tags": []
          },
          "execution_count": 24
        }
      ]
    },
    {
      "cell_type": "code",
      "metadata": {
        "colab": {
          "base_uri": "https://localhost:8080/",
          "height": 404
        },
        "id": "AIjd1q5q4UIR",
        "outputId": "bd513ce8-56cb-4315-8efd-a335d970a495"
      },
      "source": [
        "sns.catplot(y='condition_cleaned', kind='count', data=ep_data)"
      ],
      "execution_count": 25,
      "outputs": [
        {
          "output_type": "execute_result",
          "data": {
            "text/plain": [
              "<seaborn.axisgrid.FacetGrid at 0x7fc0f6df3080>"
            ]
          },
          "metadata": {
            "tags": []
          },
          "execution_count": 25
        },
        {
          "output_type": "display_data",
          "data": {
            "image/png": "[encoded data removed]",
            "text/plain": [
              "<Figure size 360x360 with 1 Axes>"
            ]
          },
          "metadata": {
            "tags": [],
            "needs_background": "light"
          }
        }
      ]
    },
    {
      "cell_type": "code",
      "metadata": {
        "colab": {
          "base_uri": "https://localhost:8080/",
          "height": 195
        },
        "id": "LDjY2mUIWJ_q",
        "outputId": "f400330f-69a1-401d-966a-88616f63cbed"
      },
      "source": [
        "ep_data.groupby(['condition_cleaned']) \\\r\n",
        ".agg({'id':'count', 'price':'median'}) \\\r\n",
        ".rename(columns={'price':'price_median'}) \\\r\n",
        ".sort_values(by='id', ascending=False)"
      ],
      "execution_count": 26,
      "outputs": [
        {
          "output_type": "execute_result",
          "data": {
            "text/html": [
              "<div>\n",
              "<style scoped>\n",
              "    .dataframe tbody tr th:only-of-type {\n",
              "        vertical-align: middle;\n",
              "    }\n",
              "\n",
              "    .dataframe tbody tr th {\n",
              "        vertical-align: top;\n",
              "    }\n",
              "\n",
              "    .dataframe thead th {\n",
              "        text-align: right;\n",
              "    }\n",
              "</style>\n",
              "<table border=\"1\" class=\"dataframe\">\n",
              "  <thead>\n",
              "    <tr style=\"text-align: right;\">\n",
              "      <th></th>\n",
              "      <th>id</th>\n",
              "      <th>price_median</th>\n",
              "    </tr>\n",
              "    <tr>\n",
              "      <th>condition_cleaned</th>\n",
              "      <th></th>\n",
              "      <th></th>\n",
              "    </tr>\n",
              "  </thead>\n",
              "  <tbody>\n",
              "    <tr>\n",
              "      <th>NEW</th>\n",
              "      <td>5182</td>\n",
              "      <td>198.00</td>\n",
              "    </tr>\n",
              "    <tr>\n",
              "      <th>USED</th>\n",
              "      <td>121</td>\n",
              "      <td>148.00</td>\n",
              "    </tr>\n",
              "    <tr>\n",
              "      <th>REFURB</th>\n",
              "      <td>68</td>\n",
              "      <td>107.49</td>\n",
              "    </tr>\n",
              "    <tr>\n",
              "      <th>OTHER</th>\n",
              "      <td>65</td>\n",
              "      <td>109.99</td>\n",
              "    </tr>\n",
              "  </tbody>\n",
              "</table>\n",
              "</div>"
            ],
            "text/plain": [
              "                     id  price_median\n",
              "condition_cleaned                    \n",
              "NEW                5182        198.00\n",
              "USED                121        148.00\n",
              "REFURB               68        107.49\n",
              "OTHER                65        109.99"
            ]
          },
          "metadata": {
            "tags": []
          },
          "execution_count": 26
        }
      ]
    },
    {
      "cell_type": "code",
      "metadata": {
        "id": "HdpXjkWWj2MS"
      },
      "source": [
        "columns_to_drop.append('prices.condition')"
      ],
      "execution_count": 27,
      "outputs": []
    },
    {
      "cell_type": "markdown",
      "metadata": {
        "id": "TOxE18qPqqeL"
      },
      "source": [
        "\n",
        "\n",
        "### prices.currency\n",
        "#### Summary:\n",
        "One observation with CAD, all the rest are USD. May need to convert this to USD based on prices.dateSeen date?\n",
        "#### Decision:\n",
        "Keep, may need to convert the one row in CAD to USD. Not enough information to know if price for this row is really in USD and it was just a data entry error for the prices.currency column.\n"
      ]
    },
    {
      "cell_type": "code",
      "metadata": {
        "colab": {
          "base_uri": "https://localhost:8080/"
        },
        "id": "zwzkv8dMqvBL",
        "outputId": "c0c2fee3-c0cd-4a0e-f782-bd9f2eb08230"
      },
      "source": [
        "ep_data['prices.currency'].value_counts()"
      ],
      "execution_count": 28,
      "outputs": [
        {
          "output_type": "execute_result",
          "data": {
            "text/plain": [
              "USD    5435\n",
              "CAD       1\n",
              "Name: prices.currency, dtype: int64"
            ]
          },
          "metadata": {
            "tags": []
          },
          "execution_count": 28
        }
      ]
    },
    {
      "cell_type": "markdown",
      "metadata": {
        "id": "nPRZ9qN-FidF"
      },
      "source": [
        "One observation with CAD, all the rest are USD. May need to convert this to USD based on prices.dateSeen date?"
      ]
    },
    {
      "cell_type": "code",
      "metadata": {
        "id": "yZM1d_T8WRM6"
      },
      "source": [
        "columns_to_drop.append('prices.currency')"
      ],
      "execution_count": 29,
      "outputs": []
    },
    {
      "cell_type": "code",
      "metadata": {
        "colab": {
          "base_uri": "https://localhost:8080/",
          "height": 181
        },
        "id": "-kq6JV8Yr84w",
        "outputId": "96f1c26f-41a1-4b88-e1b7-730fcc1aa547"
      },
      "source": [
        "ep_data[ep_data['prices.currency'] == 'CAD']"
      ],
      "execution_count": 30,
      "outputs": [
        {
          "output_type": "execute_result",
          "data": {
            "text/html": [
              "<div>\n",
              "<style scoped>\n",
              "    .dataframe tbody tr th:only-of-type {\n",
              "        vertical-align: middle;\n",
              "    }\n",
              "\n",
              "    .dataframe tbody tr th {\n",
              "        vertical-align: top;\n",
              "    }\n",
              "\n",
              "    .dataframe thead th {\n",
              "        text-align: right;\n",
              "    }\n",
              "</style>\n",
              "<table border=\"1\" class=\"dataframe\">\n",
              "  <thead>\n",
              "    <tr style=\"text-align: right;\">\n",
              "      <th></th>\n",
              "      <th>id</th>\n",
              "      <th>prices.availability</th>\n",
              "      <th>prices.condition</th>\n",
              "      <th>prices.currency</th>\n",
              "      <th>prices.dateSeen</th>\n",
              "      <th>prices.isSale</th>\n",
              "      <th>prices.merchant</th>\n",
              "      <th>prices.shipping</th>\n",
              "      <th>prices.sourceURLs</th>\n",
              "      <th>asins</th>\n",
              "      <th>brand</th>\n",
              "      <th>categories</th>\n",
              "      <th>dateAdded</th>\n",
              "      <th>dateUpdated</th>\n",
              "      <th>ean</th>\n",
              "      <th>imageURLs</th>\n",
              "      <th>keys</th>\n",
              "      <th>manufacturer</th>\n",
              "      <th>manufacturerNumber</th>\n",
              "      <th>name</th>\n",
              "      <th>primaryCategories</th>\n",
              "      <th>sourceURLs</th>\n",
              "      <th>upc</th>\n",
              "      <th>weight</th>\n",
              "      <th>price</th>\n",
              "      <th>availability_cleaned</th>\n",
              "      <th>condition_cleaned</th>\n",
              "    </tr>\n",
              "  </thead>\n",
              "  <tbody>\n",
              "    <tr>\n",
              "      <th>1317</th>\n",
              "      <td>AVpe6fQ1ilAPnD_xQvv9</td>\n",
              "      <td>yes</td>\n",
              "      <td>New other (see details)</td>\n",
              "      <td>CAD</td>\n",
              "      <td>2017-09-28T02:00:00Z</td>\n",
              "      <td>False</td>\n",
              "      <td>rideausales</td>\n",
              "      <td>CAD 18.61</td>\n",
              "      <td>http://www.ebay.com/itm/V-Moda-Boom-Pro-Microp...</td>\n",
              "      <td>B00A39PPI0,B00BJ17WKK</td>\n",
              "      <td>V-Moda</td>\n",
              "      <td>Computers,Stereos,Microphones &amp; Headsets,Audio...</td>\n",
              "      <td>2015-09-11T00:50:06Z</td>\n",
              "      <td>2018-06-20T15:47:05Z</td>\n",
              "      <td>8,776,530,058,490,870,000,000,000</td>\n",
              "      <td>http://ecx.images-amazon.com/images/I/41WfbQw%...</td>\n",
              "      <td>0877653006563,vmodacrossfadewirelessheadphones...</td>\n",
              "      <td>V-Moda</td>\n",
              "      <td>XFBTPHCRM</td>\n",
              "      <td>V-MODA Crossfade Wireless Over-Ear Headphones ...</td>\n",
              "      <td>Electronics</td>\n",
              "      <td>http://www.ebay.com/itm/V-Moda-Boom-Pro-Microp...</td>\n",
              "      <td>8.78E+11</td>\n",
              "      <td>2 pounds</td>\n",
              "      <td>39.99</td>\n",
              "      <td>IN STOCK</td>\n",
              "      <td>OTHER</td>\n",
              "    </tr>\n",
              "  </tbody>\n",
              "</table>\n",
              "</div>"
            ],
            "text/plain": [
              "                        id  ... condition_cleaned\n",
              "1317  AVpe6fQ1ilAPnD_xQvv9  ...             OTHER\n",
              "\n",
              "[1 rows x 27 columns]"
            ]
          },
          "metadata": {
            "tags": []
          },
          "execution_count": 30
        }
      ]
    },
    {
      "cell_type": "markdown",
      "metadata": {
        "id": "PRI-0od_JD5b"
      },
      "source": [
        "\n",
        "\n",
        "### prices.dateSeen\n",
        "#### Summary:\n",
        "There are multiple observations per row, comma separated and each observation appears to be in ISO8601 format. We could find the count of how many times the item price was seen, find the latest datetime and earliest datetime and then extract date and time details.\n",
        "#### Decision:\n",
        "For this iteration, let's extract just the latest datetime and then capture salient date and time details. Drop prices.dateSeen\n"
      ]
    },
    {
      "cell_type": "code",
      "metadata": {
        "colab": {
          "base_uri": "https://localhost:8080/"
        },
        "id": "nh_opquYWHpk",
        "outputId": "a853f293-a8ac-4598-925f-d69087c75ab1"
      },
      "source": [
        "ep_data['prices.dateSeen']"
      ],
      "execution_count": 31,
      "outputs": [
        {
          "output_type": "execute_result",
          "data": {
            "text/plain": [
              "0               2017-05-10T20:00:00Z,2017-05-09T15:00:00Z\n",
              "1       2017-10-10T02:00:00Z,2017-08-12T03:00:00Z,2017...\n",
              "2       2017-10-10T19:00:00Z,2017-09-12T14:00:00Z,2017...\n",
              "3       2017-09-08T05:00:00Z,2017-09-18T13:00:00Z,2017...\n",
              "4                                    2017-12-05T13:00:00Z\n",
              "                              ...                        \n",
              "5431            2017-03-30T05:00:00Z,2017-03-30T11:00:00Z\n",
              "5432    2017-12-07T08:00:00Z,2017-12-04T22:00:00Z,2017...\n",
              "5433                                 2017-08-10T02:00:00Z\n",
              "5434                                 2017-12-08T01:00:00Z\n",
              "5435            2018-03-24T00:00:00Z,2018-03-19T18:00:00Z\n",
              "Name: prices.dateSeen, Length: 5436, dtype: object"
            ]
          },
          "metadata": {
            "tags": []
          },
          "execution_count": 31
        }
      ]
    },
    {
      "cell_type": "code",
      "metadata": {
        "id": "6JYYEqVpJ_FZ"
      },
      "source": [
        "# Note:\n",
        "# Could also have returned number of times seen as len(set(date_obj_list))\n",
        "# and earliest date and earliest time seen with min(date_obj_list).date() and min(date_obj_list).time()\n",
        "\n",
        "def process_date_seen(r):\n",
        "  r_list = r.split(',')\n",
        "  date_obj_list = [isoparse(x) for x in r_list]\n",
        "  return  max(date_obj_list).date(), \\\n",
        "          max(date_obj_list).time()\n",
        "\n",
        "# https://www.programiz.com/python-programming/datetime/strftime\n",
        "def date_details(r):\n",
        "  return int(r.strftime('%Y')), \\\n",
        "        int(r.strftime('%-m')), \\\n",
        "        int(r.strftime('%-d')), \\\n",
        "        int(r.strftime('%w'))\n",
        "\n",
        "def time_details(r):\n",
        "  return int(r.strftime('%-H')), \\\n",
        "         r.strftime('%p')\n",
        "          "
      ],
      "execution_count": 32,
      "outputs": []
    },
    {
      "cell_type": "code",
      "metadata": {
        "id": "rnpPJoj2Vmbw"
      },
      "source": [
        "# https://stackoverflow.com/questions/23586510/return-multiple-columns-from-pandas-apply\n",
        "ep_data['latestDateSeen'], ep_data['latestTimeSeen'] = zip(*ep_data['prices.dateSeen'].apply(process_date_seen))\n"
      ],
      "execution_count": 33,
      "outputs": []
    },
    {
      "cell_type": "code",
      "metadata": {
        "colab": {
          "base_uri": "https://localhost:8080/",
          "height": 195
        },
        "id": "JAZkbGukZmKv",
        "outputId": "fa29a1ba-59b4-4bb5-f070-8c8e34a96f51"
      },
      "source": [
        "ep_data[['latestDateSeen','latestTimeSeen']].head()"
      ],
      "execution_count": 34,
      "outputs": [
        {
          "output_type": "execute_result",
          "data": {
            "text/html": [
              "<div>\n",
              "<style scoped>\n",
              "    .dataframe tbody tr th:only-of-type {\n",
              "        vertical-align: middle;\n",
              "    }\n",
              "\n",
              "    .dataframe tbody tr th {\n",
              "        vertical-align: top;\n",
              "    }\n",
              "\n",
              "    .dataframe thead th {\n",
              "        text-align: right;\n",
              "    }\n",
              "</style>\n",
              "<table border=\"1\" class=\"dataframe\">\n",
              "  <thead>\n",
              "    <tr style=\"text-align: right;\">\n",
              "      <th></th>\n",
              "      <th>latestDateSeen</th>\n",
              "      <th>latestTimeSeen</th>\n",
              "    </tr>\n",
              "  </thead>\n",
              "  <tbody>\n",
              "    <tr>\n",
              "      <th>0</th>\n",
              "      <td>2017-05-10</td>\n",
              "      <td>20:00:00</td>\n",
              "    </tr>\n",
              "    <tr>\n",
              "      <th>1</th>\n",
              "      <td>2017-10-10</td>\n",
              "      <td>02:00:00</td>\n",
              "    </tr>\n",
              "    <tr>\n",
              "      <th>2</th>\n",
              "      <td>2017-10-10</td>\n",
              "      <td>19:00:00</td>\n",
              "    </tr>\n",
              "    <tr>\n",
              "      <th>3</th>\n",
              "      <td>2017-09-18</td>\n",
              "      <td>13:00:00</td>\n",
              "    </tr>\n",
              "    <tr>\n",
              "      <th>4</th>\n",
              "      <td>2017-12-05</td>\n",
              "      <td>13:00:00</td>\n",
              "    </tr>\n",
              "  </tbody>\n",
              "</table>\n",
              "</div>"
            ],
            "text/plain": [
              "  latestDateSeen latestTimeSeen\n",
              "0     2017-05-10       20:00:00\n",
              "1     2017-10-10       02:00:00\n",
              "2     2017-10-10       19:00:00\n",
              "3     2017-09-18       13:00:00\n",
              "4     2017-12-05       13:00:00"
            ]
          },
          "metadata": {
            "tags": []
          },
          "execution_count": 34
        }
      ]
    },
    {
      "cell_type": "code",
      "metadata": {
        "id": "ebhtYDOyNVqS"
      },
      "source": [
        "ep_data['latestDateSeenYear'], ep_data['latestDateSeenMonth'], ep_data['latestDateSeenDay'], ep_data['latestDateSeenDayOfWeek']  = zip(*ep_data['latestDateSeen'].apply(date_details))\n",
        "ep_data['latestTimeSeen24H'], ep_data['latestTimeSeenAMPM'] = zip(*ep_data['latestTimeSeen'].apply(time_details))"
      ],
      "execution_count": 35,
      "outputs": []
    },
    {
      "cell_type": "code",
      "metadata": {
        "colab": {
          "base_uri": "https://localhost:8080/",
          "height": 404
        },
        "id": "5hwzQhfBUlrU",
        "outputId": "3ac29005-7981-492d-f03b-3f750505cfa2"
      },
      "source": [
        "sns.catplot(x='latestDateSeenYear', kind='count', data=ep_data)"
      ],
      "execution_count": 36,
      "outputs": [
        {
          "output_type": "execute_result",
          "data": {
            "text/plain": [
              "<seaborn.axisgrid.FacetGrid at 0x7fc0f6101ac8>"
            ]
          },
          "metadata": {
            "tags": []
          },
          "execution_count": 36
        },
        {
          "output_type": "display_data",
          "data": {
            "image/png": "[encoded data removed]",
            "text/plain": [
              "<Figure size 360x360 with 1 Axes>"
            ]
          },
          "metadata": {
            "tags": [],
            "needs_background": "light"
          }
        }
      ]
    },
    {
      "cell_type": "code",
      "metadata": {
        "colab": {
          "base_uri": "https://localhost:8080/",
          "height": 404
        },
        "id": "-iXOnhiaVAWJ",
        "outputId": "87cadbf0-ea1a-4392-daaa-fb8a65828657"
      },
      "source": [
        "sns.catplot(y='latestDateSeenMonth', kind='count', palette=\"ch:.25\", data=ep_data.sort_values(by='latestDateSeenMonth'))"
      ],
      "execution_count": 37,
      "outputs": [
        {
          "output_type": "execute_result",
          "data": {
            "text/plain": [
              "<seaborn.axisgrid.FacetGrid at 0x7fc0f309f748>"
            ]
          },
          "metadata": {
            "tags": []
          },
          "execution_count": 37
        },
        {
          "output_type": "display_data",
          "data": {
            "image/png": "[encoded data removed]",
            "text/plain": [
              "<Figure size 360x360 with 1 Axes>"
            ]
          },
          "metadata": {
            "tags": [],
            "needs_background": "light"
          }
        }
      ]
    },
    {
      "cell_type": "code",
      "metadata": {
        "colab": {
          "base_uri": "https://localhost:8080/",
          "height": 404
        },
        "id": "iYklB9DcVY6T",
        "outputId": "72c87a44-8844-47dc-f0f0-caba27638442"
      },
      "source": [
        "sns.catplot(y='latestDateSeenDay', kind='count', palette=\"ch:.25\", data=ep_data.sort_values(by='latestDateSeenDay'))"
      ],
      "execution_count": 38,
      "outputs": [
        {
          "output_type": "execute_result",
          "data": {
            "text/plain": [
              "<seaborn.axisgrid.FacetGrid at 0x7fc0f300a9e8>"
            ]
          },
          "metadata": {
            "tags": []
          },
          "execution_count": 38
        },
        {
          "output_type": "display_data",
          "data": {
            "image/png": "[encoded data removed]",
            "text/plain": [
              "<Figure size 360x360 with 1 Axes>"
            ]
          },
          "metadata": {
            "tags": [],
            "needs_background": "light"
          }
        }
      ]
    },
    {
      "cell_type": "code",
      "metadata": {
        "colab": {
          "base_uri": "https://localhost:8080/",
          "height": 404
        },
        "id": "PhRauCP0Vv_4",
        "outputId": "673016e5-e96c-498c-b3a0-e88de7b5c619"
      },
      "source": [
        "sns.catplot(y='latestDateSeenDayOfWeek', kind='count', palette=\"ch:.25\", data=ep_data.sort_values(by='latestDateSeenDayOfWeek'))"
      ],
      "execution_count": 39,
      "outputs": [
        {
          "output_type": "execute_result",
          "data": {
            "text/plain": [
              "<seaborn.axisgrid.FacetGrid at 0x7fc0f2fb2eb8>"
            ]
          },
          "metadata": {
            "tags": []
          },
          "execution_count": 39
        },
        {
          "output_type": "display_data",
          "data": {
            "image/png": "[encoded data removed]",
            "text/plain": [
              "<Figure size 360x360 with 1 Axes>"
            ]
          },
          "metadata": {
            "tags": [],
            "needs_background": "light"
          }
        }
      ]
    },
    {
      "cell_type": "code",
      "metadata": {
        "colab": {
          "base_uri": "https://localhost:8080/",
          "height": 404
        },
        "id": "Af2Ki80lWP_l",
        "outputId": "289ec878-2c1f-4b64-fbf7-3ae0f678e339"
      },
      "source": [
        "sns.catplot(y='latestTimeSeen24H', kind='count', palette=\"ch:.25\", data=ep_data.sort_values(by='latestTimeSeen24H'))"
      ],
      "execution_count": 40,
      "outputs": [
        {
          "output_type": "execute_result",
          "data": {
            "text/plain": [
              "<seaborn.axisgrid.FacetGrid at 0x7fc0f2edb400>"
            ]
          },
          "metadata": {
            "tags": []
          },
          "execution_count": 40
        },
        {
          "output_type": "display_data",
          "data": {
            "image/png": "[encoded data removed]",
            "text/plain": [
              "<Figure size 360x360 with 1 Axes>"
            ]
          },
          "metadata": {
            "tags": [],
            "needs_background": "light"
          }
        }
      ]
    },
    {
      "cell_type": "code",
      "metadata": {
        "colab": {
          "base_uri": "https://localhost:8080/",
          "height": 404
        },
        "id": "HpETfIwOWbQ7",
        "outputId": "2826a0b3-b5cd-412f-bd20-f66ab05ad4b8"
      },
      "source": [
        "sns.catplot(x='latestTimeSeenAMPM', kind='count', data=ep_data)"
      ],
      "execution_count": 41,
      "outputs": [
        {
          "output_type": "execute_result",
          "data": {
            "text/plain": [
              "<seaborn.axisgrid.FacetGrid at 0x7fc0f60d9780>"
            ]
          },
          "metadata": {
            "tags": []
          },
          "execution_count": 41
        },
        {
          "output_type": "display_data",
          "data": {
            "image/png": "[encoded data removed]",
            "text/plain": [
              "<Figure size 360x360 with 1 Axes>"
            ]
          },
          "metadata": {
            "tags": [],
            "needs_background": "light"
          }
        }
      ]
    },
    {
      "cell_type": "code",
      "metadata": {
        "colab": {
          "base_uri": "https://localhost:8080/",
          "height": 284
        },
        "id": "4eA0jzsgTO7V",
        "outputId": "9c51bb41-927b-4ec4-fd28-73e8c4a67cba"
      },
      "source": [
        "ep_data[['latestDateSeenYear','latestDateSeenMonth','latestDateSeenDay','latestDateSeenDayOfWeek','latestDateSeenDayOfWeek','latestTimeSeenAMPM']].describe()"
      ],
      "execution_count": 42,
      "outputs": [
        {
          "output_type": "execute_result",
          "data": {
            "text/html": [
              "<div>\n",
              "<style scoped>\n",
              "    .dataframe tbody tr th:only-of-type {\n",
              "        vertical-align: middle;\n",
              "    }\n",
              "\n",
              "    .dataframe tbody tr th {\n",
              "        vertical-align: top;\n",
              "    }\n",
              "\n",
              "    .dataframe thead th {\n",
              "        text-align: right;\n",
              "    }\n",
              "</style>\n",
              "<table border=\"1\" class=\"dataframe\">\n",
              "  <thead>\n",
              "    <tr style=\"text-align: right;\">\n",
              "      <th></th>\n",
              "      <th>latestDateSeenYear</th>\n",
              "      <th>latestDateSeenMonth</th>\n",
              "      <th>latestDateSeenDay</th>\n",
              "      <th>latestDateSeenDayOfWeek</th>\n",
              "      <th>latestDateSeenDayOfWeek</th>\n",
              "    </tr>\n",
              "  </thead>\n",
              "  <tbody>\n",
              "    <tr>\n",
              "      <th>count</th>\n",
              "      <td>5436.000000</td>\n",
              "      <td>5436.000000</td>\n",
              "      <td>5436.000000</td>\n",
              "      <td>5436.000000</td>\n",
              "      <td>5436.000000</td>\n",
              "    </tr>\n",
              "    <tr>\n",
              "      <th>mean</th>\n",
              "      <td>2017.303716</td>\n",
              "      <td>7.009382</td>\n",
              "      <td>16.450699</td>\n",
              "      <td>3.068065</td>\n",
              "      <td>3.068065</td>\n",
              "    </tr>\n",
              "    <tr>\n",
              "      <th>std</th>\n",
              "      <td>0.521756</td>\n",
              "      <td>2.951385</td>\n",
              "      <td>9.247867</td>\n",
              "      <td>1.910741</td>\n",
              "      <td>1.910741</td>\n",
              "    </tr>\n",
              "    <tr>\n",
              "      <th>min</th>\n",
              "      <td>2014.000000</td>\n",
              "      <td>1.000000</td>\n",
              "      <td>1.000000</td>\n",
              "      <td>0.000000</td>\n",
              "      <td>0.000000</td>\n",
              "    </tr>\n",
              "    <tr>\n",
              "      <th>25%</th>\n",
              "      <td>2017.000000</td>\n",
              "      <td>5.000000</td>\n",
              "      <td>9.000000</td>\n",
              "      <td>2.000000</td>\n",
              "      <td>2.000000</td>\n",
              "    </tr>\n",
              "    <tr>\n",
              "      <th>50%</th>\n",
              "      <td>2017.000000</td>\n",
              "      <td>7.000000</td>\n",
              "      <td>17.000000</td>\n",
              "      <td>3.000000</td>\n",
              "      <td>3.000000</td>\n",
              "    </tr>\n",
              "    <tr>\n",
              "      <th>75%</th>\n",
              "      <td>2018.000000</td>\n",
              "      <td>9.000000</td>\n",
              "      <td>26.000000</td>\n",
              "      <td>5.000000</td>\n",
              "      <td>5.000000</td>\n",
              "    </tr>\n",
              "    <tr>\n",
              "      <th>max</th>\n",
              "      <td>2018.000000</td>\n",
              "      <td>12.000000</td>\n",
              "      <td>31.000000</td>\n",
              "      <td>6.000000</td>\n",
              "      <td>6.000000</td>\n",
              "    </tr>\n",
              "  </tbody>\n",
              "</table>\n",
              "</div>"
            ],
            "text/plain": [
              "       latestDateSeenYear  ...  latestDateSeenDayOfWeek\n",
              "count         5436.000000  ...              5436.000000\n",
              "mean          2017.303716  ...                 3.068065\n",
              "std              0.521756  ...                 1.910741\n",
              "min           2014.000000  ...                 0.000000\n",
              "25%           2017.000000  ...                 2.000000\n",
              "50%           2017.000000  ...                 3.000000\n",
              "75%           2018.000000  ...                 5.000000\n",
              "max           2018.000000  ...                 6.000000\n",
              "\n",
              "[8 rows x 5 columns]"
            ]
          },
          "metadata": {
            "tags": []
          },
          "execution_count": 42
        }
      ]
    },
    {
      "cell_type": "code",
      "metadata": {
        "id": "L3RwbtDdlEsY"
      },
      "source": [
        "columns_to_drop.extend(['prices.dateSeen','latestDateSeen','latestTimeSeen'])"
      ],
      "execution_count": 43,
      "outputs": []
    },
    {
      "cell_type": "markdown",
      "metadata": {
        "id": "FRAlNwofpfib"
      },
      "source": [
        "\n",
        "\n",
        "### prices.isSale\n",
        "#### Summary:\n",
        "#### Decision:\n",
        "\n",
        "\n"
      ]
    },
    {
      "cell_type": "code",
      "metadata": {
        "colab": {
          "base_uri": "https://localhost:8080/"
        },
        "id": "Ws6sXr_4SqJC",
        "outputId": "a83e52e4-5f93-49e1-c87d-26a9b269518e"
      },
      "source": [
        "ep_data['prices.isSale'].value_counts()"
      ],
      "execution_count": 44,
      "outputs": [
        {
          "output_type": "execute_result",
          "data": {
            "text/plain": [
              "False    4109\n",
              "True     1327\n",
              "Name: prices.isSale, dtype: int64"
            ]
          },
          "metadata": {
            "tags": []
          },
          "execution_count": 44
        }
      ]
    },
    {
      "cell_type": "code",
      "metadata": {
        "colab": {
          "base_uri": "https://localhost:8080/",
          "height": 404
        },
        "id": "omCPVKqLWywJ",
        "outputId": "f3693799-5203-4fad-82b9-811be60bb508"
      },
      "source": [
        "sns.catplot(x='prices.isSale', kind='count', data=ep_data)"
      ],
      "execution_count": 45,
      "outputs": [
        {
          "output_type": "execute_result",
          "data": {
            "text/plain": [
              "<seaborn.axisgrid.FacetGrid at 0x7fc0f2dba7f0>"
            ]
          },
          "metadata": {
            "tags": []
          },
          "execution_count": 45
        },
        {
          "output_type": "display_data",
          "data": {
            "image/png": "[encoded data removed]",
            "text/plain": [
              "<Figure size 360x360 with 1 Axes>"
            ]
          },
          "metadata": {
            "tags": [],
            "needs_background": "light"
          }
        }
      ]
    },
    {
      "cell_type": "markdown",
      "metadata": {
        "id": "twHecSVuJvUO"
      },
      "source": [
        "\n",
        "\n",
        "### prices.merchant\n",
        "Top 5 are Best Buy, B&H Photo Video, Walmart, Beach Camera, AMI Ventures Inc\n"
      ]
    },
    {
      "cell_type": "code",
      "metadata": {
        "colab": {
          "base_uri": "https://localhost:8080/"
        },
        "id": "7ZNd6YscJ3dQ",
        "outputId": "67f40401-2d71-4947-a0f8-252277cdc6c4"
      },
      "source": [
        "ep_data['prices.merchant'].value_counts()"
      ],
      "execution_count": 46,
      "outputs": [
        {
          "output_type": "execute_result",
          "data": {
            "text/plain": [
              "Bestbuy.com         2109\n",
              "bhphotovideo.com    1119\n",
              "Walmart.com          512\n",
              "Beach Camera         153\n",
              "AMI Ventures Inc      46\n",
              "                    ... \n",
              "topusedcomputers       1\n",
              "mpe007                 1\n",
              "electricdiamond        1\n",
              "a4c                    1\n",
              "offers.store           1\n",
              "Name: prices.merchant, Length: 587, dtype: int64"
            ]
          },
          "metadata": {
            "tags": []
          },
          "execution_count": 46
        }
      ]
    },
    {
      "cell_type": "markdown",
      "metadata": {
        "id": "P2nk9HDZKR1H"
      },
      "source": [
        "\n",
        "\n",
        "### prices.shipping\n",
        "\n",
        "A mix of shipping type {FREE, Value, Standard, Expedited, Free Delivery, ...} and shipping cost. Shipping costs seem to be prepended with currency e.g. USD 6.65\n"
      ]
    },
    {
      "cell_type": "code",
      "metadata": {
        "colab": {
          "base_uri": "https://localhost:8080/"
        },
        "id": "xSv8ncOMKWoE",
        "outputId": "9347507f-abb5-47e8-8639-b0a240b7ac7a"
      },
      "source": [
        "ep_data['prices.shipping'].value_counts()"
      ],
      "execution_count": 47,
      "outputs": [
        {
          "output_type": "execute_result",
          "data": {
            "text/plain": [
              "Free Expedited Shipping for most orders over $49    1075\n",
              "FREE                                                 542\n",
              "Value                                                517\n",
              "Standard                                             507\n",
              "Expedited                                            320\n",
              "Freight                                               77\n",
              "Free Delivery                                         46\n",
              "Free Expedited Shipping                               36\n",
              "Free Shippingon orders 35 and up                      12\n",
              "Free Shipping on orders 35 and up                      5\n",
              "Free Shipping                                          4\n",
              "Free Standard Shipping on Orders Over $49              3\n",
              "USD 6.65                                               3\n",
              "USD 2.99                                               2\n",
              "USD 14.00                                              2\n",
              "Free Shipping for this Item                            2\n",
              "USD 5.00                                               2\n",
              "USD 150.00                                             2\n",
              "USD 196.92                                             2\n",
              "CAD 18.61                                              1\n",
              "USD 16.00                                              1\n",
              "USD 13.60                                              1\n",
              "USD 12.78                                              1\n",
              "USD 13.95                                              1\n",
              "USD 37.65                                              1\n",
              "Shipping Charges Apply                                 1\n",
              "USD 179.35                                             1\n",
              "USD 25.00                                              1\n",
              "USD 60.00                                              1\n",
              "USD 75.00                                              1\n",
              "USD 22.13                                              1\n",
              "USD 7.25                                               1\n",
              "USD 10.00                                              1\n",
              "USD 13.32                                              1\n",
              "USD 27.94                                              1\n",
              "USD 3.99                                               1\n",
              "USD 2.85                                               1\n",
              "USD 3.39                                               1\n",
              "USD 24.04                                              1\n",
              "USD 15.68                                              1\n",
              "USD 10.10                                              1\n",
              "USD 13.61                                              1\n",
              "USD 0.99                                               1\n",
              "USD 6.00                                               1\n",
              "USD 22.64                                              1\n",
              "USD 7.81                                               1\n",
              "USD 18.60                                              1\n",
              "USD 35.03                                              1\n",
              "USD 16.45                                              1\n",
              "Free Next Day Delivery (USA)                           1\n",
              "USD 140.00                                             1\n",
              "USD 5.99                                               1\n",
              "USD 4.88                                               1\n",
              "USD 11.30                                              1\n",
              "USD 20.00                                              1\n",
              "USD 15.42                                              1\n",
              "USD 25.76                                              1\n",
              "Free Standard Shipping                                 1\n",
              "USD 79.42                                              1\n",
              "Name: prices.shipping, dtype: int64"
            ]
          },
          "metadata": {
            "tags": []
          },
          "execution_count": 47
        }
      ]
    },
    {
      "cell_type": "code",
      "metadata": {
        "colab": {
          "base_uri": "https://localhost:8080/"
        },
        "id": "Q-HEmeEbrEFW",
        "outputId": "93e22c78-c332-4d2a-a954-39a8b2f9f709"
      },
      "source": [
        "# https://regex101.com/\n",
        "s = 'USD 6.6'\n",
        "r = r'(USD\\s|CAD\\s)(\\d*\\.?\\d+)'\n",
        "match = re.search(r, s)\n",
        "print(match)"
      ],
      "execution_count": 48,
      "outputs": [
        {
          "output_type": "stream",
          "text": [
            "<_sre.SRE_Match object; span=(0, 7), match='USD 6.6'>\n"
          ],
          "name": "stdout"
        }
      ]
    },
    {
      "cell_type": "markdown",
      "metadata": {
        "id": "nJ9xRK0nMHAL"
      },
      "source": [
        "\n",
        "\n",
        "\n",
        "### brand\n",
        "\n",
        "High cardinality: 254 brands\n"
      ]
    },
    {
      "cell_type": "code",
      "metadata": {
        "colab": {
          "base_uri": "https://localhost:8080/"
        },
        "id": "baUcJSMILZl2",
        "outputId": "a45c1861-c460-45f7-c495-02b102ff9e47"
      },
      "source": [
        "ep_data['brand'].value_counts()"
      ],
      "execution_count": 49,
      "outputs": [
        {
          "output_type": "execute_result",
          "data": {
            "text/plain": [
              "Sony                  578\n",
              "Samsung               565\n",
              "Apple                 188\n",
              "Yamaha                183\n",
              "Pioneer               137\n",
              "                     ... \n",
              "Hauppauge               1\n",
              "I.am+                   1\n",
              "VXi                     1\n",
              "Diamond Multimedia      1\n",
              "Lorex                   1\n",
              "Name: brand, Length: 254, dtype: int64"
            ]
          },
          "metadata": {
            "tags": []
          },
          "execution_count": 49
        }
      ]
    },
    {
      "cell_type": "markdown",
      "metadata": {
        "id": "ksqm3K4XMpiA"
      },
      "source": [
        "\n",
        "### categories\n",
        "#### Summary:\n",
        "High cardinality: 792 categories. May be possible to bucket these.\n",
        "#### Decision:\n"
      ]
    },
    {
      "cell_type": "code",
      "metadata": {
        "colab": {
          "base_uri": "https://localhost:8080/"
        },
        "id": "soQ8TihDLkFj",
        "outputId": "7cd9d2a6-ff8a-493f-cd65-801a7c5f58b5"
      },
      "source": [
        "ep_data['categories'].value_counts()"
      ],
      "execution_count": 50,
      "outputs": [
        {
          "output_type": "execute_result",
          "data": {
            "text/plain": [
              "Computers,Internal Hard Drives,Network Attached Storage Drives etryvwsrbvvvvxfutbey,Internal Drives,Drives, Storage & Blank Media,Computers & Accessories,Networking,Hard Drives (HDD, SSD & NAS),Computer Accessories & Peripherals,Internal Hard Disk Drives,Electronics,Hard Drives & Storage,Drives Storage,Computers/Tablets & Networking,Computer Components,NAS Servers,Computers & Tablets,Network Attached Storage Drives,Data Storage    41\n",
              "TVs & Electronics,4K Ultra HD TVs,LCD TVs,Samsung Smart TVs,Samsung Tax Time Savings,TV, Video & Home Audio,Electronics,Shop TVs by Type,Televisions,TVs Entertainment,TV & Home Theater,All Flat-Panel TVs,4K Samsung TVs,LED & LCD TVs,All TVs,Consumer Electronics,TVs,Refurbished TVs,TV & Video,4K TVs by Brand,Smart TVs by Brand,Television & Video,LED TVs                                                                                 38\n",
              "TVs & Electronics,4K Ultra HD TVs,LCD TVs,Samsung Tax Time Savings,TV, Video & Home Audio,Electronics,Shop TVs by Type,Televisions,TVs Entertainment,TV & Home Theater,All Flat-Panel TVs,LED & LCD TVs,4K Samsung TVs,All TVs,Consumer Electronics,TVs,Refurbished TVs,TV & Video,See more Samsung Un65mu9000 65 Inch UHD 4k Smart TV and...,4K TVs by Brand,Television & Video,LED TVs,4K Ultra HDTVs                                            37\n",
              "Electronics,Shop TVs by Type,TVs Entertainment,Televisions,Tvs & Home Theater,Tvs,All TVs,Featured Brands,Refurbished TVs,4K TVs by Brand,Television & Video,4K Ultra HDTVs,TVs & Electronics,4K Ultra HD TVs,TV, Video & Home Audio,Electronics Features,4k Tv,Electronics Deals,TV & Home Theater,All Flat-Panel TVs,OLED TVs,Consumer Electronics,TV & Video,4K LG TVs,Smart TVs                                                                36\n",
              "4K Ultra HD TVs,Samsung Smart TVs,Samsung Tax Time Savings,TV, Video & Home Audio,Electronics,Shop TVs by Type,Televisions,TVs Entertainment,TV & Home Theater,LED & LCD TVs,All TVs,Consumer Electronics,TVs,Refurbished TVs,TV & Video,Smart TVs by Brand,Television & Video,LED TVs                                                                                                                                                             36\n",
              "                                                                                                                                                                                                                                                                                                                                                                                                                                                   ..\n",
              "Headphones,All Headphones,On-Ear Headphones,Electronics,Audio,Mobile                                                                                                                                                                                                                                                                                                                                                                                1\n",
              "Portable Bluetooth Speakers,Portable Audio & Video,Electronics,Home Audio,Portable Speakers & Docks,Audio,Stereo Shelf Systems                                                                                                                                                                                                                                                                                                                      1\n",
              "Electronics,Car & Vehicle Electronics,Car Electronics,Car Video,In-Mirror Video,Car Electronics & GPS,Car Safety & Convenience,Back-Up & Dash Cameras,Back-Up Cameras,Car Audio Accessories,Car Audio,Electronics Features,Vehicle Backup Cameras                                                                                                                                                                                                   1\n",
              "Audio & Video Accessories,TV Mounts,TV Accessories,TV Accessories & Parts,TV Stands, Mounts & Furniture,TV Stands,Electronics,TV & Home Theater,Accessories & Supplies,Furniture,TV Ceiling & Wall Mounts,Home                                                                                                                                                                                                                                      1\n",
              "Electronics,Home Audio & Theater,Home Audio,All Home Stereos,Receivers & Amplifiers,Audio,Stereos,Home Theater Systems,Receivers,Frys                                                                                                                                                                                                                                                                                                               1\n",
              "Name: categories, Length: 792, dtype: int64"
            ]
          },
          "metadata": {
            "tags": []
          },
          "execution_count": 50
        }
      ]
    },
    {
      "cell_type": "code",
      "metadata": {
        "colab": {
          "base_uri": "https://localhost:8080/",
          "height": 683
        },
        "id": "3jXaywr4NvhE",
        "outputId": "cb5f86ce-fff3-4556-b5dd-97618d94da07"
      },
      "source": [
        "ep_data.groupby(['categories']).agg({'id':'count', 'price':'median'}).rename(columns={'price':'price_median'}).sort_values(by='id', ascending=False)"
      ],
      "execution_count": 51,
      "outputs": [
        {
          "output_type": "execute_result",
          "data": {
            "text/html": [
              "<div>\n",
              "<style scoped>\n",
              "    .dataframe tbody tr th:only-of-type {\n",
              "        vertical-align: middle;\n",
              "    }\n",
              "\n",
              "    .dataframe tbody tr th {\n",
              "        vertical-align: top;\n",
              "    }\n",
              "\n",
              "    .dataframe thead th {\n",
              "        text-align: right;\n",
              "    }\n",
              "</style>\n",
              "<table border=\"1\" class=\"dataframe\">\n",
              "  <thead>\n",
              "    <tr style=\"text-align: right;\">\n",
              "      <th></th>\n",
              "      <th>id</th>\n",
              "      <th>price_median</th>\n",
              "    </tr>\n",
              "    <tr>\n",
              "      <th>categories</th>\n",
              "      <th></th>\n",
              "      <th></th>\n",
              "    </tr>\n",
              "  </thead>\n",
              "  <tbody>\n",
              "    <tr>\n",
              "      <th>Computers,Internal Hard Drives,Network Attached Storage Drives etryvwsrbvvvvxfutbey,Internal Drives,Drives, Storage &amp; Blank Media,Computers &amp; Accessories,Networking,Hard Drives (HDD, SSD &amp; NAS),Computer Accessories &amp; Peripherals,Internal Hard Disk Drives,Electronics,Hard Drives &amp; Storage,Drives Storage,Computers/Tablets &amp; Networking,Computer Components,NAS Servers,Computers &amp; Tablets,Network Attached Storage Drives,Data Storage</th>\n",
              "      <td>41</td>\n",
              "      <td>492.000</td>\n",
              "    </tr>\n",
              "    <tr>\n",
              "      <th>TVs &amp; Electronics,4K Ultra HD TVs,LCD TVs,Samsung Smart TVs,Samsung Tax Time Savings,TV, Video &amp; Home Audio,Electronics,Shop TVs by Type,Televisions,TVs Entertainment,TV &amp; Home Theater,All Flat-Panel TVs,4K Samsung TVs,LED &amp; LCD TVs,All TVs,Consumer Electronics,TVs,Refurbished TVs,TV &amp; Video,4K TVs by Brand,Smart TVs by Brand,Television &amp; Video,LED TVs</th>\n",
              "      <td>38</td>\n",
              "      <td>1331.970</td>\n",
              "    </tr>\n",
              "    <tr>\n",
              "      <th>TVs &amp; Electronics,4K Ultra HD TVs,LCD TVs,Samsung Tax Time Savings,TV, Video &amp; Home Audio,Electronics,Shop TVs by Type,Televisions,TVs Entertainment,TV &amp; Home Theater,All Flat-Panel TVs,LED &amp; LCD TVs,4K Samsung TVs,All TVs,Consumer Electronics,TVs,Refurbished TVs,TV &amp; Video,See more Samsung Un65mu9000 65 Inch UHD 4k Smart TV and...,4K TVs by Brand,Television &amp; Video,LED TVs,4K Ultra HDTVs</th>\n",
              "      <td>37</td>\n",
              "      <td>2497.990</td>\n",
              "    </tr>\n",
              "    <tr>\n",
              "      <th>Electronics,Shop TVs by Type,TVs Entertainment,Televisions,Tvs &amp; Home Theater,Tvs,All TVs,Featured Brands,Refurbished TVs,4K TVs by Brand,Television &amp; Video,4K Ultra HDTVs,TVs &amp; Electronics,4K Ultra HD TVs,TV, Video &amp; Home Audio,Electronics Features,4k Tv,Electronics Deals,TV &amp; Home Theater,All Flat-Panel TVs,OLED TVs,Consumer Electronics,TV &amp; Video,4K LG TVs,Smart TVs</th>\n",
              "      <td>36</td>\n",
              "      <td>2933.980</td>\n",
              "    </tr>\n",
              "    <tr>\n",
              "      <th>4K Ultra HD TVs,Samsung Smart TVs,Samsung Tax Time Savings,TV, Video &amp; Home Audio,Electronics,Shop TVs by Type,Televisions,TVs Entertainment,TV &amp; Home Theater,LED &amp; LCD TVs,All TVs,Consumer Electronics,TVs,Refurbished TVs,TV &amp; Video,Smart TVs by Brand,Television &amp; Video,LED TVs</th>\n",
              "      <td>36</td>\n",
              "      <td>1673.975</td>\n",
              "    </tr>\n",
              "    <tr>\n",
              "      <th>...</th>\n",
              "      <td>...</td>\n",
              "      <td>...</td>\n",
              "    </tr>\n",
              "    <tr>\n",
              "      <th>Headphones,Bluetooth Headphones,All Headphones,Electronics,Earbud &amp; In-Ear Headphones,Audio,Shop Headphones by Type,Earbuds and In-ear Headphones,Mobile</th>\n",
              "      <td>1</td>\n",
              "      <td>199.000</td>\n",
              "    </tr>\n",
              "    <tr>\n",
              "      <th>Electrical,Household Batteries,AA Batteries,Consumer Electronics,Multipurpose Batteries &amp; Power,Rechargeable Batteries,Frys,Electronic Components,Batteries - Rechargeable,Batteries,electronics,Household Supplies</th>\n",
              "      <td>1</td>\n",
              "      <td>26.020</td>\n",
              "    </tr>\n",
              "    <tr>\n",
              "      <th>TVs,LED &amp; LCD TVs,Outdoor TVs,Electronics,Television &amp; Video,TVs Entertainment,Televisions,TV &amp; Home Theater</th>\n",
              "      <td>1</td>\n",
              "      <td>2799.990</td>\n",
              "    </tr>\n",
              "    <tr>\n",
              "      <th>Electrical,Home Electronics,Portable Audio,Electronics,Portable Audio &amp; Video,Portable Speakers &amp; Docks,Portable Bluetooth Speakers,Portable Wireless &amp; Bluetooth Speakers,Audio,Bluetooth &amp; Wireless Speakers,All Bluetooth &amp; Wireless Speakers,MP3 Accessories,Speakers</th>\n",
              "      <td>1</td>\n",
              "      <td>128.780</td>\n",
              "    </tr>\n",
              "    <tr>\n",
              "      <th>Computers &amp; Accessories,Computer Components,Electronics,TV &amp; Home Theater,Internal TV Tuner &amp; Capture Cards,TV &amp; Home Theater Accessories,Digital TV Tuners &amp; Converters</th>\n",
              "      <td>1</td>\n",
              "      <td>69.990</td>\n",
              "    </tr>\n",
              "  </tbody>\n",
              "</table>\n",
              "<p>792 rows × 2 columns</p>\n",
              "</div>"
            ],
            "text/plain": [
              "                                                    id  price_median\n",
              "categories                                                          \n",
              "Computers,Internal Hard Drives,Network Attached...  41       492.000\n",
              "TVs & Electronics,4K Ultra HD TVs,LCD TVs,Samsu...  38      1331.970\n",
              "TVs & Electronics,4K Ultra HD TVs,LCD TVs,Samsu...  37      2497.990\n",
              "Electronics,Shop TVs by Type,TVs Entertainment,...  36      2933.980\n",
              "4K Ultra HD TVs,Samsung Smart TVs,Samsung Tax T...  36      1673.975\n",
              "...                                                 ..           ...\n",
              "Headphones,Bluetooth Headphones,All Headphones,...   1       199.000\n",
              "Electrical,Household Batteries,AA Batteries,Con...   1        26.020\n",
              "TVs,LED & LCD TVs,Outdoor TVs,Electronics,Telev...   1      2799.990\n",
              "Electrical,Home Electronics,Portable Audio,Elec...   1       128.780\n",
              "Computers & Accessories,Computer Components,Ele...   1        69.990\n",
              "\n",
              "[792 rows x 2 columns]"
            ]
          },
          "metadata": {
            "tags": []
          },
          "execution_count": 51
        }
      ]
    },
    {
      "cell_type": "markdown",
      "metadata": {
        "id": "3plZs0FfNEEn"
      },
      "source": [
        "\n",
        "###dateAdded and dateUpdated\n",
        "####Summary:\n",
        "May be able to use datediff approach to find age of price information. My initial hunch is that these two columns capture database information and these may be candidates to drop. We could find the datediff between dateUpdated and dateAdded and also with dateSeen.\n",
        "####Decision:\n"
      ]
    },
    {
      "cell_type": "code",
      "metadata": {
        "colab": {
          "base_uri": "https://localhost:8080/"
        },
        "id": "dHDDVY9FLtCi",
        "outputId": "06ca804b-a307-4b09-d426-b0f4446959c7"
      },
      "source": [
        "ep_data['dateAdded'].value_counts()"
      ],
      "execution_count": 52,
      "outputs": [
        {
          "output_type": "execute_result",
          "data": {
            "text/plain": [
              "2017-03-06T14:57:09Z    53\n",
              "2017-07-18T23:43:15Z    41\n",
              "2017-03-03T16:56:09Z    40\n",
              "2017-03-13T18:09:46Z    38\n",
              "2017-06-23T02:19:30Z    37\n",
              "                        ..\n",
              "2014-02-21T05:30:31Z     1\n",
              "2018-04-13T02:10:44Z     1\n",
              "2015-08-18T18:41:52Z     1\n",
              "2018-05-01T02:26:30Z     1\n",
              "2018-04-21T21:03:18Z     1\n",
              "Name: dateAdded, Length: 784, dtype: int64"
            ]
          },
          "metadata": {
            "tags": []
          },
          "execution_count": 52
        }
      ]
    },
    {
      "cell_type": "code",
      "metadata": {
        "colab": {
          "base_uri": "https://localhost:8080/"
        },
        "id": "NHI2xVn1LxPk",
        "outputId": "814c0be5-74c3-4b12-b89d-670dbfa74d03"
      },
      "source": [
        "ep_data['dateUpdated'].value_counts()"
      ],
      "execution_count": 53,
      "outputs": [
        {
          "output_type": "execute_result",
          "data": {
            "text/plain": [
              "2018-07-26T15:55:15Z    44\n",
              "2018-06-16T02:07:00Z    41\n",
              "2018-06-25T02:00:22Z    38\n",
              "2018-06-21T21:36:23Z    37\n",
              "2018-06-07T01:22:23Z    36\n",
              "                        ..\n",
              "2018-01-20T04:21:12Z     1\n",
              "2018-06-29T20:22:05Z     1\n",
              "2018-06-29T20:20:58Z     1\n",
              "2018-06-13T19:45:11Z     1\n",
              "2018-05-29T17:19:04Z     1\n",
              "Name: dateUpdated, Length: 727, dtype: int64"
            ]
          },
          "metadata": {
            "tags": []
          },
          "execution_count": 53
        }
      ]
    },
    {
      "cell_type": "code",
      "metadata": {
        "id": "zlIZEvKBD4fE"
      },
      "source": [
        "def process_date_added(x):\n",
        "  try:\n",
        "    date_obj = isoparse(x)\n",
        "  except:\n",
        "    date_obj = isoparse('2999-12-31T00:00:00Z')\n",
        "  return date_obj.date(), date_obj.time()\n",
        "\n",
        "ep_data['dateAdded_cleaned'], ep_data['timeAdded_cleaned']  = zip(*ep_data['dateAdded'].apply(process_date_added))\n",
        "ep_data['dateUpdated_cleaned'], ep_data['timeUpdated_cleaned']  = zip(*ep_data['dateUpdated'].apply(process_date_added))\n",
        "ep_data['dateDiffUpdated_Added'] = ep_data['dateUpdated_cleaned'] - ep_data['dateAdded_cleaned']\n",
        "# Assume that observation updated should be close to observation last seen (+vs delta)\n",
        "ep_data['dateDiffUpdated_Seen'] = ep_data['dateUpdated_cleaned'] - ep_data['latestDateSeen']\n",
        "# Assume that observation added should be before observation last seen (+ve delta)\n",
        "ep_data['dateDiffSeen_Added'] = ep_data['latestDateSeen'] - ep_data['dateAdded_cleaned']\n",
        "ep_data.drop(labels=['dateAdded','dateUpdated'], axis=1, inplace=True)"
      ],
      "execution_count": 54,
      "outputs": []
    },
    {
      "cell_type": "code",
      "metadata": {
        "colab": {
          "base_uri": "https://localhost:8080/"
        },
        "id": "sdFVa4HmIGB7",
        "outputId": "9bbf3680-c840-4e1f-dff4-42f7fc2b7cb4"
      },
      "source": [
        "ep_data['dateAdded_cleaned']"
      ],
      "execution_count": 55,
      "outputs": [
        {
          "output_type": "execute_result",
          "data": {
            "text/plain": [
              "0       2015-11-01\n",
              "1       2017-03-13\n",
              "2       2014-10-28\n",
              "3       2015-11-06\n",
              "4       2017-07-18\n",
              "           ...    \n",
              "5431    2017-03-03\n",
              "5432    2015-11-06\n",
              "5433    2017-07-18\n",
              "5434    2014-02-20\n",
              "5435    2015-05-18\n",
              "Name: dateAdded_cleaned, Length: 5436, dtype: object"
            ]
          },
          "metadata": {
            "tags": []
          },
          "execution_count": 55
        }
      ]
    },
    {
      "cell_type": "code",
      "metadata": {
        "colab": {
          "base_uri": "https://localhost:8080/"
        },
        "id": "mpFU_M0uIPGp",
        "outputId": "8f758d87-0501-45af-856e-45eeb0f273e2"
      },
      "source": [
        "ep_data['dateUpdated_cleaned']"
      ],
      "execution_count": 56,
      "outputs": [
        {
          "output_type": "execute_result",
          "data": {
            "text/plain": [
              "0       2018-02-13\n",
              "1       2018-01-30\n",
              "2       2018-05-16\n",
              "3       2018-01-30\n",
              "4       2018-07-26\n",
              "           ...    \n",
              "5431    2018-05-16\n",
              "5432    2018-07-26\n",
              "5433    2018-07-26\n",
              "5434    2018-05-02\n",
              "5435    2018-07-26\n",
              "Name: dateUpdated_cleaned, Length: 5436, dtype: object"
            ]
          },
          "metadata": {
            "tags": []
          },
          "execution_count": 56
        }
      ]
    },
    {
      "cell_type": "code",
      "metadata": {
        "colab": {
          "base_uri": "https://localhost:8080/",
          "height": 389
        },
        "id": "wDP5ojG1DFWN",
        "outputId": "f0f88dfe-f443-4c22-bcea-148e1244bb2d"
      },
      "source": [
        "# https://stackoverflow.com/questions/33605514/how-to-extract-days-as-integers-from-a-timedelta64ns-object-in-python/33605894\n",
        "ep_data['dateDiffUpdated_Added'] = ep_data['dateDiffUpdated_Added'].astype('timedelta64[D]')\n",
        "fig, ax = plt.subplots(1,2, squeeze=False, figsize=(20,6))\n",
        "_ = sns.boxplot(x='dateDiffUpdated_Added', data=ep_data, ax=ax[0][0])\n",
        "_ = sns.kdeplot(x='dateDiffUpdated_Added', data=ep_data, ax=ax[0][1])"
      ],
      "execution_count": 57,
      "outputs": [
        {
          "output_type": "display_data",
          "data": {
            "image/png": "[encoded data removed]",
            "text/plain": [
              "<Figure size 1440x432 with 2 Axes>"
            ]
          },
          "metadata": {
            "tags": [],
            "needs_background": "light"
          }
        }
      ]
    },
    {
      "cell_type": "code",
      "metadata": {
        "colab": {
          "base_uri": "https://localhost:8080/",
          "height": 389
        },
        "id": "XyydC7GWGIPk",
        "outputId": "8c5e9000-6ad7-4831-a876-36baf8b813f1"
      },
      "source": [
        "ep_data['dateDiffUpdated_Seen'] = ep_data['dateDiffUpdated_Seen'].astype('timedelta64[D]')\n",
        "fig, ax = plt.subplots(1,2, squeeze=False, figsize=(20,6))\n",
        "_ = sns.boxplot(x='dateDiffUpdated_Seen', data=ep_data, ax=ax[0][0])\n",
        "_ = sns.kdeplot(x='dateDiffUpdated_Seen', data=ep_data, ax=ax[0][1])"
      ],
      "execution_count": 58,
      "outputs": [
        {
          "output_type": "display_data",
          "data": {
            "image/png": "[encoded data removed]",
            "text/plain": [
              "<Figure size 1440x432 with 2 Axes>"
            ]
          },
          "metadata": {
            "tags": [],
            "needs_background": "light"
          }
        }
      ]
    },
    {
      "cell_type": "code",
      "metadata": {
        "colab": {
          "base_uri": "https://localhost:8080/",
          "height": 389
        },
        "id": "1htI83keF5Fj",
        "outputId": "9156bf61-2c2d-4109-805e-19e4eaaedff3"
      },
      "source": [
        "ep_data['dateDiffSeen_Added'] = ep_data['dateDiffSeen_Added'].astype('timedelta64[D]')\n",
        "fig, ax = plt.subplots(1,2, squeeze=False, figsize=(20,6))\n",
        "_ = sns.boxplot(x='dateDiffSeen_Added', data=ep_data, ax=ax[0][0])\n",
        "_ = sns.kdeplot(x='dateDiffSeen_Added', data=ep_data, ax=ax[0][1])"
      ],
      "execution_count": 59,
      "outputs": [
        {
          "output_type": "display_data",
          "data": {
            "image/png": "[encoded data removed]",
            "text/plain": [
              "<Figure size 1440x432 with 2 Axes>"
            ]
          },
          "metadata": {
            "tags": [],
            "needs_background": "light"
          }
        }
      ]
    },
    {
      "cell_type": "code",
      "metadata": {
        "id": "EqQJKyiEM7cG"
      },
      "source": [
        "columns_to_drop.extend(['dateAdded_cleaned','dateUpdated_cleaned'])"
      ],
      "execution_count": 60,
      "outputs": []
    },
    {
      "cell_type": "markdown",
      "metadata": {
        "id": "MB-36gQSLquu"
      },
      "source": [
        "### manufacturer\n",
        "#### Summary:\n",
        "#### Decision:\n",
        "\n"
      ]
    },
    {
      "cell_type": "code",
      "metadata": {
        "colab": {
          "base_uri": "https://localhost:8080/"
        },
        "id": "edSN7F6LN555",
        "outputId": "1b88f3b7-dece-43d9-9ed5-0d62e3dd6220"
      },
      "source": [
        "ep_data['manufacturer'].value_counts()"
      ],
      "execution_count": 61,
      "outputs": [
        {
          "output_type": "execute_result",
          "data": {
            "text/plain": [
              "Sony                  179\n",
              "Samsung               132\n",
              "Apple                 101\n",
              "Pioneer                78\n",
              "Yamaha                 52\n",
              "                     ... \n",
              "Lenovo                  1\n",
              "AUDIOQUEST              1\n",
              "Sonax                   1\n",
              "Diamond Multimedia      1\n",
              "Lorex                   1\n",
              "Name: manufacturer, Length: 197, dtype: int64"
            ]
          },
          "metadata": {
            "tags": []
          },
          "execution_count": 61
        }
      ]
    },
    {
      "cell_type": "code",
      "metadata": {
        "colab": {
          "base_uri": "https://localhost:8080/",
          "height": 431
        },
        "id": "otzpGQM0KrPQ",
        "outputId": "38e80425-fafc-4de9-c252-baa0315c93a8"
      },
      "source": [
        "ep_data.groupby(['manufacturer']) \\\r\n",
        ".agg({'id':'count','price':'median'}) \\\r\n",
        ".rename(columns={'price':'price_median'}) \\\r\n",
        ".sort_values(by='id', ascending=False)"
      ],
      "execution_count": 63,
      "outputs": [
        {
          "output_type": "execute_result",
          "data": {
            "text/html": [
              "<div>\n",
              "<style scoped>\n",
              "    .dataframe tbody tr th:only-of-type {\n",
              "        vertical-align: middle;\n",
              "    }\n",
              "\n",
              "    .dataframe tbody tr th {\n",
              "        vertical-align: top;\n",
              "    }\n",
              "\n",
              "    .dataframe thead th {\n",
              "        text-align: right;\n",
              "    }\n",
              "</style>\n",
              "<table border=\"1\" class=\"dataframe\">\n",
              "  <thead>\n",
              "    <tr style=\"text-align: right;\">\n",
              "      <th></th>\n",
              "      <th>id</th>\n",
              "      <th>price_median</th>\n",
              "    </tr>\n",
              "    <tr>\n",
              "      <th>manufacturer</th>\n",
              "      <th></th>\n",
              "      <th></th>\n",
              "    </tr>\n",
              "  </thead>\n",
              "  <tbody>\n",
              "    <tr>\n",
              "      <th>Sony</th>\n",
              "      <td>179</td>\n",
              "      <td>239.99</td>\n",
              "    </tr>\n",
              "    <tr>\n",
              "      <th>Samsung</th>\n",
              "      <td>132</td>\n",
              "      <td>298.99</td>\n",
              "    </tr>\n",
              "    <tr>\n",
              "      <th>Apple</th>\n",
              "      <td>101</td>\n",
              "      <td>1444.99</td>\n",
              "    </tr>\n",
              "    <tr>\n",
              "      <th>Pioneer</th>\n",
              "      <td>78</td>\n",
              "      <td>118.99</td>\n",
              "    </tr>\n",
              "    <tr>\n",
              "      <th>Yamaha</th>\n",
              "      <td>52</td>\n",
              "      <td>249.97</td>\n",
              "    </tr>\n",
              "    <tr>\n",
              "      <th>...</th>\n",
              "      <td>...</td>\n",
              "      <td>...</td>\n",
              "    </tr>\n",
              "    <tr>\n",
              "      <th>AUDIOQUEST</th>\n",
              "      <td>1</td>\n",
              "      <td>79.98</td>\n",
              "    </tr>\n",
              "    <tr>\n",
              "      <th>Lorex</th>\n",
              "      <td>1</td>\n",
              "      <td>493.99</td>\n",
              "    </tr>\n",
              "    <tr>\n",
              "      <th>Sonax</th>\n",
              "      <td>1</td>\n",
              "      <td>35.99</td>\n",
              "    </tr>\n",
              "    <tr>\n",
              "      <th>Energizer</th>\n",
              "      <td>1</td>\n",
              "      <td>26.02</td>\n",
              "    </tr>\n",
              "    <tr>\n",
              "      <th>Diamond Multimedia</th>\n",
              "      <td>1</td>\n",
              "      <td>94.99</td>\n",
              "    </tr>\n",
              "  </tbody>\n",
              "</table>\n",
              "<p>197 rows × 2 columns</p>\n",
              "</div>"
            ],
            "text/plain": [
              "                     id  price_median\n",
              "manufacturer                         \n",
              "Sony                179        239.99\n",
              "Samsung             132        298.99\n",
              "Apple               101       1444.99\n",
              "Pioneer              78        118.99\n",
              "Yamaha               52        249.97\n",
              "...                 ...           ...\n",
              "AUDIOQUEST            1         79.98\n",
              "Lorex                 1        493.99\n",
              "Sonax                 1         35.99\n",
              "Energizer             1         26.02\n",
              "Diamond Multimedia    1         94.99\n",
              "\n",
              "[197 rows x 2 columns]"
            ]
          },
          "metadata": {
            "tags": []
          },
          "execution_count": 63
        }
      ]
    },
    {
      "cell_type": "markdown",
      "metadata": {
        "id": "UhKmkaWOOg3u"
      },
      "source": [
        "\n",
        "\n",
        "```\n",
        "primaryCategories\n",
        "```\n",
        "Not a very useful column at first blush.\n"
      ]
    },
    {
      "cell_type": "code",
      "metadata": {
        "colab": {
          "base_uri": "https://localhost:8080/"
        },
        "id": "IqCtELitOFpw",
        "outputId": "6e55512c-8c7a-4fbd-e13a-e93149babc90"
      },
      "source": [
        "ep_data['primaryCategories'].value_counts()"
      ],
      "execution_count": 64,
      "outputs": [
        {
          "output_type": "execute_result",
          "data": {
            "text/plain": [
              "Electronics              5392\n",
              " Apple CarPlay             22\n",
              " Intel Celeron              9\n",
              "Electronics,Furniture       8\n",
              " Siri Eyes Free             5\n",
              "Name: primaryCategories, dtype: int64"
            ]
          },
          "metadata": {
            "tags": []
          },
          "execution_count": 64
        }
      ]
    },
    {
      "cell_type": "code",
      "metadata": {
        "id": "nWK2vVAKVXLG"
      },
      "source": [
        "columns_to_drop.append('primaryCategories')"
      ],
      "execution_count": 65,
      "outputs": []
    },
    {
      "cell_type": "markdown",
      "metadata": {
        "id": "4-_9alHXOvK3"
      },
      "source": [
        "\n",
        "\n",
        "```\n",
        "weight\n",
        "```\n",
        "A mixture of lbs and ounces. Split numeric and units and then scale to ounces, perhaps? Check if metric measures are present.\n"
      ]
    },
    {
      "cell_type": "code",
      "metadata": {
        "colab": {
          "base_uri": "https://localhost:8080/"
        },
        "id": "HMi7UxVuQdQB",
        "outputId": "c3c58335-bc55-4d56-fc68-82578150750f"
      },
      "source": [
        "ep_data['weight'].value_counts()"
      ],
      "execution_count": 66,
      "outputs": [
        {
          "output_type": "execute_result",
          "data": {
            "text/plain": [
              "1 pounds       117\n",
              "39.5 pounds     50\n",
              "2 pounds        49\n",
              "2.4 ounces      48\n",
              "0.02 ounces     41\n",
              "              ... \n",
              "11.7 ounces      1\n",
              "41.5 lb          1\n",
              "5.1 lb           1\n",
              "13.2 pounds      1\n",
              "9.2 oz           1\n",
              "Name: weight, Length: 578, dtype: int64"
            ]
          },
          "metadata": {
            "tags": []
          },
          "execution_count": 66
        }
      ]
    },
    {
      "cell_type": "code",
      "metadata": {
        "colab": {
          "base_uri": "https://localhost:8080/",
          "height": 37
        },
        "id": "VF8P1_Slvice",
        "outputId": "03e41f59-6063-4637-bb95-e66a311d330c"
      },
      "source": [
        "ep_data['weight'][34]"
      ],
      "execution_count": 67,
      "outputs": [
        {
          "output_type": "execute_result",
          "data": {
            "application/vnd.google.colaboratory.intrinsic+json": {
              "type": "string"
            },
            "text/plain": [
              "'2.40 oz'"
            ]
          },
          "metadata": {
            "tags": []
          },
          "execution_count": 67
        }
      ]
    },
    {
      "cell_type": "code",
      "metadata": {
        "colab": {
          "base_uri": "https://localhost:8080/",
          "height": 402
        },
        "id": "Xyxuu2msT5dh",
        "outputId": "219b4942-3a75-489d-ada4-53c08cae844a"
      },
      "source": [
        "# try and split weight into numeric and units\n",
        "# format looks like numeric price, space, units\n",
        "\n",
        "weight_cleaned = ep_data['weight'].str.split(' ', n=1, expand=True)\n",
        "weight_cleaned"
      ],
      "execution_count": 68,
      "outputs": [
        {
          "output_type": "execute_result",
          "data": {
            "text/html": [
              "<div>\n",
              "<style scoped>\n",
              "    .dataframe tbody tr th:only-of-type {\n",
              "        vertical-align: middle;\n",
              "    }\n",
              "\n",
              "    .dataframe tbody tr th {\n",
              "        vertical-align: top;\n",
              "    }\n",
              "\n",
              "    .dataframe thead th {\n",
              "        text-align: right;\n",
              "    }\n",
              "</style>\n",
              "<table border=\"1\" class=\"dataframe\">\n",
              "  <thead>\n",
              "    <tr style=\"text-align: right;\">\n",
              "      <th></th>\n",
              "      <th>0</th>\n",
              "      <th>1</th>\n",
              "    </tr>\n",
              "  </thead>\n",
              "  <tbody>\n",
              "    <tr>\n",
              "      <th>0</th>\n",
              "      <td>3</td>\n",
              "      <td>pounds</td>\n",
              "    </tr>\n",
              "    <tr>\n",
              "      <th>1</th>\n",
              "      <td>4.3</td>\n",
              "      <td>pounds</td>\n",
              "    </tr>\n",
              "    <tr>\n",
              "      <th>2</th>\n",
              "      <td>0.6</td>\n",
              "      <td>ounces</td>\n",
              "    </tr>\n",
              "    <tr>\n",
              "      <th>3</th>\n",
              "      <td>1</td>\n",
              "      <td>pounds</td>\n",
              "    </tr>\n",
              "    <tr>\n",
              "      <th>4</th>\n",
              "      <td>9.98</td>\n",
              "      <td>oz 4.09 oz</td>\n",
              "    </tr>\n",
              "    <tr>\n",
              "      <th>...</th>\n",
              "      <td>...</td>\n",
              "      <td>...</td>\n",
              "    </tr>\n",
              "    <tr>\n",
              "      <th>5431</th>\n",
              "      <td>8</td>\n",
              "      <td>ounces</td>\n",
              "    </tr>\n",
              "    <tr>\n",
              "      <th>5432</th>\n",
              "      <td>25.6</td>\n",
              "      <td>ounces</td>\n",
              "    </tr>\n",
              "    <tr>\n",
              "      <th>5433</th>\n",
              "      <td>6</td>\n",
              "      <td>oz</td>\n",
              "    </tr>\n",
              "    <tr>\n",
              "      <th>5434</th>\n",
              "      <td>2.7</td>\n",
              "      <td>Kg</td>\n",
              "    </tr>\n",
              "    <tr>\n",
              "      <th>5435</th>\n",
              "      <td>25.8</td>\n",
              "      <td>lb</td>\n",
              "    </tr>\n",
              "  </tbody>\n",
              "</table>\n",
              "<p>5436 rows × 2 columns</p>\n",
              "</div>"
            ],
            "text/plain": [
              "         0           1\n",
              "0        3      pounds\n",
              "1      4.3      pounds\n",
              "2      0.6      ounces\n",
              "3        1      pounds\n",
              "4     9.98  oz 4.09 oz\n",
              "...    ...         ...\n",
              "5431     8      ounces\n",
              "5432  25.6      ounces\n",
              "5433     6          oz\n",
              "5434   2.7          Kg\n",
              "5435  25.8          lb\n",
              "\n",
              "[5436 rows x 2 columns]"
            ]
          },
          "metadata": {
            "tags": []
          },
          "execution_count": 68
        }
      ]
    },
    {
      "cell_type": "markdown",
      "metadata": {
        "id": "U2JVFZHrLsN9"
      },
      "source": [
        "\n",
        "Decision\n",
        "```\n",
        "dropping\n",
        "ean, imageURLs, keys, sourceURLs, UPC\n",
        "```\n",
        "\n"
      ]
    },
    {
      "cell_type": "code",
      "metadata": {
        "id": "2G4VJVSUTcX4"
      },
      "source": [
        "columns_to_drop.extend(['ean','imageURLs','sourceURLs','upc'])"
      ],
      "execution_count": 69,
      "outputs": []
    },
    {
      "cell_type": "code",
      "metadata": {
        "id": "4AQGYK5XHdeD",
        "colab": {
          "base_uri": "https://localhost:8080/"
        },
        "outputId": "afd56467-afbc-4ed1-b4b3-020c473cee52"
      },
      "source": [
        "print(columns_to_drop)\n",
        "#ep_data.drop(labels=columns_to_drop, axis=1, inplace=True)"
      ],
      "execution_count": 70,
      "outputs": [
        {
          "output_type": "stream",
          "text": [
            "['prices.shipping', 'ean', 'manufacturer', 'id', 'prices.availability', 'prices.condition', 'prices.currency', 'prices.dateSeen', 'latestDateSeen', 'latestTimeSeen', 'dateAdded_cleaned', 'dateUpdated_cleaned', 'primaryCategories', 'ean', 'imageURLs', 'sourceURLs', 'upc']\n"
          ],
          "name": "stdout"
        }
      ]
    },
    {
      "cell_type": "code",
      "metadata": {
        "id": "8If11gEATBLv"
      },
      "source": [
        "ep_data.drop(labels=columns_to_drop, axis=1, inplace=True)"
      ],
      "execution_count": 71,
      "outputs": []
    },
    {
      "cell_type": "code",
      "metadata": {
        "colab": {
          "base_uri": "https://localhost:8080/"
        },
        "id": "xpEz4NEbHoph",
        "outputId": "b6c159e8-ac80-4804-a5ea-911263f65cd6"
      },
      "source": [
        "ep_data.columns"
      ],
      "execution_count": 72,
      "outputs": [
        {
          "output_type": "execute_result",
          "data": {
            "text/plain": [
              "Index(['prices.isSale', 'prices.merchant', 'prices.sourceURLs', 'asins',\n",
              "       'brand', 'categories', 'keys', 'manufacturerNumber', 'name', 'weight',\n",
              "       'price', 'availability_cleaned', 'condition_cleaned',\n",
              "       'latestDateSeenYear', 'latestDateSeenMonth', 'latestDateSeenDay',\n",
              "       'latestDateSeenDayOfWeek', 'latestTimeSeen24H', 'latestTimeSeenAMPM',\n",
              "       'timeAdded_cleaned', 'timeUpdated_cleaned', 'dateDiffUpdated_Added',\n",
              "       'dateDiffUpdated_Seen', 'dateDiffSeen_Added'],\n",
              "      dtype='object')"
            ]
          },
          "metadata": {
            "tags": []
          },
          "execution_count": 72
        }
      ]
    },
    {
      "cell_type": "code",
      "metadata": {
        "colab": {
          "base_uri": "https://localhost:8080/",
          "height": 585
        },
        "id": "CuY4TQa6IRuY",
        "outputId": "69b53ca0-7837-4b73-9d0a-817d3a48ab79"
      },
      "source": [
        "ep_data.head()"
      ],
      "execution_count": 73,
      "outputs": [
        {
          "output_type": "execute_result",
          "data": {
            "text/html": [
              "<div>\n",
              "<style scoped>\n",
              "    .dataframe tbody tr th:only-of-type {\n",
              "        vertical-align: middle;\n",
              "    }\n",
              "\n",
              "    .dataframe tbody tr th {\n",
              "        vertical-align: top;\n",
              "    }\n",
              "\n",
              "    .dataframe thead th {\n",
              "        text-align: right;\n",
              "    }\n",
              "</style>\n",
              "<table border=\"1\" class=\"dataframe\">\n",
              "  <thead>\n",
              "    <tr style=\"text-align: right;\">\n",
              "      <th></th>\n",
              "      <th>prices.isSale</th>\n",
              "      <th>prices.merchant</th>\n",
              "      <th>prices.sourceURLs</th>\n",
              "      <th>asins</th>\n",
              "      <th>brand</th>\n",
              "      <th>categories</th>\n",
              "      <th>keys</th>\n",
              "      <th>manufacturerNumber</th>\n",
              "      <th>name</th>\n",
              "      <th>weight</th>\n",
              "      <th>price</th>\n",
              "      <th>availability_cleaned</th>\n",
              "      <th>condition_cleaned</th>\n",
              "      <th>latestDateSeenYear</th>\n",
              "      <th>latestDateSeenMonth</th>\n",
              "      <th>latestDateSeenDay</th>\n",
              "      <th>latestDateSeenDayOfWeek</th>\n",
              "      <th>latestTimeSeen24H</th>\n",
              "      <th>latestTimeSeenAMPM</th>\n",
              "      <th>timeAdded_cleaned</th>\n",
              "      <th>timeUpdated_cleaned</th>\n",
              "      <th>dateDiffUpdated_Added</th>\n",
              "      <th>dateDiffUpdated_Seen</th>\n",
              "      <th>dateDiffSeen_Added</th>\n",
              "    </tr>\n",
              "  </thead>\n",
              "  <tbody>\n",
              "    <tr>\n",
              "      <th>0</th>\n",
              "      <td>False</td>\n",
              "      <td>Bestbuy.com</td>\n",
              "      <td>http://www.bestbuy.com/site/products/7100293.p...</td>\n",
              "      <td>B00I9HD8PK</td>\n",
              "      <td>Grace Digital</td>\n",
              "      <td>Electronics,Home Audio &amp; Theater,Home Audio,Al...</td>\n",
              "      <td>819127010485,ecoxgearecostonebluetoothspeaker/...</td>\n",
              "      <td>GDI-EGST701</td>\n",
              "      <td>EcoXGear Ecostone Bluetooth Speaker</td>\n",
              "      <td>3 pounds</td>\n",
              "      <td>92.99</td>\n",
              "      <td>IN STOCK</td>\n",
              "      <td>NEW</td>\n",
              "      <td>2017</td>\n",
              "      <td>5</td>\n",
              "      <td>10</td>\n",
              "      <td>3</td>\n",
              "      <td>20</td>\n",
              "      <td>PM</td>\n",
              "      <td>00:57:52</td>\n",
              "      <td>19:46:08</td>\n",
              "      <td>835.0</td>\n",
              "      <td>279.0</td>\n",
              "      <td>556.0</td>\n",
              "    </tr>\n",
              "    <tr>\n",
              "      <th>1</th>\n",
              "      <td>False</td>\n",
              "      <td>Bestbuy.com</td>\n",
              "      <td>https://www.bestbuy.com/site/lenovo-100s-14ibr...</td>\n",
              "      <td>B06ZY63J8H</td>\n",
              "      <td>Lenovo</td>\n",
              "      <td>Electronics,Computers,Laptops,Laptops By Brand...</td>\n",
              "      <td>190793918948,lenovo100s14ibr14laptopintelceler...</td>\n",
              "      <td>100s-14ibr</td>\n",
              "      <td>Lenovo - 100S-14IBR 14 Laptop - Intel Celeron ...</td>\n",
              "      <td>4.3 pounds</td>\n",
              "      <td>229.99</td>\n",
              "      <td>IN STOCK</td>\n",
              "      <td>NEW</td>\n",
              "      <td>2017</td>\n",
              "      <td>10</td>\n",
              "      <td>10</td>\n",
              "      <td>2</td>\n",
              "      <td>2</td>\n",
              "      <td>AM</td>\n",
              "      <td>18:22:32</td>\n",
              "      <td>06:06:16</td>\n",
              "      <td>323.0</td>\n",
              "      <td>112.0</td>\n",
              "      <td>211.0</td>\n",
              "    </tr>\n",
              "    <tr>\n",
              "      <th>2</th>\n",
              "      <td>False</td>\n",
              "      <td>Bestbuy.com</td>\n",
              "      <td>https://www.bestbuy.com/site/house-of-marley-s...</td>\n",
              "      <td>B00G3P9UMU</td>\n",
              "      <td>House of Marley</td>\n",
              "      <td>Headphones,Consumer Electronics,Portable Audio...</td>\n",
              "      <td>0846885007037,houseofmarleysmilejamaicainearea...</td>\n",
              "      <td>EM-JE041-MI</td>\n",
              "      <td>House of Marley Smile Jamaica In-Ear Earbuds</td>\n",
              "      <td>0.6 ounces</td>\n",
              "      <td>16.99</td>\n",
              "      <td>IN STOCK</td>\n",
              "      <td>NEW</td>\n",
              "      <td>2017</td>\n",
              "      <td>10</td>\n",
              "      <td>10</td>\n",
              "      <td>2</td>\n",
              "      <td>19</td>\n",
              "      <td>PM</td>\n",
              "      <td>18:47:20</td>\n",
              "      <td>20:23:54</td>\n",
              "      <td>1296.0</td>\n",
              "      <td>218.0</td>\n",
              "      <td>1078.0</td>\n",
              "    </tr>\n",
              "    <tr>\n",
              "      <th>3</th>\n",
              "      <td>False</td>\n",
              "      <td>Bestbuy.com</td>\n",
              "      <td>https://www.bestbuy.com/site/products/6311012....</td>\n",
              "      <td>B00TTWZFFA</td>\n",
              "      <td>Sony</td>\n",
              "      <td>Electronics,Home Audio &amp; Theater,Home Audio,Al...</td>\n",
              "      <td>sonyultraportablebluetoothspeaker/sosrsx11bk,s...</td>\n",
              "      <td>SRSX11/BLK</td>\n",
              "      <td>Sony Ultra-Portable Bluetooth Speaker</td>\n",
              "      <td>1 pounds</td>\n",
              "      <td>69.99</td>\n",
              "      <td>IN STOCK</td>\n",
              "      <td>NEW</td>\n",
              "      <td>2017</td>\n",
              "      <td>9</td>\n",
              "      <td>18</td>\n",
              "      <td>1</td>\n",
              "      <td>13</td>\n",
              "      <td>PM</td>\n",
              "      <td>00:24:21</td>\n",
              "      <td>03:06:18</td>\n",
              "      <td>816.0</td>\n",
              "      <td>134.0</td>\n",
              "      <td>682.0</td>\n",
              "    </tr>\n",
              "    <tr>\n",
              "      <th>4</th>\n",
              "      <td>True</td>\n",
              "      <td>bhphotovideo.com</td>\n",
              "      <td>https://www.bhphotovideo.com/c/product/1105014...</td>\n",
              "      <td>B00MHPAF38</td>\n",
              "      <td>Sony</td>\n",
              "      <td>Digital Cameras,Cameras &amp; Photo,Used:Digital P...</td>\n",
              "      <td>sonyalphaa5100digitalcamerakitwith1650mmlenswh...</td>\n",
              "      <td>ILCE5100L/W</td>\n",
              "      <td>Alpha a5100 Mirrorless Digital Camera with 16-...</td>\n",
              "      <td>9.98 oz 4.09 oz</td>\n",
              "      <td>846.00</td>\n",
              "      <td>OUT OF STOCK</td>\n",
              "      <td>NEW</td>\n",
              "      <td>2017</td>\n",
              "      <td>12</td>\n",
              "      <td>5</td>\n",
              "      <td>2</td>\n",
              "      <td>13</td>\n",
              "      <td>PM</td>\n",
              "      <td>23:35:50</td>\n",
              "      <td>15:58:38</td>\n",
              "      <td>373.0</td>\n",
              "      <td>233.0</td>\n",
              "      <td>140.0</td>\n",
              "    </tr>\n",
              "  </tbody>\n",
              "</table>\n",
              "</div>"
            ],
            "text/plain": [
              "   prices.isSale   prices.merchant  ... dateDiffUpdated_Seen dateDiffSeen_Added\n",
              "0          False       Bestbuy.com  ...                279.0              556.0\n",
              "1          False       Bestbuy.com  ...                112.0              211.0\n",
              "2          False       Bestbuy.com  ...                218.0             1078.0\n",
              "3          False       Bestbuy.com  ...                134.0              682.0\n",
              "4           True  bhphotovideo.com  ...                233.0              140.0\n",
              "\n",
              "[5 rows x 24 columns]"
            ]
          },
          "metadata": {
            "tags": []
          },
          "execution_count": 73
        }
      ]
    },
    {
      "cell_type": "markdown",
      "metadata": {
        "id": "O7tuwYw0J6E-"
      },
      "source": [
        "##Feature Engineering\n"
      ]
    },
    {
      "cell_type": "code",
      "metadata": {
        "colab": {
          "base_uri": "https://localhost:8080/"
        },
        "id": "7IgAGxAuJ5Fi",
        "outputId": "ed163f02-34e8-410e-dc4a-deec27c07195"
      },
      "source": [
        "# prices.isSale boolean to binary encoding\n",
        "from sklearn.preprocessing import LabelBinarizer, LabelEncoder, OneHotEncoder\n",
        "!pip install category_encoders\n",
        "import category_encoders as ce"
      ],
      "execution_count": 74,
      "outputs": [
        {
          "output_type": "stream",
          "text": [
            "Collecting category_encoders\n",
            "\u001b[?25l  Downloading https://files.pythonhosted.org/packages/44/57/fcef41c248701ee62e8325026b90c432adea35555cbc870aff9cfba23727/category_encoders-2.2.2-py2.py3-none-any.whl (80kB)\n",
            "\r\u001b[K     |████                            | 10kB 19.0MB/s eta 0:00:01\r\u001b[K     |████████▏                       | 20kB 10.4MB/s eta 0:00:01\r\u001b[K     |████████████▏                   | 30kB 8.2MB/s eta 0:00:01\r\u001b[K     |████████████████▎               | 40kB 7.4MB/s eta 0:00:01\r\u001b[K     |████████████████████▎           | 51kB 4.4MB/s eta 0:00:01\r\u001b[K     |████████████████████████▍       | 61kB 4.7MB/s eta 0:00:01\r\u001b[K     |████████████████████████████▍   | 71kB 5.2MB/s eta 0:00:01\r\u001b[K     |████████████████████████████████| 81kB 3.9MB/s \n",
            "\u001b[?25hRequirement already satisfied: pandas>=0.21.1 in /usr/local/lib/python3.6/dist-packages (from category_encoders) (1.1.5)\n",
            "Requirement already satisfied: scipy>=1.0.0 in /usr/local/lib/python3.6/dist-packages (from category_encoders) (1.4.1)\n",
            "Requirement already satisfied: patsy>=0.5.1 in /usr/local/lib/python3.6/dist-packages (from category_encoders) (0.5.1)\n",
            "Requirement already satisfied: scikit-learn>=0.20.0 in /usr/local/lib/python3.6/dist-packages (from category_encoders) (0.22.2.post1)\n",
            "Requirement already satisfied: numpy>=1.14.0 in /usr/local/lib/python3.6/dist-packages (from category_encoders) (1.19.4)\n",
            "Requirement already satisfied: statsmodels>=0.9.0 in /usr/local/lib/python3.6/dist-packages (from category_encoders) (0.10.2)\n",
            "Requirement already satisfied: python-dateutil>=2.7.3 in /usr/local/lib/python3.6/dist-packages (from pandas>=0.21.1->category_encoders) (2.8.1)\n",
            "Requirement already satisfied: pytz>=2017.2 in /usr/local/lib/python3.6/dist-packages (from pandas>=0.21.1->category_encoders) (2018.9)\n",
            "Requirement already satisfied: six in /usr/local/lib/python3.6/dist-packages (from patsy>=0.5.1->category_encoders) (1.15.0)\n",
            "Requirement already satisfied: joblib>=0.11 in /usr/local/lib/python3.6/dist-packages (from scikit-learn>=0.20.0->category_encoders) (1.0.0)\n",
            "Installing collected packages: category-encoders\n",
            "Successfully installed category-encoders-2.2.2\n"
          ],
          "name": "stdout"
        },
        {
          "output_type": "stream",
          "text": [
            "/usr/local/lib/python3.6/dist-packages/statsmodels/tools/_testing.py:19: FutureWarning: pandas.util.testing is deprecated. Use the functions in the public API at pandas.testing instead.\n",
            "  import pandas.util.testing as tm\n"
          ],
          "name": "stderr"
        }
      ]
    },
    {
      "cell_type": "code",
      "metadata": {
        "id": "T9YRGuNeMfAK"
      },
      "source": [
        "ep_data_fe = ep_data.copy()"
      ],
      "execution_count": 75,
      "outputs": []
    },
    {
      "cell_type": "code",
      "metadata": {
        "colab": {
          "base_uri": "https://localhost:8080/"
        },
        "id": "FjCdIgzLZhV-",
        "outputId": "ebde7d0b-33cc-46f6-cc5d-9ff2da5a939e"
      },
      "source": [
        "ep_data_fe.columns"
      ],
      "execution_count": 76,
      "outputs": [
        {
          "output_type": "execute_result",
          "data": {
            "text/plain": [
              "Index(['prices.isSale', 'prices.merchant', 'prices.sourceURLs', 'asins',\n",
              "       'brand', 'categories', 'keys', 'manufacturerNumber', 'name', 'weight',\n",
              "       'price', 'availability_cleaned', 'condition_cleaned',\n",
              "       'latestDateSeenYear', 'latestDateSeenMonth', 'latestDateSeenDay',\n",
              "       'latestDateSeenDayOfWeek', 'latestTimeSeen24H', 'latestTimeSeenAMPM',\n",
              "       'timeAdded_cleaned', 'timeUpdated_cleaned', 'dateDiffUpdated_Added',\n",
              "       'dateDiffUpdated_Seen', 'dateDiffSeen_Added'],\n",
              "      dtype='object')"
            ]
          },
          "metadata": {
            "tags": []
          },
          "execution_count": 76
        }
      ]
    },
    {
      "cell_type": "code",
      "metadata": {
        "colab": {
          "base_uri": "https://localhost:8080/",
          "height": 655
        },
        "id": "2tqNgWXEZpI_",
        "outputId": "7813a6be-4cec-4450-fea9-6d2b0d030b2e"
      },
      "source": [
        "bin_encoder = ce.BinaryEncoder(cols=['prices.isSale','latestTimeSeenAMPM'])\n",
        "tmp = bin_encoder.fit_transform(ep_data_fe)\n",
        "\n",
        "ohe_encoder = ce.OneHotEncoder(cols=['condition_cleaned'])\n",
        "tmp = ohe_encoder.fit_transform(tmp)\n",
        "\n",
        "tmp.head()"
      ],
      "execution_count": 77,
      "outputs": [
        {
          "output_type": "stream",
          "text": [
            "/usr/local/lib/python3.6/dist-packages/category_encoders/utils.py:21: FutureWarning: is_categorical is deprecated and will be removed in a future version.  Use is_categorical_dtype instead\n",
            "  elif pd.api.types.is_categorical(cols):\n",
            "/usr/local/lib/python3.6/dist-packages/category_encoders/utils.py:21: FutureWarning: is_categorical is deprecated and will be removed in a future version.  Use is_categorical_dtype instead\n",
            "  elif pd.api.types.is_categorical(cols):\n"
          ],
          "name": "stderr"
        },
        {
          "output_type": "execute_result",
          "data": {
            "text/html": [
              "<div>\n",
              "<style scoped>\n",
              "    .dataframe tbody tr th:only-of-type {\n",
              "        vertical-align: middle;\n",
              "    }\n",
              "\n",
              "    .dataframe tbody tr th {\n",
              "        vertical-align: top;\n",
              "    }\n",
              "\n",
              "    .dataframe thead th {\n",
              "        text-align: right;\n",
              "    }\n",
              "</style>\n",
              "<table border=\"1\" class=\"dataframe\">\n",
              "  <thead>\n",
              "    <tr style=\"text-align: right;\">\n",
              "      <th></th>\n",
              "      <th>prices.isSale_0</th>\n",
              "      <th>prices.isSale_1</th>\n",
              "      <th>prices.merchant</th>\n",
              "      <th>prices.sourceURLs</th>\n",
              "      <th>asins</th>\n",
              "      <th>brand</th>\n",
              "      <th>categories</th>\n",
              "      <th>keys</th>\n",
              "      <th>manufacturerNumber</th>\n",
              "      <th>name</th>\n",
              "      <th>weight</th>\n",
              "      <th>price</th>\n",
              "      <th>availability_cleaned</th>\n",
              "      <th>condition_cleaned_1</th>\n",
              "      <th>condition_cleaned_2</th>\n",
              "      <th>condition_cleaned_3</th>\n",
              "      <th>condition_cleaned_4</th>\n",
              "      <th>latestDateSeenYear</th>\n",
              "      <th>latestDateSeenMonth</th>\n",
              "      <th>latestDateSeenDay</th>\n",
              "      <th>latestDateSeenDayOfWeek</th>\n",
              "      <th>latestTimeSeen24H</th>\n",
              "      <th>latestTimeSeenAMPM_0</th>\n",
              "      <th>latestTimeSeenAMPM_1</th>\n",
              "      <th>timeAdded_cleaned</th>\n",
              "      <th>timeUpdated_cleaned</th>\n",
              "      <th>dateDiffUpdated_Added</th>\n",
              "      <th>dateDiffUpdated_Seen</th>\n",
              "      <th>dateDiffSeen_Added</th>\n",
              "    </tr>\n",
              "  </thead>\n",
              "  <tbody>\n",
              "    <tr>\n",
              "      <th>0</th>\n",
              "      <td>0</td>\n",
              "      <td>1</td>\n",
              "      <td>Bestbuy.com</td>\n",
              "      <td>http://www.bestbuy.com/site/products/7100293.p...</td>\n",
              "      <td>B00I9HD8PK</td>\n",
              "      <td>Grace Digital</td>\n",
              "      <td>Electronics,Home Audio &amp; Theater,Home Audio,Al...</td>\n",
              "      <td>819127010485,ecoxgearecostonebluetoothspeaker/...</td>\n",
              "      <td>GDI-EGST701</td>\n",
              "      <td>EcoXGear Ecostone Bluetooth Speaker</td>\n",
              "      <td>3 pounds</td>\n",
              "      <td>92.99</td>\n",
              "      <td>IN STOCK</td>\n",
              "      <td>1</td>\n",
              "      <td>0</td>\n",
              "      <td>0</td>\n",
              "      <td>0</td>\n",
              "      <td>2017</td>\n",
              "      <td>5</td>\n",
              "      <td>10</td>\n",
              "      <td>3</td>\n",
              "      <td>20</td>\n",
              "      <td>0</td>\n",
              "      <td>1</td>\n",
              "      <td>00:57:52</td>\n",
              "      <td>19:46:08</td>\n",
              "      <td>835.0</td>\n",
              "      <td>279.0</td>\n",
              "      <td>556.0</td>\n",
              "    </tr>\n",
              "    <tr>\n",
              "      <th>1</th>\n",
              "      <td>0</td>\n",
              "      <td>1</td>\n",
              "      <td>Bestbuy.com</td>\n",
              "      <td>https://www.bestbuy.com/site/lenovo-100s-14ibr...</td>\n",
              "      <td>B06ZY63J8H</td>\n",
              "      <td>Lenovo</td>\n",
              "      <td>Electronics,Computers,Laptops,Laptops By Brand...</td>\n",
              "      <td>190793918948,lenovo100s14ibr14laptopintelceler...</td>\n",
              "      <td>100s-14ibr</td>\n",
              "      <td>Lenovo - 100S-14IBR 14 Laptop - Intel Celeron ...</td>\n",
              "      <td>4.3 pounds</td>\n",
              "      <td>229.99</td>\n",
              "      <td>IN STOCK</td>\n",
              "      <td>1</td>\n",
              "      <td>0</td>\n",
              "      <td>0</td>\n",
              "      <td>0</td>\n",
              "      <td>2017</td>\n",
              "      <td>10</td>\n",
              "      <td>10</td>\n",
              "      <td>2</td>\n",
              "      <td>2</td>\n",
              "      <td>1</td>\n",
              "      <td>0</td>\n",
              "      <td>18:22:32</td>\n",
              "      <td>06:06:16</td>\n",
              "      <td>323.0</td>\n",
              "      <td>112.0</td>\n",
              "      <td>211.0</td>\n",
              "    </tr>\n",
              "    <tr>\n",
              "      <th>2</th>\n",
              "      <td>0</td>\n",
              "      <td>1</td>\n",
              "      <td>Bestbuy.com</td>\n",
              "      <td>https://www.bestbuy.com/site/house-of-marley-s...</td>\n",
              "      <td>B00G3P9UMU</td>\n",
              "      <td>House of Marley</td>\n",
              "      <td>Headphones,Consumer Electronics,Portable Audio...</td>\n",
              "      <td>0846885007037,houseofmarleysmilejamaicainearea...</td>\n",
              "      <td>EM-JE041-MI</td>\n",
              "      <td>House of Marley Smile Jamaica In-Ear Earbuds</td>\n",
              "      <td>0.6 ounces</td>\n",
              "      <td>16.99</td>\n",
              "      <td>IN STOCK</td>\n",
              "      <td>1</td>\n",
              "      <td>0</td>\n",
              "      <td>0</td>\n",
              "      <td>0</td>\n",
              "      <td>2017</td>\n",
              "      <td>10</td>\n",
              "      <td>10</td>\n",
              "      <td>2</td>\n",
              "      <td>19</td>\n",
              "      <td>0</td>\n",
              "      <td>1</td>\n",
              "      <td>18:47:20</td>\n",
              "      <td>20:23:54</td>\n",
              "      <td>1296.0</td>\n",
              "      <td>218.0</td>\n",
              "      <td>1078.0</td>\n",
              "    </tr>\n",
              "    <tr>\n",
              "      <th>3</th>\n",
              "      <td>0</td>\n",
              "      <td>1</td>\n",
              "      <td>Bestbuy.com</td>\n",
              "      <td>https://www.bestbuy.com/site/products/6311012....</td>\n",
              "      <td>B00TTWZFFA</td>\n",
              "      <td>Sony</td>\n",
              "      <td>Electronics,Home Audio &amp; Theater,Home Audio,Al...</td>\n",
              "      <td>sonyultraportablebluetoothspeaker/sosrsx11bk,s...</td>\n",
              "      <td>SRSX11/BLK</td>\n",
              "      <td>Sony Ultra-Portable Bluetooth Speaker</td>\n",
              "      <td>1 pounds</td>\n",
              "      <td>69.99</td>\n",
              "      <td>IN STOCK</td>\n",
              "      <td>1</td>\n",
              "      <td>0</td>\n",
              "      <td>0</td>\n",
              "      <td>0</td>\n",
              "      <td>2017</td>\n",
              "      <td>9</td>\n",
              "      <td>18</td>\n",
              "      <td>1</td>\n",
              "      <td>13</td>\n",
              "      <td>0</td>\n",
              "      <td>1</td>\n",
              "      <td>00:24:21</td>\n",
              "      <td>03:06:18</td>\n",
              "      <td>816.0</td>\n",
              "      <td>134.0</td>\n",
              "      <td>682.0</td>\n",
              "    </tr>\n",
              "    <tr>\n",
              "      <th>4</th>\n",
              "      <td>1</td>\n",
              "      <td>0</td>\n",
              "      <td>bhphotovideo.com</td>\n",
              "      <td>https://www.bhphotovideo.com/c/product/1105014...</td>\n",
              "      <td>B00MHPAF38</td>\n",
              "      <td>Sony</td>\n",
              "      <td>Digital Cameras,Cameras &amp; Photo,Used:Digital P...</td>\n",
              "      <td>sonyalphaa5100digitalcamerakitwith1650mmlenswh...</td>\n",
              "      <td>ILCE5100L/W</td>\n",
              "      <td>Alpha a5100 Mirrorless Digital Camera with 16-...</td>\n",
              "      <td>9.98 oz 4.09 oz</td>\n",
              "      <td>846.00</td>\n",
              "      <td>OUT OF STOCK</td>\n",
              "      <td>1</td>\n",
              "      <td>0</td>\n",
              "      <td>0</td>\n",
              "      <td>0</td>\n",
              "      <td>2017</td>\n",
              "      <td>12</td>\n",
              "      <td>5</td>\n",
              "      <td>2</td>\n",
              "      <td>13</td>\n",
              "      <td>0</td>\n",
              "      <td>1</td>\n",
              "      <td>23:35:50</td>\n",
              "      <td>15:58:38</td>\n",
              "      <td>373.0</td>\n",
              "      <td>233.0</td>\n",
              "      <td>140.0</td>\n",
              "    </tr>\n",
              "  </tbody>\n",
              "</table>\n",
              "</div>"
            ],
            "text/plain": [
              "   prices.isSale_0  prices.isSale_1  ... dateDiffUpdated_Seen dateDiffSeen_Added\n",
              "0                0                1  ...                279.0              556.0\n",
              "1                0                1  ...                112.0              211.0\n",
              "2                0                1  ...                218.0             1078.0\n",
              "3                0                1  ...                134.0              682.0\n",
              "4                1                0  ...                233.0              140.0\n",
              "\n",
              "[5 rows x 29 columns]"
            ]
          },
          "metadata": {
            "tags": []
          },
          "execution_count": 77
        }
      ]
    },
    {
      "cell_type": "markdown",
      "metadata": {
        "id": "zZX445dAJM6R"
      },
      "source": [
        "##Feature Importance\n"
      ]
    },
    {
      "cell_type": "code",
      "metadata": {
        "colab": {
          "base_uri": "https://localhost:8080/",
          "height": 492
        },
        "id": "md3-COQRuWy9",
        "outputId": "709ee72d-4166-4254-9777-504e37dbf47d"
      },
      "source": [
        "corr_mat = tmp[['price','latestTimeSeen24H','latestDateSeenDay','latestDateSeenDayOfWeek','prices.isSale_0','prices.isSale_1','latestTimeSeenAMPM_0','latestTimeSeenAMPM_1','dateDiffUpdated_Added', 'dateDiffUpdated_Seen',\n",
        "       'dateDiffSeen_Added','condition_cleaned_1','condition_cleaned_2','condition_cleaned_3','condition_cleaned_4']].corr()\n",
        "fig, ax = plt.subplots(1,1, squeeze=False, figsize=(20,6))\n",
        "_ = sns.heatmap(corr_mat, annot=True, cmap='RdYlGn')"
      ],
      "execution_count": 78,
      "outputs": [
        {
          "output_type": "display_data",
          "data": {
            "image/png": "[encoded data removed]",
            "text/plain": [
              "<Figure size 1440x432 with 2 Axes>"
            ]
          },
          "metadata": {
            "tags": [],
            "needs_background": "light"
          }
        }
      ]
    }
  ]
}
